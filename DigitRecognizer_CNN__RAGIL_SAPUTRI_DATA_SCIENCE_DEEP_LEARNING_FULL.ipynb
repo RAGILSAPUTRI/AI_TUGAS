{
  "metadata": {
    "kernelspec": {
      "language": "python",
      "display_name": "Python 3",
      "name": "python3"
    },
    "language_info": {
      "name": "python",
      "version": "3.10.12",
      "mimetype": "text/x-python",
      "codemirror_mode": {
        "name": "ipython",
        "version": 3
      },
      "pygments_lexer": "ipython3",
      "nbconvert_exporter": "python",
      "file_extension": ".py"
    },
    "kaggle": {
      "accelerator": "none",
      "dataSources": [
        {
          "sourceId": 3004,
          "databundleVersionId": 861823,
          "sourceType": "competition"
        },
        {
          "sourceId": 3107,
          "sourceType": "modelInstanceVersion",
          "modelInstanceId": 2320,
          "modelId": 271
        }
      ],
      "dockerImageVersionId": 30587,
      "isInternetEnabled": false,
      "language": "python",
      "sourceType": "notebook",
      "isGpuEnabled": false
    },
    "colab": {
      "provenance": [],
      "include_colab_link": true
    }
  },
  "nbformat_minor": 0,
  "nbformat": 4,
  "cells": [
    {
      "cell_type": "markdown",
      "metadata": {
        "id": "view-in-github",
        "colab_type": "text"
      },
      "source": [
        "<a href=\"https://colab.research.google.com/github/RAGILSAPUTRI/AI_TUGAS/blob/main/DigitRecognizer_CNN__RAGIL_SAPUTRI_DATA_SCIENCE_DEEP_LEARNING_FULL.ipynb\" target=\"_parent\"><img src=\"https://colab.research.google.com/assets/colab-badge.svg\" alt=\"Open In Colab\"/></a>"
      ]
    },
    {
      "cell_type": "code",
      "source": [
        "import numpy as np # linear algebra\n",
        "import pandas as pd # data processing, CSV file I/O (e.g. pd.read_csv)\n",
        "import matplotlib.pyplot as plt\n",
        "\n",
        "import tensorflow as tf\n",
        "from tensorflow import keras\n",
        "from tensorflow.keras import layers,models\n",
        "from tensorflow.keras.callbacks import EarlyStopping\n",
        "from tensorflow.keras.applications import ResNet50\n",
        "from tensorflow.keras.layers import Input, GlobalAveragePooling2D\n",
        "from tensorflow.keras.utils import to_categorical\n",
        "from keras.callbacks import ReduceLROnPlateau\n"
      ],
      "metadata": {
        "trusted": true,
        "id": "uMLMlMEJQJ5h"
      },
      "outputs": [],
      "execution_count": 2
    },
    {
      "cell_type": "code",
      "source": [
        "df_train = pd.read_csv('train.csv')\n",
        "df_test = pd.read_csv('test.csv')"
      ],
      "metadata": {
        "execution": {
          "iopub.status.busy": "2023-12-03T16:15:02.701493Z",
          "iopub.execute_input": "2023-12-03T16:15:02.703613Z",
          "iopub.status.idle": "2023-12-03T16:15:09.749296Z",
          "shell.execute_reply.started": "2023-12-03T16:15:02.703565Z",
          "shell.execute_reply": "2023-12-03T16:15:09.748275Z"
        },
        "trusted": true,
        "id": "fp3tSnxbQJ5i"
      },
      "outputs": [],
      "execution_count": 3
    },
    {
      "cell_type": "code",
      "source": [
        "df_train.head(10)"
      ],
      "metadata": {
        "execution": {
          "iopub.status.busy": "2023-12-03T16:15:09.750545Z",
          "iopub.execute_input": "2023-12-03T16:15:09.750914Z",
          "iopub.status.idle": "2023-12-03T16:15:09.785915Z",
          "shell.execute_reply.started": "2023-12-03T16:15:09.75088Z",
          "shell.execute_reply": "2023-12-03T16:15:09.784798Z"
        },
        "trusted": true,
        "id": "h3SZajQ8QJ5i",
        "outputId": "e3ea10b0-4d8d-4fa5-aa5e-8696c873ecba",
        "colab": {
          "base_uri": "https://localhost:8080/",
          "height": 412
        }
      },
      "outputs": [
        {
          "output_type": "execute_result",
          "data": {
            "text/plain": [
              "   label  pixel0  pixel1  pixel2  pixel3  pixel4  pixel5  pixel6  pixel7  \\\n",
              "0      1       0       0       0       0       0       0       0       0   \n",
              "1      0       0       0       0       0       0       0       0       0   \n",
              "2      1       0       0       0       0       0       0       0       0   \n",
              "3      4       0       0       0       0       0       0       0       0   \n",
              "4      0       0       0       0       0       0       0       0       0   \n",
              "5      0       0       0       0       0       0       0       0       0   \n",
              "6      7       0       0       0       0       0       0       0       0   \n",
              "7      3       0       0       0       0       0       0       0       0   \n",
              "8      5       0       0       0       0       0       0       0       0   \n",
              "9      3       0       0       0       0       0       0       0       0   \n",
              "\n",
              "   pixel8  ...  pixel774  pixel775  pixel776  pixel777  pixel778  pixel779  \\\n",
              "0       0  ...         0         0         0         0         0         0   \n",
              "1       0  ...         0         0         0         0         0         0   \n",
              "2       0  ...         0         0         0         0         0         0   \n",
              "3       0  ...         0         0         0         0         0         0   \n",
              "4       0  ...         0         0         0         0         0         0   \n",
              "5       0  ...         0         0         0         0         0         0   \n",
              "6       0  ...         0         0         0         0         0         0   \n",
              "7       0  ...         0         0         0         0         0         0   \n",
              "8       0  ...         0         0         0         0         0         0   \n",
              "9       0  ...         0         0         0         0         0         0   \n",
              "\n",
              "   pixel780  pixel781  pixel782  pixel783  \n",
              "0         0         0         0         0  \n",
              "1         0         0         0         0  \n",
              "2         0         0         0         0  \n",
              "3         0         0         0         0  \n",
              "4         0         0         0         0  \n",
              "5         0         0         0         0  \n",
              "6         0         0         0         0  \n",
              "7         0         0         0         0  \n",
              "8         0         0         0         0  \n",
              "9         0         0         0         0  \n",
              "\n",
              "[10 rows x 785 columns]"
            ],
            "text/html": [
              "\n",
              "  <div id=\"df-23e589fa-6f5d-44a0-9a9c-b6de00e50eb7\" class=\"colab-df-container\">\n",
              "    <div>\n",
              "<style scoped>\n",
              "    .dataframe tbody tr th:only-of-type {\n",
              "        vertical-align: middle;\n",
              "    }\n",
              "\n",
              "    .dataframe tbody tr th {\n",
              "        vertical-align: top;\n",
              "    }\n",
              "\n",
              "    .dataframe thead th {\n",
              "        text-align: right;\n",
              "    }\n",
              "</style>\n",
              "<table border=\"1\" class=\"dataframe\">\n",
              "  <thead>\n",
              "    <tr style=\"text-align: right;\">\n",
              "      <th></th>\n",
              "      <th>label</th>\n",
              "      <th>pixel0</th>\n",
              "      <th>pixel1</th>\n",
              "      <th>pixel2</th>\n",
              "      <th>pixel3</th>\n",
              "      <th>pixel4</th>\n",
              "      <th>pixel5</th>\n",
              "      <th>pixel6</th>\n",
              "      <th>pixel7</th>\n",
              "      <th>pixel8</th>\n",
              "      <th>...</th>\n",
              "      <th>pixel774</th>\n",
              "      <th>pixel775</th>\n",
              "      <th>pixel776</th>\n",
              "      <th>pixel777</th>\n",
              "      <th>pixel778</th>\n",
              "      <th>pixel779</th>\n",
              "      <th>pixel780</th>\n",
              "      <th>pixel781</th>\n",
              "      <th>pixel782</th>\n",
              "      <th>pixel783</th>\n",
              "    </tr>\n",
              "  </thead>\n",
              "  <tbody>\n",
              "    <tr>\n",
              "      <th>0</th>\n",
              "      <td>1</td>\n",
              "      <td>0</td>\n",
              "      <td>0</td>\n",
              "      <td>0</td>\n",
              "      <td>0</td>\n",
              "      <td>0</td>\n",
              "      <td>0</td>\n",
              "      <td>0</td>\n",
              "      <td>0</td>\n",
              "      <td>0</td>\n",
              "      <td>...</td>\n",
              "      <td>0</td>\n",
              "      <td>0</td>\n",
              "      <td>0</td>\n",
              "      <td>0</td>\n",
              "      <td>0</td>\n",
              "      <td>0</td>\n",
              "      <td>0</td>\n",
              "      <td>0</td>\n",
              "      <td>0</td>\n",
              "      <td>0</td>\n",
              "    </tr>\n",
              "    <tr>\n",
              "      <th>1</th>\n",
              "      <td>0</td>\n",
              "      <td>0</td>\n",
              "      <td>0</td>\n",
              "      <td>0</td>\n",
              "      <td>0</td>\n",
              "      <td>0</td>\n",
              "      <td>0</td>\n",
              "      <td>0</td>\n",
              "      <td>0</td>\n",
              "      <td>0</td>\n",
              "      <td>...</td>\n",
              "      <td>0</td>\n",
              "      <td>0</td>\n",
              "      <td>0</td>\n",
              "      <td>0</td>\n",
              "      <td>0</td>\n",
              "      <td>0</td>\n",
              "      <td>0</td>\n",
              "      <td>0</td>\n",
              "      <td>0</td>\n",
              "      <td>0</td>\n",
              "    </tr>\n",
              "    <tr>\n",
              "      <th>2</th>\n",
              "      <td>1</td>\n",
              "      <td>0</td>\n",
              "      <td>0</td>\n",
              "      <td>0</td>\n",
              "      <td>0</td>\n",
              "      <td>0</td>\n",
              "      <td>0</td>\n",
              "      <td>0</td>\n",
              "      <td>0</td>\n",
              "      <td>0</td>\n",
              "      <td>...</td>\n",
              "      <td>0</td>\n",
              "      <td>0</td>\n",
              "      <td>0</td>\n",
              "      <td>0</td>\n",
              "      <td>0</td>\n",
              "      <td>0</td>\n",
              "      <td>0</td>\n",
              "      <td>0</td>\n",
              "      <td>0</td>\n",
              "      <td>0</td>\n",
              "    </tr>\n",
              "    <tr>\n",
              "      <th>3</th>\n",
              "      <td>4</td>\n",
              "      <td>0</td>\n",
              "      <td>0</td>\n",
              "      <td>0</td>\n",
              "      <td>0</td>\n",
              "      <td>0</td>\n",
              "      <td>0</td>\n",
              "      <td>0</td>\n",
              "      <td>0</td>\n",
              "      <td>0</td>\n",
              "      <td>...</td>\n",
              "      <td>0</td>\n",
              "      <td>0</td>\n",
              "      <td>0</td>\n",
              "      <td>0</td>\n",
              "      <td>0</td>\n",
              "      <td>0</td>\n",
              "      <td>0</td>\n",
              "      <td>0</td>\n",
              "      <td>0</td>\n",
              "      <td>0</td>\n",
              "    </tr>\n",
              "    <tr>\n",
              "      <th>4</th>\n",
              "      <td>0</td>\n",
              "      <td>0</td>\n",
              "      <td>0</td>\n",
              "      <td>0</td>\n",
              "      <td>0</td>\n",
              "      <td>0</td>\n",
              "      <td>0</td>\n",
              "      <td>0</td>\n",
              "      <td>0</td>\n",
              "      <td>0</td>\n",
              "      <td>...</td>\n",
              "      <td>0</td>\n",
              "      <td>0</td>\n",
              "      <td>0</td>\n",
              "      <td>0</td>\n",
              "      <td>0</td>\n",
              "      <td>0</td>\n",
              "      <td>0</td>\n",
              "      <td>0</td>\n",
              "      <td>0</td>\n",
              "      <td>0</td>\n",
              "    </tr>\n",
              "    <tr>\n",
              "      <th>5</th>\n",
              "      <td>0</td>\n",
              "      <td>0</td>\n",
              "      <td>0</td>\n",
              "      <td>0</td>\n",
              "      <td>0</td>\n",
              "      <td>0</td>\n",
              "      <td>0</td>\n",
              "      <td>0</td>\n",
              "      <td>0</td>\n",
              "      <td>0</td>\n",
              "      <td>...</td>\n",
              "      <td>0</td>\n",
              "      <td>0</td>\n",
              "      <td>0</td>\n",
              "      <td>0</td>\n",
              "      <td>0</td>\n",
              "      <td>0</td>\n",
              "      <td>0</td>\n",
              "      <td>0</td>\n",
              "      <td>0</td>\n",
              "      <td>0</td>\n",
              "    </tr>\n",
              "    <tr>\n",
              "      <th>6</th>\n",
              "      <td>7</td>\n",
              "      <td>0</td>\n",
              "      <td>0</td>\n",
              "      <td>0</td>\n",
              "      <td>0</td>\n",
              "      <td>0</td>\n",
              "      <td>0</td>\n",
              "      <td>0</td>\n",
              "      <td>0</td>\n",
              "      <td>0</td>\n",
              "      <td>...</td>\n",
              "      <td>0</td>\n",
              "      <td>0</td>\n",
              "      <td>0</td>\n",
              "      <td>0</td>\n",
              "      <td>0</td>\n",
              "      <td>0</td>\n",
              "      <td>0</td>\n",
              "      <td>0</td>\n",
              "      <td>0</td>\n",
              "      <td>0</td>\n",
              "    </tr>\n",
              "    <tr>\n",
              "      <th>7</th>\n",
              "      <td>3</td>\n",
              "      <td>0</td>\n",
              "      <td>0</td>\n",
              "      <td>0</td>\n",
              "      <td>0</td>\n",
              "      <td>0</td>\n",
              "      <td>0</td>\n",
              "      <td>0</td>\n",
              "      <td>0</td>\n",
              "      <td>0</td>\n",
              "      <td>...</td>\n",
              "      <td>0</td>\n",
              "      <td>0</td>\n",
              "      <td>0</td>\n",
              "      <td>0</td>\n",
              "      <td>0</td>\n",
              "      <td>0</td>\n",
              "      <td>0</td>\n",
              "      <td>0</td>\n",
              "      <td>0</td>\n",
              "      <td>0</td>\n",
              "    </tr>\n",
              "    <tr>\n",
              "      <th>8</th>\n",
              "      <td>5</td>\n",
              "      <td>0</td>\n",
              "      <td>0</td>\n",
              "      <td>0</td>\n",
              "      <td>0</td>\n",
              "      <td>0</td>\n",
              "      <td>0</td>\n",
              "      <td>0</td>\n",
              "      <td>0</td>\n",
              "      <td>0</td>\n",
              "      <td>...</td>\n",
              "      <td>0</td>\n",
              "      <td>0</td>\n",
              "      <td>0</td>\n",
              "      <td>0</td>\n",
              "      <td>0</td>\n",
              "      <td>0</td>\n",
              "      <td>0</td>\n",
              "      <td>0</td>\n",
              "      <td>0</td>\n",
              "      <td>0</td>\n",
              "    </tr>\n",
              "    <tr>\n",
              "      <th>9</th>\n",
              "      <td>3</td>\n",
              "      <td>0</td>\n",
              "      <td>0</td>\n",
              "      <td>0</td>\n",
              "      <td>0</td>\n",
              "      <td>0</td>\n",
              "      <td>0</td>\n",
              "      <td>0</td>\n",
              "      <td>0</td>\n",
              "      <td>0</td>\n",
              "      <td>...</td>\n",
              "      <td>0</td>\n",
              "      <td>0</td>\n",
              "      <td>0</td>\n",
              "      <td>0</td>\n",
              "      <td>0</td>\n",
              "      <td>0</td>\n",
              "      <td>0</td>\n",
              "      <td>0</td>\n",
              "      <td>0</td>\n",
              "      <td>0</td>\n",
              "    </tr>\n",
              "  </tbody>\n",
              "</table>\n",
              "<p>10 rows × 785 columns</p>\n",
              "</div>\n",
              "    <div class=\"colab-df-buttons\">\n",
              "\n",
              "  <div class=\"colab-df-container\">\n",
              "    <button class=\"colab-df-convert\" onclick=\"convertToInteractive('df-23e589fa-6f5d-44a0-9a9c-b6de00e50eb7')\"\n",
              "            title=\"Convert this dataframe to an interactive table.\"\n",
              "            style=\"display:none;\">\n",
              "\n",
              "  <svg xmlns=\"http://www.w3.org/2000/svg\" height=\"24px\" viewBox=\"0 -960 960 960\">\n",
              "    <path d=\"M120-120v-720h720v720H120Zm60-500h600v-160H180v160Zm220 220h160v-160H400v160Zm0 220h160v-160H400v160ZM180-400h160v-160H180v160Zm440 0h160v-160H620v160ZM180-180h160v-160H180v160Zm440 0h160v-160H620v160Z\"/>\n",
              "  </svg>\n",
              "    </button>\n",
              "\n",
              "  <style>\n",
              "    .colab-df-container {\n",
              "      display:flex;\n",
              "      gap: 12px;\n",
              "    }\n",
              "\n",
              "    .colab-df-convert {\n",
              "      background-color: #E8F0FE;\n",
              "      border: none;\n",
              "      border-radius: 50%;\n",
              "      cursor: pointer;\n",
              "      display: none;\n",
              "      fill: #1967D2;\n",
              "      height: 32px;\n",
              "      padding: 0 0 0 0;\n",
              "      width: 32px;\n",
              "    }\n",
              "\n",
              "    .colab-df-convert:hover {\n",
              "      background-color: #E2EBFA;\n",
              "      box-shadow: 0px 1px 2px rgba(60, 64, 67, 0.3), 0px 1px 3px 1px rgba(60, 64, 67, 0.15);\n",
              "      fill: #174EA6;\n",
              "    }\n",
              "\n",
              "    .colab-df-buttons div {\n",
              "      margin-bottom: 4px;\n",
              "    }\n",
              "\n",
              "    [theme=dark] .colab-df-convert {\n",
              "      background-color: #3B4455;\n",
              "      fill: #D2E3FC;\n",
              "    }\n",
              "\n",
              "    [theme=dark] .colab-df-convert:hover {\n",
              "      background-color: #434B5C;\n",
              "      box-shadow: 0px 1px 3px 1px rgba(0, 0, 0, 0.15);\n",
              "      filter: drop-shadow(0px 1px 2px rgba(0, 0, 0, 0.3));\n",
              "      fill: #FFFFFF;\n",
              "    }\n",
              "  </style>\n",
              "\n",
              "    <script>\n",
              "      const buttonEl =\n",
              "        document.querySelector('#df-23e589fa-6f5d-44a0-9a9c-b6de00e50eb7 button.colab-df-convert');\n",
              "      buttonEl.style.display =\n",
              "        google.colab.kernel.accessAllowed ? 'block' : 'none';\n",
              "\n",
              "      async function convertToInteractive(key) {\n",
              "        const element = document.querySelector('#df-23e589fa-6f5d-44a0-9a9c-b6de00e50eb7');\n",
              "        const dataTable =\n",
              "          await google.colab.kernel.invokeFunction('convertToInteractive',\n",
              "                                                    [key], {});\n",
              "        if (!dataTable) return;\n",
              "\n",
              "        const docLinkHtml = 'Like what you see? Visit the ' +\n",
              "          '<a target=\"_blank\" href=https://colab.research.google.com/notebooks/data_table.ipynb>data table notebook</a>'\n",
              "          + ' to learn more about interactive tables.';\n",
              "        element.innerHTML = '';\n",
              "        dataTable['output_type'] = 'display_data';\n",
              "        await google.colab.output.renderOutput(dataTable, element);\n",
              "        const docLink = document.createElement('div');\n",
              "        docLink.innerHTML = docLinkHtml;\n",
              "        element.appendChild(docLink);\n",
              "      }\n",
              "    </script>\n",
              "  </div>\n",
              "\n",
              "\n",
              "    <div id=\"df-f46f64e2-cf51-4803-84f2-affc8702a023\">\n",
              "      <button class=\"colab-df-quickchart\" onclick=\"quickchart('df-f46f64e2-cf51-4803-84f2-affc8702a023')\"\n",
              "                title=\"Suggest charts\"\n",
              "                style=\"display:none;\">\n",
              "\n",
              "<svg xmlns=\"http://www.w3.org/2000/svg\" height=\"24px\"viewBox=\"0 0 24 24\"\n",
              "     width=\"24px\">\n",
              "    <g>\n",
              "        <path d=\"M19 3H5c-1.1 0-2 .9-2 2v14c0 1.1.9 2 2 2h14c1.1 0 2-.9 2-2V5c0-1.1-.9-2-2-2zM9 17H7v-7h2v7zm4 0h-2V7h2v10zm4 0h-2v-4h2v4z\"/>\n",
              "    </g>\n",
              "</svg>\n",
              "      </button>\n",
              "\n",
              "<style>\n",
              "  .colab-df-quickchart {\n",
              "      --bg-color: #E8F0FE;\n",
              "      --fill-color: #1967D2;\n",
              "      --hover-bg-color: #E2EBFA;\n",
              "      --hover-fill-color: #174EA6;\n",
              "      --disabled-fill-color: #AAA;\n",
              "      --disabled-bg-color: #DDD;\n",
              "  }\n",
              "\n",
              "  [theme=dark] .colab-df-quickchart {\n",
              "      --bg-color: #3B4455;\n",
              "      --fill-color: #D2E3FC;\n",
              "      --hover-bg-color: #434B5C;\n",
              "      --hover-fill-color: #FFFFFF;\n",
              "      --disabled-bg-color: #3B4455;\n",
              "      --disabled-fill-color: #666;\n",
              "  }\n",
              "\n",
              "  .colab-df-quickchart {\n",
              "    background-color: var(--bg-color);\n",
              "    border: none;\n",
              "    border-radius: 50%;\n",
              "    cursor: pointer;\n",
              "    display: none;\n",
              "    fill: var(--fill-color);\n",
              "    height: 32px;\n",
              "    padding: 0;\n",
              "    width: 32px;\n",
              "  }\n",
              "\n",
              "  .colab-df-quickchart:hover {\n",
              "    background-color: var(--hover-bg-color);\n",
              "    box-shadow: 0 1px 2px rgba(60, 64, 67, 0.3), 0 1px 3px 1px rgba(60, 64, 67, 0.15);\n",
              "    fill: var(--button-hover-fill-color);\n",
              "  }\n",
              "\n",
              "  .colab-df-quickchart-complete:disabled,\n",
              "  .colab-df-quickchart-complete:disabled:hover {\n",
              "    background-color: var(--disabled-bg-color);\n",
              "    fill: var(--disabled-fill-color);\n",
              "    box-shadow: none;\n",
              "  }\n",
              "\n",
              "  .colab-df-spinner {\n",
              "    border: 2px solid var(--fill-color);\n",
              "    border-color: transparent;\n",
              "    border-bottom-color: var(--fill-color);\n",
              "    animation:\n",
              "      spin 1s steps(1) infinite;\n",
              "  }\n",
              "\n",
              "  @keyframes spin {\n",
              "    0% {\n",
              "      border-color: transparent;\n",
              "      border-bottom-color: var(--fill-color);\n",
              "      border-left-color: var(--fill-color);\n",
              "    }\n",
              "    20% {\n",
              "      border-color: transparent;\n",
              "      border-left-color: var(--fill-color);\n",
              "      border-top-color: var(--fill-color);\n",
              "    }\n",
              "    30% {\n",
              "      border-color: transparent;\n",
              "      border-left-color: var(--fill-color);\n",
              "      border-top-color: var(--fill-color);\n",
              "      border-right-color: var(--fill-color);\n",
              "    }\n",
              "    40% {\n",
              "      border-color: transparent;\n",
              "      border-right-color: var(--fill-color);\n",
              "      border-top-color: var(--fill-color);\n",
              "    }\n",
              "    60% {\n",
              "      border-color: transparent;\n",
              "      border-right-color: var(--fill-color);\n",
              "    }\n",
              "    80% {\n",
              "      border-color: transparent;\n",
              "      border-right-color: var(--fill-color);\n",
              "      border-bottom-color: var(--fill-color);\n",
              "    }\n",
              "    90% {\n",
              "      border-color: transparent;\n",
              "      border-bottom-color: var(--fill-color);\n",
              "    }\n",
              "  }\n",
              "</style>\n",
              "\n",
              "      <script>\n",
              "        async function quickchart(key) {\n",
              "          const quickchartButtonEl =\n",
              "            document.querySelector('#' + key + ' button');\n",
              "          quickchartButtonEl.disabled = true;  // To prevent multiple clicks.\n",
              "          quickchartButtonEl.classList.add('colab-df-spinner');\n",
              "          try {\n",
              "            const charts = await google.colab.kernel.invokeFunction(\n",
              "                'suggestCharts', [key], {});\n",
              "          } catch (error) {\n",
              "            console.error('Error during call to suggestCharts:', error);\n",
              "          }\n",
              "          quickchartButtonEl.classList.remove('colab-df-spinner');\n",
              "          quickchartButtonEl.classList.add('colab-df-quickchart-complete');\n",
              "        }\n",
              "        (() => {\n",
              "          let quickchartButtonEl =\n",
              "            document.querySelector('#df-f46f64e2-cf51-4803-84f2-affc8702a023 button');\n",
              "          quickchartButtonEl.style.display =\n",
              "            google.colab.kernel.accessAllowed ? 'block' : 'none';\n",
              "        })();\n",
              "      </script>\n",
              "    </div>\n",
              "\n",
              "    </div>\n",
              "  </div>\n"
            ],
            "application/vnd.google.colaboratory.intrinsic+json": {
              "type": "dataframe",
              "variable_name": "df_train"
            }
          },
          "metadata": {},
          "execution_count": 4
        }
      ],
      "execution_count": 4
    },
    {
      "cell_type": "code",
      "source": [
        "df_train.isnull().sum()"
      ],
      "metadata": {
        "execution": {
          "iopub.status.busy": "2023-12-03T16:15:13.842391Z",
          "iopub.execute_input": "2023-12-03T16:15:13.842802Z",
          "iopub.status.idle": "2023-12-03T16:15:13.880617Z",
          "shell.execute_reply.started": "2023-12-03T16:15:13.842771Z",
          "shell.execute_reply": "2023-12-03T16:15:13.879454Z"
        },
        "trusted": true,
        "id": "JHUGTK6fQJ5j",
        "outputId": "b773b293-40ee-4aa2-eb47-eb9634a184dd",
        "colab": {
          "base_uri": "https://localhost:8080/",
          "height": 458
        }
      },
      "outputs": [
        {
          "output_type": "execute_result",
          "data": {
            "text/plain": [
              "label       0\n",
              "pixel0      0\n",
              "pixel1      0\n",
              "pixel2      0\n",
              "pixel3      0\n",
              "           ..\n",
              "pixel779    0\n",
              "pixel780    0\n",
              "pixel781    0\n",
              "pixel782    0\n",
              "pixel783    0\n",
              "Length: 785, dtype: int64"
            ],
            "text/html": [
              "<div>\n",
              "<style scoped>\n",
              "    .dataframe tbody tr th:only-of-type {\n",
              "        vertical-align: middle;\n",
              "    }\n",
              "\n",
              "    .dataframe tbody tr th {\n",
              "        vertical-align: top;\n",
              "    }\n",
              "\n",
              "    .dataframe thead th {\n",
              "        text-align: right;\n",
              "    }\n",
              "</style>\n",
              "<table border=\"1\" class=\"dataframe\">\n",
              "  <thead>\n",
              "    <tr style=\"text-align: right;\">\n",
              "      <th></th>\n",
              "      <th>0</th>\n",
              "    </tr>\n",
              "  </thead>\n",
              "  <tbody>\n",
              "    <tr>\n",
              "      <th>label</th>\n",
              "      <td>0</td>\n",
              "    </tr>\n",
              "    <tr>\n",
              "      <th>pixel0</th>\n",
              "      <td>0</td>\n",
              "    </tr>\n",
              "    <tr>\n",
              "      <th>pixel1</th>\n",
              "      <td>0</td>\n",
              "    </tr>\n",
              "    <tr>\n",
              "      <th>pixel2</th>\n",
              "      <td>0</td>\n",
              "    </tr>\n",
              "    <tr>\n",
              "      <th>pixel3</th>\n",
              "      <td>0</td>\n",
              "    </tr>\n",
              "    <tr>\n",
              "      <th>...</th>\n",
              "      <td>...</td>\n",
              "    </tr>\n",
              "    <tr>\n",
              "      <th>pixel779</th>\n",
              "      <td>0</td>\n",
              "    </tr>\n",
              "    <tr>\n",
              "      <th>pixel780</th>\n",
              "      <td>0</td>\n",
              "    </tr>\n",
              "    <tr>\n",
              "      <th>pixel781</th>\n",
              "      <td>0</td>\n",
              "    </tr>\n",
              "    <tr>\n",
              "      <th>pixel782</th>\n",
              "      <td>0</td>\n",
              "    </tr>\n",
              "    <tr>\n",
              "      <th>pixel783</th>\n",
              "      <td>0</td>\n",
              "    </tr>\n",
              "  </tbody>\n",
              "</table>\n",
              "<p>785 rows × 1 columns</p>\n",
              "</div><br><label><b>dtype:</b> int64</label>"
            ]
          },
          "metadata": {},
          "execution_count": 5
        }
      ],
      "execution_count": 5
    },
    {
      "cell_type": "markdown",
      "source": [
        "#Transformasi Data (Data Transformation)\n",
        "1. Normalisasi & Reshape"
      ],
      "metadata": {
        "id": "DZWCDH_bJa8U"
      }
    },
    {
      "cell_type": "code",
      "source": [
        "y_train  = df_train['label'].values # np array of all the labels (42000, )\n",
        "X_train = df_train.drop(columns=['label']).values.reshape(-1,28,28,1)/255.0 # drop the labels and reshape (num_rows, height , width , channel)\n",
        "X_test = df_test.values.reshape(-1, 28, 28, 1) / 255.0 # /255.0 --> ormalizing these pixel values to the range [0, 1]"
      ],
      "metadata": {
        "execution": {
          "iopub.status.busy": "2023-12-03T16:15:17.774663Z",
          "iopub.execute_input": "2023-12-03T16:15:17.775111Z",
          "iopub.status.idle": "2023-12-03T16:15:18.131911Z",
          "shell.execute_reply.started": "2023-12-03T16:15:17.775075Z",
          "shell.execute_reply": "2023-12-03T16:15:18.13063Z"
        },
        "trusted": true,
        "id": "WNtI3HhTQJ5j"
      },
      "outputs": [],
      "execution_count": 6
    },
    {
      "cell_type": "markdown",
      "source": [
        "#Encoding"
      ],
      "metadata": {
        "id": "sE_XLydVKQio"
      }
    },
    {
      "cell_type": "code",
      "source": [
        "y_train_encoded = to_categorical(y_train, num_classes=10)"
      ],
      "metadata": {
        "execution": {
          "iopub.status.busy": "2023-12-03T16:15:20.990819Z",
          "iopub.execute_input": "2023-12-03T16:15:20.991256Z",
          "iopub.status.idle": "2023-12-03T16:15:20.996685Z",
          "shell.execute_reply.started": "2023-12-03T16:15:20.991224Z",
          "shell.execute_reply": "2023-12-03T16:15:20.995472Z"
        },
        "trusted": true,
        "id": "s19ggqC_QJ5j"
      },
      "outputs": [],
      "execution_count": 7
    },
    {
      "cell_type": "markdown",
      "source": [
        "# <p style=\"background-color:#F8F1E8; font-family:newtimeroman;color:#602F44; font-size:150%; text-align:center; border-radius: 15px 50px;\"> Data Visualisasi\n",
        " 📊</p>\n",
        "\n"
      ],
      "metadata": {
        "id": "aKLfxEw5QJ5k"
      }
    },
    {
      "cell_type": "code",
      "source": [
        "fig , axes  = plt.subplots(2, 5, figsize=(12,5))\n",
        "axes   = axes.flatten()\n",
        "idx = np.random.randint(0, 42000, size=10)\n",
        "for i in range(10):\n",
        "    axes[i].imshow(X_train[idx[i], :].reshape(28,28), cmap='gray')\n",
        "    axes[i].axis('off') # hide the axes ticks\n",
        "    axes[i].set_title(str(int(y_train[idx[i]])), color='black', fontsize=25)\n",
        "plt.show()"
      ],
      "metadata": {
        "execution": {
          "iopub.status.busy": "2023-12-03T16:15:27.77372Z",
          "iopub.execute_input": "2023-12-03T16:15:27.774138Z",
          "iopub.status.idle": "2023-12-03T16:15:28.741596Z",
          "shell.execute_reply.started": "2023-12-03T16:15:27.774107Z",
          "shell.execute_reply": "2023-12-03T16:15:28.740278Z"
        },
        "trusted": true,
        "id": "SwvH5BgjQJ5k",
        "outputId": "4288b666-ebf3-433e-d313-ff64eae7071d",
        "colab": {
          "base_uri": "https://localhost:8080/",
          "height": 442
        }
      },
      "outputs": [
        {
          "output_type": "display_data",
          "data": {
            "text/plain": [
              "<Figure size 1200x500 with 10 Axes>"
            ],
            "image/png": "[encoded data removed]"
          },
          "metadata": {}
        }
      ],
      "execution_count": 33
    },
    {
      "cell_type": "markdown",
      "source": [
        "# <p style=\"background-color:#F8F1E8; font-family:newtimeroman;color:#602F44; font-size:150%; text-align:center; border-radius: 15px 50px;\"> Model ⚖️</p>\n"
      ],
      "metadata": {
        "id": "WdbR5wtcQJ5k"
      }
    },
    {
      "cell_type": "markdown",
      "source": [
        "#Arsitektur Model"
      ],
      "metadata": {
        "id": "MqeVl9gHFhlm"
      }
    },
    {
      "cell_type": "code",
      "source": [
        "model = models.Sequential([\n",
        "\n",
        "    layers.Conv2D(filters=64, kernel_size=3, padding='same', activation='relu', input_shape=(28,28,1)),\n",
        "    layers.Conv2D(filters=64, kernel_size=3, padding='same',activation='relu'),\n",
        "    layers.Conv2D(filters=128, kernel_size=3, padding='same',activation='relu'),\n",
        "    layers.MaxPool2D(pool_size=2),\n",
        "\n",
        "    layers.Conv2D(filters=128, kernel_size=3, padding='same',activation='relu'),\n",
        "    layers.Conv2D(filters=192, kernel_size=3, padding='same',activation='relu'),\n",
        "    layers.MaxPool2D(pool_size=2),\n",
        "\n",
        "    layers.Conv2D(filters=192, kernel_size=5, padding='same',activation='relu'),\n",
        "    layers.MaxPool2D(pool_size=2, padding='same'),\n",
        "\n",
        "    layers.Flatten(),\n",
        "\n",
        "    layers.Dense(units=256, activation='relu'),\n",
        "    layers.Dense(units=10, activation='softmax'),\n",
        "])\n"
      ],
      "metadata": {
        "execution": {
          "iopub.status.busy": "2023-12-03T16:15:32.705429Z",
          "iopub.execute_input": "2023-12-03T16:15:32.706691Z",
          "iopub.status.idle": "2023-12-03T16:15:33.062362Z",
          "shell.execute_reply.started": "2023-12-03T16:15:32.706637Z",
          "shell.execute_reply": "2023-12-03T16:15:33.060457Z"
        },
        "trusted": true,
        "id": "MucOE5PQQJ5l",
        "outputId": "719dd948-e740-4ed4-da85-f81a105d5755",
        "colab": {
          "base_uri": "https://localhost:8080/"
        }
      },
      "outputs": [
        {
          "output_type": "stream",
          "name": "stderr",
          "text": [
            "/usr/local/lib/python3.11/dist-packages/keras/src/layers/convolutional/base_conv.py:107: UserWarning: Do not pass an `input_shape`/`input_dim` argument to a layer. When using Sequential models, prefer using an `Input(shape)` object as the first layer in the model instead.\n",
            "  super().__init__(activity_regularizer=activity_regularizer, **kwargs)\n"
          ]
        }
      ],
      "execution_count": 10
    },
    {
      "cell_type": "code",
      "source": [
        "model.summary()"
      ],
      "metadata": {
        "execution": {
          "iopub.status.busy": "2023-12-03T16:15:36.792987Z",
          "iopub.execute_input": "2023-12-03T16:15:36.7934Z",
          "iopub.status.idle": "2023-12-03T16:15:36.834255Z",
          "shell.execute_reply.started": "2023-12-03T16:15:36.793369Z",
          "shell.execute_reply": "2023-12-03T16:15:36.833143Z"
        },
        "trusted": true,
        "id": "gEGHbQysQJ5l",
        "colab": {
          "base_uri": "https://localhost:8080/",
          "height": 529
        },
        "outputId": "c8385071-93b9-4135-b7ad-e2ab75ceb3e1"
      },
      "outputs": [
        {
          "output_type": "display_data",
          "data": {
            "text/plain": [
              "\u001b[1mModel: \"sequential\"\u001b[0m\n"
            ],
            "text/html": [
              "<pre style=\"white-space:pre;overflow-x:auto;line-height:normal;font-family:Menlo,'DejaVu Sans Mono',consolas,'Courier New',monospace\"><span style=\"font-weight: bold\">Model: \"sequential\"</span>\n",
              "</pre>\n"
            ]
          },
          "metadata": {}
        },
        {
          "output_type": "display_data",
          "data": {
            "text/plain": [
              "┏━━━━━━━━━━━━━━━━━━━━━━━━━━━━━━━━━┳━━━━━━━━━━━━━━━━━━━━━━━━┳━━━━━━━━━━━━━━━┓\n",
              "┃\u001b[1m \u001b[0m\u001b[1mLayer (type)                   \u001b[0m\u001b[1m \u001b[0m┃\u001b[1m \u001b[0m\u001b[1mOutput Shape          \u001b[0m\u001b[1m \u001b[0m┃\u001b[1m \u001b[0m\u001b[1m      Param #\u001b[0m\u001b[1m \u001b[0m┃\n",
              "┡━━━━━━━━━━━━━━━━━━━━━━━━━━━━━━━━━╇━━━━━━━━━━━━━━━━━━━━━━━━╇━━━━━━━━━━━━━━━┩\n",
              "│ conv2d (\u001b[38;5;33mConv2D\u001b[0m)                 │ (\u001b[38;5;45mNone\u001b[0m, \u001b[38;5;34m28\u001b[0m, \u001b[38;5;34m28\u001b[0m, \u001b[38;5;34m64\u001b[0m)     │           \u001b[38;5;34m640\u001b[0m │\n",
              "├─────────────────────────────────┼────────────────────────┼───────────────┤\n",
              "│ conv2d_1 (\u001b[38;5;33mConv2D\u001b[0m)               │ (\u001b[38;5;45mNone\u001b[0m, \u001b[38;5;34m28\u001b[0m, \u001b[38;5;34m28\u001b[0m, \u001b[38;5;34m64\u001b[0m)     │        \u001b[38;5;34m36,928\u001b[0m │\n",
              "├─────────────────────────────────┼────────────────────────┼───────────────┤\n",
              "│ conv2d_2 (\u001b[38;5;33mConv2D\u001b[0m)               │ (\u001b[38;5;45mNone\u001b[0m, \u001b[38;5;34m28\u001b[0m, \u001b[38;5;34m28\u001b[0m, \u001b[38;5;34m128\u001b[0m)    │        \u001b[38;5;34m73,856\u001b[0m │\n",
              "├─────────────────────────────────┼────────────────────────┼───────────────┤\n",
              "│ max_pooling2d (\u001b[38;5;33mMaxPooling2D\u001b[0m)    │ (\u001b[38;5;45mNone\u001b[0m, \u001b[38;5;34m14\u001b[0m, \u001b[38;5;34m14\u001b[0m, \u001b[38;5;34m128\u001b[0m)    │             \u001b[38;5;34m0\u001b[0m │\n",
              "├─────────────────────────────────┼────────────────────────┼───────────────┤\n",
              "│ conv2d_3 (\u001b[38;5;33mConv2D\u001b[0m)               │ (\u001b[38;5;45mNone\u001b[0m, \u001b[38;5;34m14\u001b[0m, \u001b[38;5;34m14\u001b[0m, \u001b[38;5;34m128\u001b[0m)    │       \u001b[38;5;34m147,584\u001b[0m │\n",
              "├─────────────────────────────────┼────────────────────────┼───────────────┤\n",
              "│ conv2d_4 (\u001b[38;5;33mConv2D\u001b[0m)               │ (\u001b[38;5;45mNone\u001b[0m, \u001b[38;5;34m14\u001b[0m, \u001b[38;5;34m14\u001b[0m, \u001b[38;5;34m192\u001b[0m)    │       \u001b[38;5;34m221,376\u001b[0m │\n",
              "├─────────────────────────────────┼────────────────────────┼───────────────┤\n",
              "│ max_pooling2d_1 (\u001b[38;5;33mMaxPooling2D\u001b[0m)  │ (\u001b[38;5;45mNone\u001b[0m, \u001b[38;5;34m7\u001b[0m, \u001b[38;5;34m7\u001b[0m, \u001b[38;5;34m192\u001b[0m)      │             \u001b[38;5;34m0\u001b[0m │\n",
              "├─────────────────────────────────┼────────────────────────┼───────────────┤\n",
              "│ conv2d_5 (\u001b[38;5;33mConv2D\u001b[0m)               │ (\u001b[38;5;45mNone\u001b[0m, \u001b[38;5;34m7\u001b[0m, \u001b[38;5;34m7\u001b[0m, \u001b[38;5;34m192\u001b[0m)      │       \u001b[38;5;34m921,792\u001b[0m │\n",
              "├─────────────────────────────────┼────────────────────────┼───────────────┤\n",
              "│ max_pooling2d_2 (\u001b[38;5;33mMaxPooling2D\u001b[0m)  │ (\u001b[38;5;45mNone\u001b[0m, \u001b[38;5;34m4\u001b[0m, \u001b[38;5;34m4\u001b[0m, \u001b[38;5;34m192\u001b[0m)      │             \u001b[38;5;34m0\u001b[0m │\n",
              "├─────────────────────────────────┼────────────────────────┼───────────────┤\n",
              "│ flatten (\u001b[38;5;33mFlatten\u001b[0m)               │ (\u001b[38;5;45mNone\u001b[0m, \u001b[38;5;34m3072\u001b[0m)           │             \u001b[38;5;34m0\u001b[0m │\n",
              "├─────────────────────────────────┼────────────────────────┼───────────────┤\n",
              "│ dense (\u001b[38;5;33mDense\u001b[0m)                   │ (\u001b[38;5;45mNone\u001b[0m, \u001b[38;5;34m256\u001b[0m)            │       \u001b[38;5;34m786,688\u001b[0m │\n",
              "├─────────────────────────────────┼────────────────────────┼───────────────┤\n",
              "│ dense_1 (\u001b[38;5;33mDense\u001b[0m)                 │ (\u001b[38;5;45mNone\u001b[0m, \u001b[38;5;34m10\u001b[0m)             │         \u001b[38;5;34m2,570\u001b[0m │\n",
              "└─────────────────────────────────┴────────────────────────┴───────────────┘\n"
            ],
            "text/html": [
              "<pre style=\"white-space:pre;overflow-x:auto;line-height:normal;font-family:Menlo,'DejaVu Sans Mono',consolas,'Courier New',monospace\">┏━━━━━━━━━━━━━━━━━━━━━━━━━━━━━━━━━┳━━━━━━━━━━━━━━━━━━━━━━━━┳━━━━━━━━━━━━━━━┓\n",
              "┃<span style=\"font-weight: bold\"> Layer (type)                    </span>┃<span style=\"font-weight: bold\"> Output Shape           </span>┃<span style=\"font-weight: bold\">       Param # </span>┃\n",
              "┡━━━━━━━━━━━━━━━━━━━━━━━━━━━━━━━━━╇━━━━━━━━━━━━━━━━━━━━━━━━╇━━━━━━━━━━━━━━━┩\n",
              "│ conv2d (<span style=\"color: #0087ff; text-decoration-color: #0087ff\">Conv2D</span>)                 │ (<span style=\"color: #00d7ff; text-decoration-color: #00d7ff\">None</span>, <span style=\"color: #00af00; text-decoration-color: #00af00\">28</span>, <span style=\"color: #00af00; text-decoration-color: #00af00\">28</span>, <span style=\"color: #00af00; text-decoration-color: #00af00\">64</span>)     │           <span style=\"color: #00af00; text-decoration-color: #00af00\">640</span> │\n",
              "├─────────────────────────────────┼────────────────────────┼───────────────┤\n",
              "│ conv2d_1 (<span style=\"color: #0087ff; text-decoration-color: #0087ff\">Conv2D</span>)               │ (<span style=\"color: #00d7ff; text-decoration-color: #00d7ff\">None</span>, <span style=\"color: #00af00; text-decoration-color: #00af00\">28</span>, <span style=\"color: #00af00; text-decoration-color: #00af00\">28</span>, <span style=\"color: #00af00; text-decoration-color: #00af00\">64</span>)     │        <span style=\"color: #00af00; text-decoration-color: #00af00\">36,928</span> │\n",
              "├─────────────────────────────────┼────────────────────────┼───────────────┤\n",
              "│ conv2d_2 (<span style=\"color: #0087ff; text-decoration-color: #0087ff\">Conv2D</span>)               │ (<span style=\"color: #00d7ff; text-decoration-color: #00d7ff\">None</span>, <span style=\"color: #00af00; text-decoration-color: #00af00\">28</span>, <span style=\"color: #00af00; text-decoration-color: #00af00\">28</span>, <span style=\"color: #00af00; text-decoration-color: #00af00\">128</span>)    │        <span style=\"color: #00af00; text-decoration-color: #00af00\">73,856</span> │\n",
              "├─────────────────────────────────┼────────────────────────┼───────────────┤\n",
              "│ max_pooling2d (<span style=\"color: #0087ff; text-decoration-color: #0087ff\">MaxPooling2D</span>)    │ (<span style=\"color: #00d7ff; text-decoration-color: #00d7ff\">None</span>, <span style=\"color: #00af00; text-decoration-color: #00af00\">14</span>, <span style=\"color: #00af00; text-decoration-color: #00af00\">14</span>, <span style=\"color: #00af00; text-decoration-color: #00af00\">128</span>)    │             <span style=\"color: #00af00; text-decoration-color: #00af00\">0</span> │\n",
              "├─────────────────────────────────┼────────────────────────┼───────────────┤\n",
              "│ conv2d_3 (<span style=\"color: #0087ff; text-decoration-color: #0087ff\">Conv2D</span>)               │ (<span style=\"color: #00d7ff; text-decoration-color: #00d7ff\">None</span>, <span style=\"color: #00af00; text-decoration-color: #00af00\">14</span>, <span style=\"color: #00af00; text-decoration-color: #00af00\">14</span>, <span style=\"color: #00af00; text-decoration-color: #00af00\">128</span>)    │       <span style=\"color: #00af00; text-decoration-color: #00af00\">147,584</span> │\n",
              "├─────────────────────────────────┼────────────────────────┼───────────────┤\n",
              "│ conv2d_4 (<span style=\"color: #0087ff; text-decoration-color: #0087ff\">Conv2D</span>)               │ (<span style=\"color: #00d7ff; text-decoration-color: #00d7ff\">None</span>, <span style=\"color: #00af00; text-decoration-color: #00af00\">14</span>, <span style=\"color: #00af00; text-decoration-color: #00af00\">14</span>, <span style=\"color: #00af00; text-decoration-color: #00af00\">192</span>)    │       <span style=\"color: #00af00; text-decoration-color: #00af00\">221,376</span> │\n",
              "├─────────────────────────────────┼────────────────────────┼───────────────┤\n",
              "│ max_pooling2d_1 (<span style=\"color: #0087ff; text-decoration-color: #0087ff\">MaxPooling2D</span>)  │ (<span style=\"color: #00d7ff; text-decoration-color: #00d7ff\">None</span>, <span style=\"color: #00af00; text-decoration-color: #00af00\">7</span>, <span style=\"color: #00af00; text-decoration-color: #00af00\">7</span>, <span style=\"color: #00af00; text-decoration-color: #00af00\">192</span>)      │             <span style=\"color: #00af00; text-decoration-color: #00af00\">0</span> │\n",
              "├─────────────────────────────────┼────────────────────────┼───────────────┤\n",
              "│ conv2d_5 (<span style=\"color: #0087ff; text-decoration-color: #0087ff\">Conv2D</span>)               │ (<span style=\"color: #00d7ff; text-decoration-color: #00d7ff\">None</span>, <span style=\"color: #00af00; text-decoration-color: #00af00\">7</span>, <span style=\"color: #00af00; text-decoration-color: #00af00\">7</span>, <span style=\"color: #00af00; text-decoration-color: #00af00\">192</span>)      │       <span style=\"color: #00af00; text-decoration-color: #00af00\">921,792</span> │\n",
              "├─────────────────────────────────┼────────────────────────┼───────────────┤\n",
              "│ max_pooling2d_2 (<span style=\"color: #0087ff; text-decoration-color: #0087ff\">MaxPooling2D</span>)  │ (<span style=\"color: #00d7ff; text-decoration-color: #00d7ff\">None</span>, <span style=\"color: #00af00; text-decoration-color: #00af00\">4</span>, <span style=\"color: #00af00; text-decoration-color: #00af00\">4</span>, <span style=\"color: #00af00; text-decoration-color: #00af00\">192</span>)      │             <span style=\"color: #00af00; text-decoration-color: #00af00\">0</span> │\n",
              "├─────────────────────────────────┼────────────────────────┼───────────────┤\n",
              "│ flatten (<span style=\"color: #0087ff; text-decoration-color: #0087ff\">Flatten</span>)               │ (<span style=\"color: #00d7ff; text-decoration-color: #00d7ff\">None</span>, <span style=\"color: #00af00; text-decoration-color: #00af00\">3072</span>)           │             <span style=\"color: #00af00; text-decoration-color: #00af00\">0</span> │\n",
              "├─────────────────────────────────┼────────────────────────┼───────────────┤\n",
              "│ dense (<span style=\"color: #0087ff; text-decoration-color: #0087ff\">Dense</span>)                   │ (<span style=\"color: #00d7ff; text-decoration-color: #00d7ff\">None</span>, <span style=\"color: #00af00; text-decoration-color: #00af00\">256</span>)            │       <span style=\"color: #00af00; text-decoration-color: #00af00\">786,688</span> │\n",
              "├─────────────────────────────────┼────────────────────────┼───────────────┤\n",
              "│ dense_1 (<span style=\"color: #0087ff; text-decoration-color: #0087ff\">Dense</span>)                 │ (<span style=\"color: #00d7ff; text-decoration-color: #00d7ff\">None</span>, <span style=\"color: #00af00; text-decoration-color: #00af00\">10</span>)             │         <span style=\"color: #00af00; text-decoration-color: #00af00\">2,570</span> │\n",
              "└─────────────────────────────────┴────────────────────────┴───────────────┘\n",
              "</pre>\n"
            ]
          },
          "metadata": {}
        },
        {
          "output_type": "display_data",
          "data": {
            "text/plain": [
              "\u001b[1m Total params: \u001b[0m\u001b[38;5;34m2,191,434\u001b[0m (8.36 MB)\n"
            ],
            "text/html": [
              "<pre style=\"white-space:pre;overflow-x:auto;line-height:normal;font-family:Menlo,'DejaVu Sans Mono',consolas,'Courier New',monospace\"><span style=\"font-weight: bold\"> Total params: </span><span style=\"color: #00af00; text-decoration-color: #00af00\">2,191,434</span> (8.36 MB)\n",
              "</pre>\n"
            ]
          },
          "metadata": {}
        },
        {
          "output_type": "display_data",
          "data": {
            "text/plain": [
              "\u001b[1m Trainable params: \u001b[0m\u001b[38;5;34m2,191,434\u001b[0m (8.36 MB)\n"
            ],
            "text/html": [
              "<pre style=\"white-space:pre;overflow-x:auto;line-height:normal;font-family:Menlo,'DejaVu Sans Mono',consolas,'Courier New',monospace\"><span style=\"font-weight: bold\"> Trainable params: </span><span style=\"color: #00af00; text-decoration-color: #00af00\">2,191,434</span> (8.36 MB)\n",
              "</pre>\n"
            ]
          },
          "metadata": {}
        },
        {
          "output_type": "display_data",
          "data": {
            "text/plain": [
              "\u001b[1m Non-trainable params: \u001b[0m\u001b[38;5;34m0\u001b[0m (0.00 B)\n"
            ],
            "text/html": [
              "<pre style=\"white-space:pre;overflow-x:auto;line-height:normal;font-family:Menlo,'DejaVu Sans Mono',consolas,'Courier New',monospace\"><span style=\"font-weight: bold\"> Non-trainable params: </span><span style=\"color: #00af00; text-decoration-color: #00af00\">0</span> (0.00 B)\n",
              "</pre>\n"
            ]
          },
          "metadata": {}
        }
      ],
      "execution_count": 11
    },
    {
      "cell_type": "markdown",
      "source": [
        " #SPLIT DATA & Teknik Pelatihan dan Validasi & Metrik Evaluasi\n"
      ],
      "metadata": {
        "id": "GT1cCKP2Ktp5"
      }
    },
    {
      "cell_type": "code",
      "source": [
        "model.compile(loss='categorical_crossentropy', optimizer='adam', metrics=['accuracy'])\n",
        "\n",
        "reduce_lr = ReduceLROnPlateau(monitor='loss', factor=0.3, verbose=1,\n",
        "                              patience=2, min_lr=0.00000001)\n",
        "\n",
        "history = model.fit(\n",
        "    X_train, y_train_encoded,\n",
        "    epochs=25,\n",
        "    validation_split=0.1,\n",
        "    callbacks=[reduce_lr],\n",
        ")"
      ],
      "metadata": {
        "execution": {
          "iopub.status.busy": "2023-12-03T16:15:41.255662Z",
          "iopub.execute_input": "2023-12-03T16:15:41.256091Z",
          "iopub.status.idle": "2023-12-03T20:03:05.427198Z",
          "shell.execute_reply.started": "2023-12-03T16:15:41.256059Z",
          "shell.execute_reply": "2023-12-03T20:03:05.425297Z"
        },
        "trusted": true,
        "id": "Lpg517SqQJ5l",
        "colab": {
          "base_uri": "https://localhost:8080/"
        },
        "outputId": "905e37e0-f3dc-4956-950f-9ee9a05c7c6a"
      },
      "outputs": [
        {
          "output_type": "stream",
          "name": "stdout",
          "text": [
            "Epoch 1/25\n",
            "\u001b[1m1182/1182\u001b[0m \u001b[32m━━━━━━━━━━━━━━━━━━━━\u001b[0m\u001b[37m\u001b[0m \u001b[1m1135s\u001b[0m 957ms/step - accuracy: 0.8832 - loss: 0.3484 - val_accuracy: 0.9836 - val_loss: 0.0490 - learning_rate: 0.0010\n",
            "Epoch 2/25\n",
            "\u001b[1m1182/1182\u001b[0m \u001b[32m━━━━━━━━━━━━━━━━━━━━\u001b[0m\u001b[37m\u001b[0m \u001b[1m1151s\u001b[0m 948ms/step - accuracy: 0.9861 - loss: 0.0472 - val_accuracy: 0.9888 - val_loss: 0.0358 - learning_rate: 0.0010\n",
            "Epoch 3/25\n",
            "\u001b[1m1182/1182\u001b[0m \u001b[32m━━━━━━━━━━━━━━━━━━━━\u001b[0m\u001b[37m\u001b[0m \u001b[1m1169s\u001b[0m 954ms/step - accuracy: 0.9911 - loss: 0.0296 - val_accuracy: 0.9914 - val_loss: 0.0262 - learning_rate: 0.0010\n",
            "Epoch 4/25\n",
            "\u001b[1m1182/1182\u001b[0m \u001b[32m━━━━━━━━━━━━━━━━━━━━\u001b[0m\u001b[37m\u001b[0m \u001b[1m1169s\u001b[0m 960ms/step - accuracy: 0.9926 - loss: 0.0246 - val_accuracy: 0.9902 - val_loss: 0.0305 - learning_rate: 0.0010\n",
            "Epoch 5/25\n",
            "\u001b[1m1182/1182\u001b[0m \u001b[32m━━━━━━━━━━━━━━━━━━━━\u001b[0m\u001b[37m\u001b[0m \u001b[1m1157s\u001b[0m 956ms/step - accuracy: 0.9934 - loss: 0.0202 - val_accuracy: 0.9929 - val_loss: 0.0258 - learning_rate: 0.0010\n",
            "Epoch 6/25\n",
            "\u001b[1m1182/1182\u001b[0m \u001b[32m━━━━━━━━━━━━━━━━━━━━\u001b[0m\u001b[37m\u001b[0m \u001b[1m1171s\u001b[0m 964ms/step - accuracy: 0.9956 - loss: 0.0147 - val_accuracy: 0.9902 - val_loss: 0.0335 - learning_rate: 0.0010\n",
            "Epoch 7/25\n",
            "\u001b[1m1182/1182\u001b[0m \u001b[32m━━━━━━━━━━━━━━━━━━━━\u001b[0m\u001b[37m\u001b[0m \u001b[1m1154s\u001b[0m 957ms/step - accuracy: 0.9953 - loss: 0.0170 - val_accuracy: 0.9912 - val_loss: 0.0330 - learning_rate: 0.0010\n",
            "Epoch 8/25\n",
            "\u001b[1m1182/1182\u001b[0m \u001b[32m━━━━━━━━━━━━━━━━━━━━\u001b[0m\u001b[37m\u001b[0m \u001b[1m1137s\u001b[0m 962ms/step - accuracy: 0.9968 - loss: 0.0099 - val_accuracy: 0.9874 - val_loss: 0.0475 - learning_rate: 0.0010\n",
            "Epoch 9/25\n",
            "\u001b[1m1182/1182\u001b[0m \u001b[32m━━━━━━━━━━━━━━━━━━━━\u001b[0m\u001b[37m\u001b[0m \u001b[1m1162s\u001b[0m 963ms/step - accuracy: 0.9967 - loss: 0.0101 - val_accuracy: 0.9924 - val_loss: 0.0305 - learning_rate: 0.0010\n",
            "Epoch 10/25\n",
            "\u001b[1m1182/1182\u001b[0m \u001b[32m━━━━━━━━━━━━━━━━━━━━\u001b[0m\u001b[37m\u001b[0m \u001b[1m1136s\u001b[0m 961ms/step - accuracy: 0.9956 - loss: 0.0142 - val_accuracy: 0.9895 - val_loss: 0.0359 - learning_rate: 0.0010\n",
            "Epoch 11/25\n",
            "\u001b[1m1182/1182\u001b[0m \u001b[32m━━━━━━━━━━━━━━━━━━━━\u001b[0m\u001b[37m\u001b[0m \u001b[1m1160s\u001b[0m 960ms/step - accuracy: 0.9973 - loss: 0.0107 - val_accuracy: 0.9938 - val_loss: 0.0325 - learning_rate: 0.0010\n",
            "Epoch 12/25\n",
            "\u001b[1m1182/1182\u001b[0m \u001b[32m━━━━━━━━━━━━━━━━━━━━\u001b[0m\u001b[37m\u001b[0m \u001b[1m1125s\u001b[0m 952ms/step - accuracy: 0.9975 - loss: 0.0078 - val_accuracy: 0.9929 - val_loss: 0.0468 - learning_rate: 0.0010\n",
            "Epoch 13/25\n",
            "\u001b[1m1182/1182\u001b[0m \u001b[32m━━━━━━━━━━━━━━━━━━━━\u001b[0m\u001b[37m\u001b[0m \u001b[1m0s\u001b[0m 925ms/step - accuracy: 0.9964 - loss: 0.0125\n",
            "Epoch 13: ReduceLROnPlateau reducing learning rate to 0.0003000000142492354.\n",
            "\u001b[1m1182/1182\u001b[0m \u001b[32m━━━━━━━━━━━━━━━━━━━━\u001b[0m\u001b[37m\u001b[0m \u001b[1m1172s\u001b[0m 960ms/step - accuracy: 0.9964 - loss: 0.0125 - val_accuracy: 0.9933 - val_loss: 0.0314 - learning_rate: 0.0010\n",
            "Epoch 14/25\n",
            "\u001b[1m1182/1182\u001b[0m \u001b[32m━━━━━━━━━━━━━━━━━━━━\u001b[0m\u001b[37m\u001b[0m \u001b[1m1165s\u001b[0m 962ms/step - accuracy: 0.9993 - loss: 0.0022 - val_accuracy: 0.9943 - val_loss: 0.0267 - learning_rate: 3.0000e-04\n",
            "Epoch 15/25\n",
            "\u001b[1m1182/1182\u001b[0m \u001b[32m━━━━━━━━━━━━━━━━━━━━\u001b[0m\u001b[37m\u001b[0m \u001b[1m1162s\u001b[0m 963ms/step - accuracy: 0.9999 - loss: 1.4843e-04 - val_accuracy: 0.9945 - val_loss: 0.0308 - learning_rate: 3.0000e-04\n",
            "Epoch 16/25\n",
            "\u001b[1m1182/1182\u001b[0m \u001b[32m━━━━━━━━━━━━━━━━━━━━\u001b[0m\u001b[37m\u001b[0m \u001b[1m1137s\u001b[0m 962ms/step - accuracy: 1.0000 - loss: 2.8467e-05 - val_accuracy: 0.9948 - val_loss: 0.0317 - learning_rate: 3.0000e-04\n",
            "Epoch 17/25\n",
            "\u001b[1m1182/1182\u001b[0m \u001b[32m━━━━━━━━━━━━━━━━━━━━\u001b[0m\u001b[37m\u001b[0m \u001b[1m1155s\u001b[0m 956ms/step - accuracy: 1.0000 - loss: 4.9664e-06 - val_accuracy: 0.9948 - val_loss: 0.0329 - learning_rate: 3.0000e-04\n",
            "Epoch 18/25\n",
            "\u001b[1m1182/1182\u001b[0m \u001b[32m━━━━━━━━━━━━━━━━━━━━\u001b[0m\u001b[37m\u001b[0m \u001b[1m0s\u001b[0m 920ms/step - accuracy: 1.0000 - loss: 2.6364e-06\n",
            "Epoch 18: ReduceLROnPlateau reducing learning rate to 9.000000427477062e-05.\n",
            "\u001b[1m1182/1182\u001b[0m \u001b[32m━━━━━━━━━━━━━━━━━━━━\u001b[0m\u001b[37m\u001b[0m \u001b[1m1159s\u001b[0m 955ms/step - accuracy: 1.0000 - loss: 2.6365e-06 - val_accuracy: 0.9948 - val_loss: 0.0341 - learning_rate: 3.0000e-04\n",
            "Epoch 19/25\n",
            "\u001b[1m1182/1182\u001b[0m \u001b[32m━━━━━━━━━━━━━━━━━━━━\u001b[0m\u001b[37m\u001b[0m \u001b[1m1165s\u001b[0m 957ms/step - accuracy: 1.0000 - loss: 1.9413e-06 - val_accuracy: 0.9948 - val_loss: 0.0345 - learning_rate: 9.0000e-05\n",
            "Epoch 20/25\n",
            "\u001b[1m1182/1182\u001b[0m \u001b[32m━━━━━━━━━━━━━━━━━━━━\u001b[0m\u001b[37m\u001b[0m \u001b[1m0s\u001b[0m 927ms/step - accuracy: 1.0000 - loss: 1.3694e-06\n",
            "Epoch 20: ReduceLROnPlateau reducing learning rate to 2.700000040931627e-05.\n",
            "\u001b[1m1182/1182\u001b[0m \u001b[32m━━━━━━━━━━━━━━━━━━━━\u001b[0m\u001b[37m\u001b[0m \u001b[1m1167s\u001b[0m 962ms/step - accuracy: 1.0000 - loss: 1.3693e-06 - val_accuracy: 0.9948 - val_loss: 0.0350 - learning_rate: 9.0000e-05\n",
            "Epoch 21/25\n",
            "\u001b[1m1182/1182\u001b[0m \u001b[32m━━━━━━━━━━━━━━━━━━━━\u001b[0m\u001b[37m\u001b[0m \u001b[1m1155s\u001b[0m 956ms/step - accuracy: 1.0000 - loss: 8.3905e-07 - val_accuracy: 0.9948 - val_loss: 0.0353 - learning_rate: 2.7000e-05\n",
            "Epoch 22/25\n",
            "\u001b[1m1182/1182\u001b[0m \u001b[32m━━━━━━━━━━━━━━━━━━━━\u001b[0m\u001b[37m\u001b[0m \u001b[1m0s\u001b[0m 927ms/step - accuracy: 1.0000 - loss: 8.0897e-07\n",
            "Epoch 22: ReduceLROnPlateau reducing learning rate to 8.100000013655517e-06.\n",
            "\u001b[1m1182/1182\u001b[0m \u001b[32m━━━━━━━━━━━━━━━━━━━━\u001b[0m\u001b[37m\u001b[0m \u001b[1m1137s\u001b[0m 962ms/step - accuracy: 1.0000 - loss: 8.0895e-07 - val_accuracy: 0.9948 - val_loss: 0.0357 - learning_rate: 2.7000e-05\n",
            "Epoch 23/25\n",
            "\u001b[1m1182/1182\u001b[0m \u001b[32m━━━━━━━━━━━━━━━━━━━━\u001b[0m\u001b[37m\u001b[0m \u001b[1m1158s\u001b[0m 958ms/step - accuracy: 1.0000 - loss: 9.3566e-07 - val_accuracy: 0.9948 - val_loss: 0.0359 - learning_rate: 8.1000e-06\n",
            "Epoch 24/25\n",
            "\u001b[1m1182/1182\u001b[0m \u001b[32m━━━━━━━━━━━━━━━━━━━━\u001b[0m\u001b[37m\u001b[0m \u001b[1m0s\u001b[0m 927ms/step - accuracy: 1.0000 - loss: 5.9464e-07\n",
            "Epoch 24: ReduceLROnPlateau reducing learning rate to 2.429999949526973e-06.\n",
            "\u001b[1m1182/1182\u001b[0m \u001b[32m━━━━━━━━━━━━━━━━━━━━\u001b[0m\u001b[37m\u001b[0m \u001b[1m1165s\u001b[0m 962ms/step - accuracy: 1.0000 - loss: 5.9464e-07 - val_accuracy: 0.9948 - val_loss: 0.0362 - learning_rate: 8.1000e-06\n",
            "Epoch 25/25\n",
            "\u001b[1m1182/1182\u001b[0m \u001b[32m━━━━━━━━━━━━━━━━━━━━\u001b[0m\u001b[37m\u001b[0m \u001b[1m1162s\u001b[0m 961ms/step - accuracy: 1.0000 - loss: 5.0801e-07 - val_accuracy: 0.9948 - val_loss: 0.0363 - learning_rate: 2.4300e-06\n"
          ]
        }
      ],
      "execution_count": 12
    },
    {
      "cell_type": "code",
      "source": [
        "model.save(\"model_digit_recognizer.h5\")"
      ],
      "metadata": {
        "id": "xIORCRuVbZAc",
        "colab": {
          "base_uri": "https://localhost:8080/"
        },
        "outputId": "3d0e1e76-c593-4d09-fdf4-6e6e20f26a68"
      },
      "execution_count": 13,
      "outputs": [
        {
          "output_type": "stream",
          "name": "stderr",
          "text": [
            "WARNING:absl:You are saving your model as an HDF5 file via `model.save()` or `keras.saving.save_model(model)`. This file format is considered legacy. We recommend using instead the native Keras format, e.g. `model.save('my_model.keras')` or `keras.saving.save_model(model, 'my_model.keras')`. \n"
          ]
        }
      ]
    },
    {
      "cell_type": "markdown",
      "source": [
        "#FUNGSI LOSS"
      ],
      "metadata": {
        "id": "kzmo_lbWOAJA"
      }
    },
    {
      "cell_type": "code",
      "source": [
        "history_frame = pd.DataFrame(history.history)\n",
        "history_frame.loc[: , ['loss', 'val_loss']].plot()\n",
        "history_frame.loc[: , ['accuracy', 'val_accuracy']].plot()"
      ],
      "metadata": {
        "execution": {
          "iopub.status.busy": "2023-12-03T20:03:05.430106Z",
          "iopub.execute_input": "2023-12-03T20:03:05.430535Z",
          "iopub.status.idle": "2023-12-03T20:03:06.134157Z",
          "shell.execute_reply.started": "2023-12-03T20:03:05.430501Z",
          "shell.execute_reply": "2023-12-03T20:03:06.133119Z"
        },
        "trusted": true,
        "id": "qSv-D7UAQJ5l",
        "colab": {
          "base_uri": "https://localhost:8080/",
          "height": 861
        },
        "outputId": "1ceb8535-530a-4f19-fd59-e75f7b9d7157"
      },
      "outputs": [
        {
          "output_type": "execute_result",
          "data": {
            "text/plain": [
              "<Axes: >"
            ]
          },
          "metadata": {},
          "execution_count": 14
        },
        {
          "output_type": "display_data",
          "data": {
            "text/plain": [
              "<Figure size 640x480 with 1 Axes>"
            ],
            "image/png": "[encoded data removed]"
          },
          "metadata": {}
        },
        {
          "output_type": "display_data",
          "data": {
            "text/plain": [
              "<Figure size 640x480 with 1 Axes>"
            ],
            "image/png": "[encoded data removed]"
          },
          "metadata": {}
        }
      ],
      "execution_count": 14
    },
    {
      "cell_type": "code",
      "source": [
        "# Make predictions for competition submission\n",
        "predictions = model.predict(X_test)\n"
      ],
      "metadata": {
        "execution": {
          "iopub.status.busy": "2023-12-03T20:03:06.135862Z",
          "iopub.execute_input": "2023-12-03T20:03:06.137037Z",
          "iopub.status.idle": "2023-12-03T20:05:28.58813Z",
          "shell.execute_reply.started": "2023-12-03T20:03:06.136991Z",
          "shell.execute_reply": "2023-12-03T20:05:28.586912Z"
        },
        "trusted": true,
        "id": "YYUvaFhZQJ5m",
        "colab": {
          "base_uri": "https://localhost:8080/"
        },
        "outputId": "cd9fcbaa-4a9d-4014-9227-d916a8d86a2e"
      },
      "outputs": [
        {
          "output_type": "stream",
          "name": "stdout",
          "text": [
            "\u001b[1m875/875\u001b[0m \u001b[32m━━━━━━━━━━━━━━━━━━━━\u001b[0m\u001b[37m\u001b[0m \u001b[1m219s\u001b[0m 250ms/step\n"
          ]
        }
      ],
      "execution_count": 15
    },
    {
      "cell_type": "code",
      "source": [
        "predictions"
      ],
      "metadata": {
        "execution": {
          "iopub.status.busy": "2023-12-03T20:05:28.590685Z",
          "iopub.execute_input": "2023-12-03T20:05:28.591079Z",
          "iopub.status.idle": "2023-12-03T20:05:28.600877Z",
          "shell.execute_reply.started": "2023-12-03T20:05:28.591047Z",
          "shell.execute_reply": "2023-12-03T20:05:28.599758Z"
        },
        "trusted": true,
        "id": "mg5qGrMMQJ5m",
        "colab": {
          "base_uri": "https://localhost:8080/"
        },
        "outputId": "f2f45e95-4805-43b5-d229-d63a2ccd4595"
      },
      "outputs": [
        {
          "output_type": "execute_result",
          "data": {
            "text/plain": [
              "array([[0.0000000e+00, 6.3720353e-34, 9.9999994e-01, ..., 1.6631197e-27,\n",
              "        1.1905449e-31, 0.0000000e+00],\n",
              "       [9.9999994e-01, 2.0584614e-36, 3.9037759e-26, ..., 2.4268344e-25,\n",
              "        4.9027955e-30, 9.4966310e-25],\n",
              "       [5.4391609e-18, 2.9085558e-24, 5.9910390e-21, ..., 1.7953366e-17,\n",
              "        7.0028693e-14, 9.9999994e-01],\n",
              "       ...,\n",
              "       [0.0000000e+00, 3.1376807e-34, 1.3669990e-38, ..., 9.1327251e-38,\n",
              "        1.4069160e-30, 0.0000000e+00],\n",
              "       [1.4706083e-17, 7.3283436e-21, 6.4838682e-20, ..., 3.4183054e-15,\n",
              "        1.8005295e-16, 9.9999994e-01],\n",
              "       [0.0000000e+00, 4.3077779e-38, 9.9999994e-01, ..., 6.2831264e-30,\n",
              "        5.2094801e-34, 0.0000000e+00]], dtype=float32)"
            ]
          },
          "metadata": {},
          "execution_count": 16
        }
      ],
      "execution_count": 16
    },
    {
      "cell_type": "code",
      "source": [
        "# Convert the model's probability outputs to digit predictions\n",
        "predicted_labels = np.argmax(predictions, axis=1)\n",
        "\n",
        "# Create a DataFrame for the submission\n",
        "submission = pd.DataFrame({\n",
        "    \"ImageId\": range(1, len(predicted_labels) + 1),  # ImageId starts from 1\n",
        "    \"Label\": predicted_labels\n",
        "})\n",
        "\n",
        "# Save the DataFrame to a CSV file\n",
        "submission.to_csv('submission.csv', index=False)"
      ],
      "metadata": {
        "execution": {
          "iopub.status.busy": "2023-12-03T20:15:32.070228Z",
          "iopub.execute_input": "2023-12-03T20:15:32.071283Z",
          "iopub.status.idle": "2023-12-03T20:15:32.153392Z",
          "shell.execute_reply.started": "2023-12-03T20:15:32.071237Z",
          "shell.execute_reply": "2023-12-03T20:15:32.152019Z"
        },
        "trusted": true,
        "id": "SQeAV7raQJ5m"
      },
      "outputs": [],
      "execution_count": 17
    },
    {
      "cell_type": "code",
      "source": [
        "# Menyimpan model dalam format .h5\n",
        "model.save('model_digit_recognizer.h5')\n",
        "print(\"Model berhasil disimpan.\")\n"
      ],
      "metadata": {
        "id": "iq2ecse-v88s",
        "colab": {
          "base_uri": "https://localhost:8080/"
        },
        "outputId": "452984f8-73b5-4b8a-b839-6a0c66b19782"
      },
      "execution_count": 18,
      "outputs": [
        {
          "output_type": "stream",
          "name": "stderr",
          "text": [
            "WARNING:absl:You are saving your model as an HDF5 file via `model.save()` or `keras.saving.save_model(model)`. This file format is considered legacy. We recommend using instead the native Keras format, e.g. `model.save('my_model.keras')` or `keras.saving.save_model(model, 'my_model.keras')`. \n"
          ]
        },
        {
          "output_type": "stream",
          "name": "stdout",
          "text": [
            "Model berhasil disimpan.\n"
          ]
        }
      ]
    },
    {
      "cell_type": "markdown",
      "source": [
        "#UNTUK LOAD MODEL\n"
      ],
      "metadata": {
        "id": "j88iYkILbr2F"
      }
    },
    {
      "cell_type": "code",
      "source": [
        "from tensorflow.keras.models import load_model\n",
        "import numpy as np\n",
        "import matplotlib.pyplot as plt\n",
        "from PIL import Image\n",
        "\n",
        "# Memuat model yang sudah disimpan\n",
        "model = load_model('model_digit_recognizer.h5')\n",
        "print(\"Model berhasil dimuat.\")\n"
      ],
      "metadata": {
        "id": "pqG7gWxHv_Ze",
        "outputId": "0c784f93-f21a-48c1-8804-21446a2fb42c",
        "colab": {
          "base_uri": "https://localhost:8080/"
        }
      },
      "execution_count": 19,
      "outputs": [
        {
          "output_type": "stream",
          "name": "stderr",
          "text": [
            "WARNING:absl:Compiled the loaded model, but the compiled metrics have yet to be built. `model.compile_metrics` will be empty until you train or evaluate the model.\n"
          ]
        },
        {
          "output_type": "stream",
          "name": "stdout",
          "text": [
            "Model berhasil dimuat.\n"
          ]
        }
      ]
    },
    {
      "cell_type": "code",
      "source": [
        "from tensorflow.keras.models import load_model\n",
        "model = load_model(\"model_digit_recognizer.h5\")\n"
      ],
      "metadata": {
        "colab": {
          "base_uri": "https://localhost:8080/"
        },
        "id": "oG78oEOmb5NQ",
        "outputId": "f2b6cbf0-2c92-4574-e853-32e6d06996fb"
      },
      "execution_count": 20,
      "outputs": [
        {
          "output_type": "stream",
          "name": "stderr",
          "text": [
            "WARNING:absl:Compiled the loaded model, but the compiled metrics have yet to be built. `model.compile_metrics` will be empty until you train or evaluate the model.\n"
          ]
        }
      ]
    },
    {
      "cell_type": "markdown",
      "source": [
        "#INI"
      ],
      "metadata": {
        "id": "gZfMQ0j0EuGi"
      }
    },
    {
      "cell_type": "code",
      "source": [
        "# Membaca gambar (pastikan 28x28 piksel dan grayscale)\n",
        "image_path = 'Angka_1_wh.jpg'  # Ganti dengan nama file gambar kamu\n",
        "img = Image.open(image_path).convert('L')  # Convert ke grayscale\n",
        "img = img.resize((28, 28))  # Resize ke 28x28\n",
        "img_array = np.array(img)\n",
        "\n",
        "# Invers warna jika background putih (optional, tergantung gambar)\n",
        "img_array = 255 - img_array\n",
        "\n",
        "# Normalisasi dan ubah bentuk\n",
        "img_array = img_array / 255.0\n",
        "img_array = img_array.reshape(1, 28, 28, 1)\n",
        "\n",
        "# Prediksi\n",
        "prediction = model.predict(img_array)\n",
        "predicted_label = np.argmax(prediction)\n",
        "\n",
        "plt.imshow(img_array.reshape(28, 28), cmap='gray')\n",
        "plt.title(f'Prediksi: {predicted_label}')\n",
        "plt.axis('off')\n",
        "plt.show()\n"
      ],
      "metadata": {
        "id": "_iyOfG4_wCdD",
        "outputId": "3f316c37-981a-4fe8-e437-11390cc950ff",
        "colab": {
          "base_uri": "https://localhost:8080/",
          "height": 446
        }
      },
      "execution_count": 28,
      "outputs": [
        {
          "output_type": "stream",
          "name": "stdout",
          "text": [
            "\u001b[1m1/1\u001b[0m \u001b[32m━━━━━━━━━━━━━━━━━━━━\u001b[0m\u001b[37m\u001b[0m \u001b[1m0s\u001b[0m 51ms/step\n"
          ]
        },
        {
          "output_type": "display_data",
          "data": {
            "text/plain": [
              "<Figure size 640x480 with 1 Axes>"
            ],
            "image/png": "[encoded data removed]"
          },
          "metadata": {}
        }
      ]
    },
    {
      "cell_type": "code",
      "source": [
        "# Membaca gambar (pastikan 28x28 piksel dan grayscale)\n",
        "image_path = 'Angka_1.2_wh.jpg'  # Ganti dengan nama file gambar kamu\n",
        "img = Image.open(image_path).convert('L')  # Convert ke grayscale\n",
        "img = img.resize((28, 28))  # Resize ke 28x28\n",
        "img_array = np.array(img)\n",
        "\n",
        "# Invers warna jika background putih (optional, tergantung gambar)\n",
        "img_array = 255 - img_array\n",
        "\n",
        "# Normalisasi dan ubah bentuk\n",
        "img_array = img_array / 255.0\n",
        "img_array = img_array.reshape(1, 28, 28, 1)\n",
        "\n",
        "# Prediksi\n",
        "prediction = model.predict(img_array)\n",
        "predicted_label = np.argmax(prediction)\n",
        "\n",
        "plt.imshow(img_array.reshape(28, 28), cmap='gray')\n",
        "plt.title(f'Prediksi: {predicted_label}')\n",
        "plt.axis('off')\n",
        "plt.show()\n"
      ],
      "metadata": {
        "colab": {
          "base_uri": "https://localhost:8080/",
          "height": 446
        },
        "id": "jXkGzYbffSZK",
        "outputId": "8de48bc1-dab9-4973-c280-eb3888706334"
      },
      "execution_count": 29,
      "outputs": [
        {
          "output_type": "stream",
          "name": "stdout",
          "text": [
            "\u001b[1m1/1\u001b[0m \u001b[32m━━━━━━━━━━━━━━━━━━━━\u001b[0m\u001b[37m\u001b[0m \u001b[1m0s\u001b[0m 50ms/step\n"
          ]
        },
        {
          "output_type": "display_data",
          "data": {
            "text/plain": [
              "<Figure size 640x480 with 1 Axes>"
            ],
            "image/png": "[encoded data removed]"
          },
          "metadata": {}
        }
      ]
    },
    {
      "cell_type": "code",
      "source": [
        "# Membaca gambar (pastikan 28x28 piksel dan grayscale)\n",
        "image_path = 'Angka_1.3_wh.jpg'  # Ganti dengan nama file gambar kamu\n",
        "img = Image.open(image_path).convert('L')  # Convert ke grayscale\n",
        "img = img.resize((28, 28))  # Resize ke 28x28\n",
        "img_array = np.array(img)\n",
        "\n",
        "# Invers warna jika background putih (optional, tergantung gambar)\n",
        "img_array = 255 - img_array\n",
        "\n",
        "# Normalisasi dan ubah bentuk\n",
        "img_array = img_array / 255.0\n",
        "img_array = img_array.reshape(1, 28, 28, 1)\n",
        "\n",
        "# Prediksi\n",
        "prediction = model.predict(img_array)\n",
        "predicted_label = np.argmax(prediction)\n",
        "\n",
        "plt.imshow(img_array.reshape(28, 28), cmap='gray')\n",
        "plt.title(f'Prediksi: {predicted_label}')\n",
        "plt.axis('off')\n",
        "plt.show()\n"
      ],
      "metadata": {
        "colab": {
          "base_uri": "https://localhost:8080/",
          "height": 446
        },
        "id": "EB0Fg85Xj-eF",
        "outputId": "b45d1e9a-a122-4686-c830-8e827679ed11"
      },
      "execution_count": 31,
      "outputs": [
        {
          "output_type": "stream",
          "name": "stdout",
          "text": [
            "\u001b[1m1/1\u001b[0m \u001b[32m━━━━━━━━━━━━━━━━━━━━\u001b[0m\u001b[37m\u001b[0m \u001b[1m0s\u001b[0m 49ms/step\n"
          ]
        },
        {
          "output_type": "display_data",
          "data": {
            "text/plain": [
              "<Figure size 640x480 with 1 Axes>"
            ],
            "image/png": "[encoded data removed]"
          },
          "metadata": {}
        }
      ]
    },
    {
      "cell_type": "code",
      "source": [
        "# Membaca gambar (pastikan 28x28 piksel dan grayscale)\n",
        "image_path = 'Angka_1.4_wh.jpg'  # Ganti dengan nama file gambar kamu\n",
        "img = Image.open(image_path).convert('L')  # Convert ke grayscale\n",
        "img = img.resize((28, 28))  # Resize ke 28x28\n",
        "img_array = np.array(img)\n",
        "\n",
        "# Invers warna jika background putih (optional, tergantung gambar)\n",
        "img_array = 255 - img_array\n",
        "\n",
        "# Normalisasi dan ubah bentuk\n",
        "img_array = img_array / 255.0\n",
        "img_array = img_array.reshape(1, 28, 28, 1)\n",
        "\n",
        "# Prediksi\n",
        "prediction = model.predict(img_array)\n",
        "predicted_label = np.argmax(prediction)\n",
        "\n",
        "plt.imshow(img_array.reshape(28, 28), cmap='gray')\n",
        "plt.title(f'Prediksi: {predicted_label}')\n",
        "plt.axis('off')\n",
        "plt.show()\n"
      ],
      "metadata": {
        "colab": {
          "base_uri": "https://localhost:8080/",
          "height": 446
        },
        "id": "Bta-oRr7kiGl",
        "outputId": "67c3fea3-f47b-4c70-e2dc-03a1c54e6ea0"
      },
      "execution_count": 34,
      "outputs": [
        {
          "output_type": "stream",
          "name": "stdout",
          "text": [
            "\u001b[1m1/1\u001b[0m \u001b[32m━━━━━━━━━━━━━━━━━━━━\u001b[0m\u001b[37m\u001b[0m \u001b[1m0s\u001b[0m 82ms/step\n"
          ]
        },
        {
          "output_type": "display_data",
          "data": {
            "text/plain": [
              "<Figure size 640x480 with 1 Axes>"
            ],
            "image/png": "[encoded data removed]"
          },
          "metadata": {}
        }
      ]
    },
    {
      "cell_type": "code",
      "source": [
        "# Membaca gambar (pastikan 28x28 piksel dan grayscale)\n",
        "image_path = 'Angka_1.5_wh.jpg'  # Ganti dengan nama file gambar kamu\n",
        "img = Image.open(image_path).convert('L')  # Convert ke grayscale\n",
        "img = img.resize((28, 28))  # Resize ke 28x28\n",
        "img_array = np.array(img)\n",
        "\n",
        "# Invers warna jika background putih (optional, tergantung gambar)\n",
        "img_array = 255 - img_array\n",
        "\n",
        "# Normalisasi dan ubah bentuk\n",
        "img_array = img_array / 255.0\n",
        "img_array = img_array.reshape(1, 28, 28, 1)\n",
        "\n",
        "# Prediksi\n",
        "prediction = model.predict(img_array)\n",
        "predicted_label = np.argmax(prediction)\n",
        "\n",
        "plt.imshow(img_array.reshape(28, 28), cmap='gray')\n",
        "plt.title(f'Prediksi: {predicted_label}')\n",
        "plt.axis('off')\n",
        "plt.show()\n"
      ],
      "metadata": {
        "colab": {
          "base_uri": "https://localhost:8080/",
          "height": 446
        },
        "id": "H5FgiGEgkwY4",
        "outputId": "e570729a-2b53-4f9b-8f37-1f0174833af5"
      },
      "execution_count": 35,
      "outputs": [
        {
          "output_type": "stream",
          "name": "stdout",
          "text": [
            "\u001b[1m1/1\u001b[0m \u001b[32m━━━━━━━━━━━━━━━━━━━━\u001b[0m\u001b[37m\u001b[0m \u001b[1m0s\u001b[0m 47ms/step\n"
          ]
        },
        {
          "output_type": "display_data",
          "data": {
            "text/plain": [
              "<Figure size 640x480 with 1 Axes>"
            ],
            "image/png": "[encoded data removed]"
          },
          "metadata": {}
        }
      ]
    },
    {
      "cell_type": "code",
      "source": [
        "# Membaca gambar (pastikan 28x28 piksel dan grayscale)\n",
        "image_path = 'Angka_1_bl.jpg'  # Ganti dengan nama file gambar kamu\n",
        "img = Image.open(image_path).convert('L')  # Convert ke grayscale\n",
        "img = img.resize((28, 28))  # Resize ke 28x28\n",
        "img_array = np.array(img)\n",
        "\n",
        "# Invers warna jika background putih (optional, tergantung gambar)\n",
        "img_array = 255 - img_array\n",
        "\n",
        "# Normalisasi dan ubah bentuk\n",
        "img_array = img_array / 255.0\n",
        "img_array = img_array.reshape(1, 28, 28, 1)\n",
        "\n",
        "# Prediksi\n",
        "prediction = model.predict(img_array)\n",
        "predicted_label = np.argmax(prediction)\n",
        "\n",
        "plt.imshow(img_array.reshape(28, 28), cmap='gray')\n",
        "plt.title(f'Prediksi: {predicted_label}')\n",
        "plt.axis('off')\n",
        "plt.show()\n"
      ],
      "metadata": {
        "id": "6NCHIsyDw38R",
        "outputId": "d8c6b4b7-f7f9-4c2c-be06-bfb06bc5ac26",
        "colab": {
          "base_uri": "https://localhost:8080/",
          "height": 446
        }
      },
      "execution_count": 30,
      "outputs": [
        {
          "output_type": "stream",
          "name": "stdout",
          "text": [
            "\u001b[1m1/1\u001b[0m \u001b[32m━━━━━━━━━━━━━━━━━━━━\u001b[0m\u001b[37m\u001b[0m \u001b[1m0s\u001b[0m 52ms/step\n"
          ]
        },
        {
          "output_type": "display_data",
          "data": {
            "text/plain": [
              "<Figure size 640x480 with 1 Axes>"
            ],
            "image/png": "[encoded data removed]"
          },
          "metadata": {}
        }
      ]
    },
    {
      "cell_type": "code",
      "source": [
        "# Membaca gambar (pastikan 28x28 piksel dan grayscale)\n",
        "image_path = 'Angka_2_bl.jpg'  # Ganti dengan nama file gambar kamu\n",
        "img = Image.open(image_path).convert('L')  # Convert ke grayscale\n",
        "img = img.resize((28, 28))  # Resize ke 28x28\n",
        "img_array = np.array(img)\n",
        "\n",
        "# Invers warna jika background putih (optional, tergantung gambar)\n",
        "img_array = 255 - img_array\n",
        "\n",
        "# Normalisasi dan ubah bentuk\n",
        "img_array = img_array / 255.0\n",
        "img_array = img_array.reshape(1, 28, 28, 1)\n",
        "\n",
        "# Prediksi\n",
        "prediction = model.predict(img_array)\n",
        "predicted_label = np.argmax(prediction)\n",
        "\n",
        "plt.imshow(img_array.reshape(28, 28), cmap='gray')\n",
        "plt.title(f'Prediksi: {predicted_label}')\n",
        "plt.axis('off')\n",
        "plt.show()\n"
      ],
      "metadata": {
        "id": "D_BCUoz1xBBG",
        "outputId": "a88f6e58-c450-4b00-9a24-d144b80c1225",
        "colab": {
          "base_uri": "https://localhost:8080/",
          "height": 446
        }
      },
      "execution_count": null,
      "outputs": [
        {
          "output_type": "stream",
          "name": "stdout",
          "text": [
            "\u001b[1m1/1\u001b[0m \u001b[32m━━━━━━━━━━━━━━━━━━━━\u001b[0m\u001b[37m\u001b[0m \u001b[1m0s\u001b[0m 198ms/step\n"
          ]
        },
        {
          "output_type": "display_data",
          "data": {
            "text/plain": [
              "<Figure size 640x480 with 1 Axes>"
            ],
            "image/png": "[encoded data removed]"
          },
          "metadata": {}
        }
      ]
    },
    {
      "cell_type": "code",
      "source": [
        "# Membaca gambar (pastikan 28x28 piksel dan grayscale)\n",
        "image_path = 'Angka_2_wh.jpg'  # Ganti dengan nama file gambar kamu\n",
        "img = Image.open(image_path).convert('L')  # Convert ke grayscale\n",
        "img = img.resize((28, 28))  # Resize ke 28x28\n",
        "img_array = np.array(img)\n",
        "\n",
        "# Invers warna jika background putih (optional, tergantung gambar)\n",
        "img_array = 255 - img_array\n",
        "\n",
        "# Normalisasi dan ubah bentuk\n",
        "img_array = img_array / 255.0\n",
        "img_array = img_array.reshape(1, 28, 28, 1)\n",
        "\n",
        "# Prediksi\n",
        "prediction = model.predict(img_array)\n",
        "predicted_label = np.argmax(prediction)\n",
        "\n",
        "plt.imshow(img_array.reshape(28, 28), cmap='gray')\n",
        "plt.title(f'Prediksi: {predicted_label}')\n",
        "plt.axis('off')\n",
        "plt.show()\n"
      ],
      "metadata": {
        "id": "ePv_e-kBxtTi",
        "outputId": "2f858d2e-edca-4d95-c8cc-90b1fb86253c",
        "colab": {
          "base_uri": "https://localhost:8080/",
          "height": 446
        }
      },
      "execution_count": null,
      "outputs": [
        {
          "output_type": "stream",
          "name": "stdout",
          "text": [
            "\u001b[1m1/1\u001b[0m \u001b[32m━━━━━━━━━━━━━━━━━━━━\u001b[0m\u001b[37m\u001b[0m \u001b[1m0s\u001b[0m 56ms/step\n"
          ]
        },
        {
          "output_type": "display_data",
          "data": {
            "text/plain": [
              "<Figure size 640x480 with 1 Axes>"
            ],
            "image/png": "[encoded data removed]"
          },
          "metadata": {}
        }
      ]
    },
    {
      "cell_type": "code",
      "source": [
        "# Membaca gambar (pastikan 28x28 piksel dan grayscale)\n",
        "image_path = 'Angka_2.2_wh.jpg'  # Ganti dengan nama file gambar kamu\n",
        "img = Image.open(image_path).convert('L')  # Convert ke grayscale\n",
        "img = img.resize((28, 28))  # Resize ke 28x28\n",
        "img_array = np.array(img)\n",
        "\n",
        "# Invers warna jika background putih (optional, tergantung gambar)\n",
        "img_array = 255 - img_array\n",
        "\n",
        "# Normalisasi dan ubah bentuk\n",
        "img_array = img_array / 255.0\n",
        "img_array = img_array.reshape(1, 28, 28, 1)\n",
        "\n",
        "# Prediksi\n",
        "prediction = model.predict(img_array)\n",
        "predicted_label = np.argmax(prediction)\n",
        "\n",
        "plt.imshow(img_array.reshape(28, 28), cmap='gray')\n",
        "plt.title(f'Prediksi: {predicted_label}')\n",
        "plt.axis('off')\n",
        "plt.show()\n"
      ],
      "metadata": {
        "id": "X38zY1UlyFKX",
        "outputId": "c202db29-c3eb-4c05-a904-69a8b7325034",
        "colab": {
          "base_uri": "https://localhost:8080/",
          "height": 446
        }
      },
      "execution_count": null,
      "outputs": [
        {
          "output_type": "stream",
          "name": "stdout",
          "text": [
            "\u001b[1m1/1\u001b[0m \u001b[32m━━━━━━━━━━━━━━━━━━━━\u001b[0m\u001b[37m\u001b[0m \u001b[1m0s\u001b[0m 62ms/step\n"
          ]
        },
        {
          "output_type": "display_data",
          "data": {
            "text/plain": [
              "<Figure size 640x480 with 1 Axes>"
            ],
            "image/png": "[encoded data removed]"
          },
          "metadata": {}
        }
      ]
    },
    {
      "cell_type": "code",
      "source": [
        "# Membaca gambar (pastikan 28x28 piksel dan grayscale)\n",
        "image_path = 'Angka_2.3_wh.jpg'  # Ganti dengan nama file gambar kamu\n",
        "img = Image.open(image_path).convert('L')  # Convert ke grayscale\n",
        "img = img.resize((28, 28))  # Resize ke 28x28\n",
        "img_array = np.array(img)\n",
        "\n",
        "# Invers warna jika background putih (optional, tergantung gambar)\n",
        "img_array = 255 - img_array\n",
        "\n",
        "# Normalisasi dan ubah bentuk\n",
        "img_array = img_array / 255.0\n",
        "img_array = img_array.reshape(1, 28, 28, 1)\n",
        "\n",
        "# Prediksi\n",
        "prediction = model.predict(img_array)\n",
        "predicted_label = np.argmax(prediction)\n",
        "\n",
        "plt.imshow(img_array.reshape(28, 28), cmap='gray')\n",
        "plt.title(f'Prediksi: {predicted_label}')\n",
        "plt.axis('off')\n",
        "plt.show()\n"
      ],
      "metadata": {
        "id": "nJWbvDJGyfO9",
        "outputId": "81225b7e-04b5-43d6-be4e-c01960e6b31e",
        "colab": {
          "base_uri": "https://localhost:8080/",
          "height": 446
        }
      },
      "execution_count": null,
      "outputs": [
        {
          "output_type": "stream",
          "name": "stdout",
          "text": [
            "\u001b[1m1/1\u001b[0m \u001b[32m━━━━━━━━━━━━━━━━━━━━\u001b[0m\u001b[37m\u001b[0m \u001b[1m0s\u001b[0m 51ms/step\n"
          ]
        },
        {
          "output_type": "display_data",
          "data": {
            "text/plain": [
              "<Figure size 640x480 with 1 Axes>"
            ],
            "image/png": "[encoded data removed]"
          },
          "metadata": {}
        }
      ]
    },
    {
      "cell_type": "code",
      "source": [
        "# Membaca gambar (pastikan 28x28 piksel dan grayscale)\n",
        "image_path = 'Angka_2.4_wh.jpg'  # Ganti dengan nama file gambar kamu\n",
        "img = Image.open(image_path).convert('L')  # Convert ke grayscale\n",
        "img = img.resize((28, 28))  # Resize ke 28x28\n",
        "img_array = np.array(img)\n",
        "\n",
        "# Invers warna jika background putih (optional, tergantung gambar)\n",
        "img_array = 255 - img_array\n",
        "\n",
        "# Normalisasi dan ubah bentuk\n",
        "img_array = img_array / 255.0\n",
        "img_array = img_array.reshape(1, 28, 28, 1)\n",
        "\n",
        "# Prediksi\n",
        "prediction = model.predict(img_array)\n",
        "predicted_label = np.argmax(prediction)\n",
        "\n",
        "plt.imshow(img_array.reshape(28, 28), cmap='gray')\n",
        "plt.title(f'Prediksi: {predicted_label}')\n",
        "plt.axis('off')\n",
        "plt.show()\n"
      ],
      "metadata": {
        "id": "-yQJFrXDyk17",
        "outputId": "7c3dc9c8-d6dc-4148-95f0-1098d090c79f",
        "colab": {
          "base_uri": "https://localhost:8080/",
          "height": 446
        }
      },
      "execution_count": null,
      "outputs": [
        {
          "output_type": "stream",
          "name": "stdout",
          "text": [
            "\u001b[1m1/1\u001b[0m \u001b[32m━━━━━━━━━━━━━━━━━━━━\u001b[0m\u001b[37m\u001b[0m \u001b[1m0s\u001b[0m 51ms/step\n"
          ]
        },
        {
          "output_type": "display_data",
          "data": {
            "text/plain": [
              "<Figure size 640x480 with 1 Axes>"
            ],
            "image/png": "[encoded data removed]"
          },
          "metadata": {}
        }
      ]
    },
    {
      "cell_type": "code",
      "source": [
        "# Membaca gambar (pastikan 28x28 piksel dan grayscale)\n",
        "image_path = 'Angka_3_bl.jpg'  # Ganti dengan nama file gambar kamu\n",
        "img = Image.open(image_path).convert('L')  # Convert ke grayscale\n",
        "img = img.resize((28, 28))  # Resize ke 28x28\n",
        "img_array = np.array(img)\n",
        "\n",
        "# Invers warna jika background putih (optional, tergantung gambar)\n",
        "img_array = 255 - img_array\n",
        "\n",
        "# Normalisasi dan ubah bentuk\n",
        "img_array = img_array / 255.0\n",
        "img_array = img_array.reshape(1, 28, 28, 1)\n",
        "\n",
        "# Prediksi\n",
        "prediction = model.predict(img_array)\n",
        "predicted_label = np.argmax(prediction)\n",
        "\n",
        "plt.imshow(img_array.reshape(28, 28), cmap='gray')\n",
        "plt.title(f'Prediksi: {predicted_label}')\n",
        "plt.axis('off')\n",
        "plt.show()\n"
      ],
      "metadata": {
        "id": "ZpxKPaW2y51m",
        "outputId": "6b43ddf0-f2b9-4f02-e57f-75104c67e42e",
        "colab": {
          "base_uri": "https://localhost:8080/",
          "height": 446
        }
      },
      "execution_count": null,
      "outputs": [
        {
          "output_type": "stream",
          "name": "stdout",
          "text": [
            "\u001b[1m1/1\u001b[0m \u001b[32m━━━━━━━━━━━━━━━━━━━━\u001b[0m\u001b[37m\u001b[0m \u001b[1m0s\u001b[0m 52ms/step\n"
          ]
        },
        {
          "output_type": "display_data",
          "data": {
            "text/plain": [
              "<Figure size 640x480 with 1 Axes>"
            ],
            "image/png": "[encoded data removed]"
          },
          "metadata": {}
        }
      ]
    },
    {
      "cell_type": "code",
      "source": [
        "# Membaca gambar (pastikan 28x28 piksel dan grayscale)\n",
        "image_path = 'Angka_3_wh.jpg'  # Ganti dengan nama file gambar kamu\n",
        "img = Image.open(image_path).convert('L')  # Convert ke grayscale\n",
        "img = img.resize((28, 28))  # Resize ke 28x28\n",
        "img_array = np.array(img)\n",
        "\n",
        "# Invers warna jika background putih (optional, tergantung gambar)\n",
        "img_array = 255 - img_array\n",
        "\n",
        "# Normalisasi dan ubah bentuk\n",
        "img_array = img_array / 255.0\n",
        "img_array = img_array.reshape(1, 28, 28, 1)\n",
        "\n",
        "# Prediksi\n",
        "prediction = model.predict(img_array)\n",
        "predicted_label = np.argmax(prediction)\n",
        "\n",
        "plt.imshow(img_array.reshape(28, 28), cmap='gray')\n",
        "plt.title(f'Prediksi: {predicted_label}')\n",
        "plt.axis('off')\n",
        "plt.show()\n"
      ],
      "metadata": {
        "id": "SfDfqV-yztob",
        "outputId": "e2412fbb-1a27-4992-ed73-b6d147f48439",
        "colab": {
          "base_uri": "https://localhost:8080/",
          "height": 446
        }
      },
      "execution_count": null,
      "outputs": [
        {
          "output_type": "stream",
          "name": "stdout",
          "text": [
            "\u001b[1m1/1\u001b[0m \u001b[32m━━━━━━━━━━━━━━━━━━━━\u001b[0m\u001b[37m\u001b[0m \u001b[1m0s\u001b[0m 183ms/step\n"
          ]
        },
        {
          "output_type": "display_data",
          "data": {
            "text/plain": [
              "<Figure size 640x480 with 1 Axes>"
            ],
            "image/png": "[encoded data removed]"
          },
          "metadata": {}
        }
      ]
    },
    {
      "cell_type": "code",
      "source": [
        "# Membaca gambar (pastikan 28x28 piksel dan grayscale)\n",
        "image_path = 'Angka_3.2_wh.jpg'  # Ganti dengan nama file gambar kamu\n",
        "img = Image.open(image_path).convert('L')  # Convert ke grayscale\n",
        "img = img.resize((28, 28))  # Resize ke 28x28\n",
        "img_array = np.array(img)\n",
        "\n",
        "# Invers warna jika background putih (optional, tergantung gambar)\n",
        "img_array = 255 - img_array\n",
        "\n",
        "# Normalisasi dan ubah bentuk\n",
        "img_array = img_array / 255.0\n",
        "img_array = img_array.reshape(1, 28, 28, 1)\n",
        "\n",
        "# Prediksi\n",
        "prediction = model.predict(img_array)\n",
        "predicted_label = np.argmax(prediction)\n",
        "\n",
        "plt.imshow(img_array.reshape(28, 28), cmap='gray')\n",
        "plt.title(f'Prediksi: {predicted_label}')\n",
        "plt.axis('off')\n",
        "plt.show()\n"
      ],
      "metadata": {
        "id": "bRpRsP2V0Cnw",
        "outputId": "72aa8b04-15e1-40b7-ede4-3bf9f51cc148",
        "colab": {
          "base_uri": "https://localhost:8080/",
          "height": 446
        }
      },
      "execution_count": null,
      "outputs": [
        {
          "output_type": "stream",
          "name": "stdout",
          "text": [
            "\u001b[1m1/1\u001b[0m \u001b[32m━━━━━━━━━━━━━━━━━━━━\u001b[0m\u001b[37m\u001b[0m \u001b[1m0s\u001b[0m 79ms/step\n"
          ]
        },
        {
          "output_type": "display_data",
          "data": {
            "text/plain": [
              "<Figure size 640x480 with 1 Axes>"
            ],
            "image/png": "[encoded data removed]"
          },
          "metadata": {}
        }
      ]
    },
    {
      "cell_type": "code",
      "source": [
        "# Membaca gambar (pastikan 28x28 piksel dan grayscale)\n",
        "image_path = 'Angka_4.2_bl.jpg'  # Ganti dengan nama file gambar kamu\n",
        "img = Image.open(image_path).convert('L')  # Convert ke grayscale\n",
        "img = img.resize((28, 28))  # Resize ke 28x28\n",
        "img_array = np.array(img)\n",
        "\n",
        "# Invers warna jika background putih (optional, tergantung gambar)\n",
        "img_array = 255 - img_array\n",
        "\n",
        "# Normalisasi dan ubah bentuk\n",
        "img_array = img_array / 255.0\n",
        "img_array = img_array.reshape(1, 28, 28, 1)\n",
        "\n",
        "# Prediksi\n",
        "prediction = model.predict(img_array)\n",
        "predicted_label = np.argmax(prediction)\n",
        "\n",
        "plt.imshow(img_array.reshape(28, 28), cmap='gray')\n",
        "plt.title(f'Prediksi: {predicted_label}')\n",
        "plt.axis('off')\n",
        "plt.show()\n"
      ],
      "metadata": {
        "id": "kXsHLDPp0dd3",
        "outputId": "38d7b9fe-5c8d-420d-ebe6-42b1c0484a58",
        "colab": {
          "base_uri": "https://localhost:8080/",
          "height": 446
        }
      },
      "execution_count": null,
      "outputs": [
        {
          "output_type": "stream",
          "name": "stdout",
          "text": [
            "\u001b[1m1/1\u001b[0m \u001b[32m━━━━━━━━━━━━━━━━━━━━\u001b[0m\u001b[37m\u001b[0m \u001b[1m0s\u001b[0m 56ms/step\n"
          ]
        },
        {
          "output_type": "display_data",
          "data": {
            "text/plain": [
              "<Figure size 640x480 with 1 Axes>"
            ],
            "image/png": "[encoded data removed]"
          },
          "metadata": {}
        }
      ]
    },
    {
      "cell_type": "code",
      "source": [
        "# Membaca gambar (pastikan 28x28 piksel dan grayscale)\n",
        "image_path = 'Angka_4_wh.jpg'  # Ganti dengan nama file gambar kamu\n",
        "img = Image.open(image_path).convert('L')  # Convert ke grayscale\n",
        "img = img.resize((28, 28))  # Resize ke 28x28\n",
        "img_array = np.array(img)\n",
        "\n",
        "# Invers warna jika background putih (optional, tergantung gambar)\n",
        "img_array = 255 - img_array\n",
        "\n",
        "# Normalisasi dan ubah bentuk\n",
        "img_array = img_array / 255.0\n",
        "img_array = img_array.reshape(1, 28, 28, 1)\n",
        "\n",
        "# Prediksi\n",
        "prediction = model.predict(img_array)\n",
        "predicted_label = np.argmax(prediction)\n",
        "\n",
        "plt.imshow(img_array.reshape(28, 28), cmap='gray')\n",
        "plt.title(f'Prediksi: {predicted_label}')\n",
        "plt.axis('off')\n",
        "plt.show()\n"
      ],
      "metadata": {
        "id": "GOxfGqcy0rYv",
        "outputId": "20365c68-5772-4b44-b66a-3878024682c4",
        "colab": {
          "base_uri": "https://localhost:8080/",
          "height": 446
        }
      },
      "execution_count": null,
      "outputs": [
        {
          "output_type": "stream",
          "name": "stdout",
          "text": [
            "\u001b[1m1/1\u001b[0m \u001b[32m━━━━━━━━━━━━━━━━━━━━\u001b[0m\u001b[37m\u001b[0m \u001b[1m0s\u001b[0m 52ms/step\n"
          ]
        },
        {
          "output_type": "display_data",
          "data": {
            "text/plain": [
              "<Figure size 640x480 with 1 Axes>"
            ],
            "image/png": "[encoded data removed]"
          },
          "metadata": {}
        }
      ]
    },
    {
      "cell_type": "code",
      "source": [
        "# Membaca gambar (pastikan 28x28 piksel dan grayscale)\n",
        "image_path = 'Angka_4.2_wh.jpg'  # Ganti dengan nama file gambar kamu\n",
        "img = Image.open(image_path).convert('L')  # Convert ke grayscale\n",
        "img = img.resize((28, 28))  # Resize ke 28x28\n",
        "img_array = np.array(img)\n",
        "\n",
        "# Invers warna jika background putih (optional, tergantung gambar)\n",
        "img_array = 255 - img_array\n",
        "\n",
        "# Normalisasi dan ubah bentuk\n",
        "img_array = img_array / 255.0\n",
        "img_array = img_array.reshape(1, 28, 28, 1)\n",
        "\n",
        "# Prediksi\n",
        "prediction = model.predict(img_array)\n",
        "predicted_label = np.argmax(prediction)\n",
        "\n",
        "plt.imshow(img_array.reshape(28, 28), cmap='gray')\n",
        "plt.title(f'Prediksi: {predicted_label}')\n",
        "plt.axis('off')\n",
        "plt.show()\n"
      ],
      "metadata": {
        "id": "gS7MxZls07Y1",
        "outputId": "f021eaa4-4fd0-4257-c6b7-8ab092bde020",
        "colab": {
          "base_uri": "https://localhost:8080/",
          "height": 446
        }
      },
      "execution_count": null,
      "outputs": [
        {
          "output_type": "stream",
          "name": "stdout",
          "text": [
            "\u001b[1m1/1\u001b[0m \u001b[32m━━━━━━━━━━━━━━━━━━━━\u001b[0m\u001b[37m\u001b[0m \u001b[1m0s\u001b[0m 56ms/step\n"
          ]
        },
        {
          "output_type": "display_data",
          "data": {
            "text/plain": [
              "<Figure size 640x480 with 1 Axes>"
            ],
            "image/png": "[encoded data removed]"
          },
          "metadata": {}
        }
      ]
    },
    {
      "cell_type": "code",
      "source": [
        "# Membaca gambar (pastikan 28x28 piksel dan grayscale)\n",
        "image_path = 'Angka_5_bl.jpg'  # Ganti dengan nama file gambar kamu\n",
        "img = Image.open(image_path).convert('L')  # Convert ke grayscale\n",
        "img = img.resize((28, 28))  # Resize ke 28x28\n",
        "img_array = np.array(img)\n",
        "\n",
        "# Invers warna jika background putih (optional, tergantung gambar)\n",
        "img_array = 255 - img_array\n",
        "\n",
        "# Normalisasi dan ubah bentuk\n",
        "img_array = img_array / 255.0\n",
        "img_array = img_array.reshape(1, 28, 28, 1)\n",
        "\n",
        "# Prediksi\n",
        "prediction = model.predict(img_array)\n",
        "predicted_label = np.argmax(prediction)\n",
        "\n",
        "plt.imshow(img_array.reshape(28, 28), cmap='gray')\n",
        "plt.title(f'Prediksi: {predicted_label}')\n",
        "plt.axis('off')\n",
        "plt.show()\n"
      ],
      "metadata": {
        "colab": {
          "base_uri": "https://localhost:8080/",
          "height": 446
        },
        "id": "dAGuIx3jk2zF",
        "outputId": "3f77bb13-d4ba-4db5-dd85-258ca4f95b4c"
      },
      "execution_count": null,
      "outputs": [
        {
          "output_type": "stream",
          "name": "stdout",
          "text": [
            "\u001b[1m1/1\u001b[0m \u001b[32m━━━━━━━━━━━━━━━━━━━━\u001b[0m\u001b[37m\u001b[0m \u001b[1m0s\u001b[0m 59ms/step\n"
          ]
        },
        {
          "output_type": "display_data",
          "data": {
            "text/plain": [
              "<Figure size 640x480 with 1 Axes>"
            ],
            "image/png": "[encoded data removed]"
          },
          "metadata": {}
        }
      ]
    },
    {
      "cell_type": "code",
      "source": [
        "# Membaca gambar (pastikan 28x28 piksel dan grayscale)\n",
        "image_path = 'Angka_5_wh.jpg'  # Ganti dengan nama file gambar kamu\n",
        "img = Image.open(image_path).convert('L')  # Convert ke grayscale\n",
        "img = img.resize((28, 28))  # Resize ke 28x28\n",
        "img_array = np.array(img)\n",
        "\n",
        "# Invers warna jika background putih (optional, tergantung gambar)\n",
        "img_array = 255 - img_array\n",
        "\n",
        "# Normalisasi dan ubah bentuk\n",
        "img_array = img_array / 255.0\n",
        "img_array = img_array.reshape(1, 28, 28, 1)\n",
        "\n",
        "# Prediksi\n",
        "prediction = model.predict(img_array)\n",
        "predicted_label = np.argmax(prediction)\n",
        "\n",
        "plt.imshow(img_array.reshape(28, 28), cmap='gray')\n",
        "plt.title(f'Prediksi: {predicted_label}')\n",
        "plt.axis('off')\n",
        "plt.show()\n"
      ],
      "metadata": {
        "colab": {
          "base_uri": "https://localhost:8080/",
          "height": 446
        },
        "id": "Mly42W0xk___",
        "outputId": "dd7592a5-4c10-4e71-a0a4-6ff847c7838b"
      },
      "execution_count": null,
      "outputs": [
        {
          "output_type": "stream",
          "name": "stdout",
          "text": [
            "\u001b[1m1/1\u001b[0m \u001b[32m━━━━━━━━━━━━━━━━━━━━\u001b[0m\u001b[37m\u001b[0m \u001b[1m0s\u001b[0m 158ms/step\n"
          ]
        },
        {
          "output_type": "display_data",
          "data": {
            "text/plain": [
              "<Figure size 640x480 with 1 Axes>"
            ],
            "image/png": "[encoded data removed]"
          },
          "metadata": {}
        }
      ]
    },
    {
      "cell_type": "code",
      "source": [
        "# Membaca gambar (pastikan 28x28 piksel dan grayscale)\n",
        "image_path = 'Angka_6_bl.jpg'  # Ganti dengan nama file gambar kamu\n",
        "img = Image.open(image_path).convert('L')  # Convert ke grayscale\n",
        "img = img.resize((28, 28))  # Resize ke 28x28\n",
        "img_array = np.array(img)\n",
        "\n",
        "# Invers warna jika background putih (optional, tergantung gambar)\n",
        "img_array = 255 - img_array\n",
        "\n",
        "# Normalisasi dan ubah bentuk\n",
        "img_array = img_array / 255.0\n",
        "img_array = img_array.reshape(1, 28, 28, 1)\n",
        "\n",
        "# Prediksi\n",
        "prediction = model.predict(img_array)\n",
        "predicted_label = np.argmax(prediction)\n",
        "\n",
        "plt.imshow(img_array.reshape(28, 28), cmap='gray')\n",
        "plt.title(f'Prediksi: {predicted_label}')\n",
        "plt.axis('off')\n",
        "plt.show()\n"
      ],
      "metadata": {
        "colab": {
          "base_uri": "https://localhost:8080/",
          "height": 446
        },
        "id": "4tqC2dpJlOxL",
        "outputId": "4874529c-8eb2-4720-dd5b-09dc0fe60031"
      },
      "execution_count": null,
      "outputs": [
        {
          "output_type": "stream",
          "name": "stdout",
          "text": [
            "\u001b[1m1/1\u001b[0m \u001b[32m━━━━━━━━━━━━━━━━━━━━\u001b[0m\u001b[37m\u001b[0m \u001b[1m0s\u001b[0m 76ms/step\n"
          ]
        },
        {
          "output_type": "display_data",
          "data": {
            "text/plain": [
              "<Figure size 640x480 with 1 Axes>"
            ],
            "image/png": "[encoded data removed]"
          },
          "metadata": {}
        }
      ]
    },
    {
      "cell_type": "code",
      "source": [
        "# Membaca gambar (pastikan 28x28 piksel dan grayscale)\n",
        "image_path = 'Angka_6_wh.jpg'  # Ganti dengan nama file gambar kamu\n",
        "img = Image.open(image_path).convert('L')  # Convert ke grayscale\n",
        "img = img.resize((28, 28))  # Resize ke 28x28\n",
        "img_array = np.array(img)\n",
        "\n",
        "# Invers warna jika background putih (optional, tergantung gambar)\n",
        "img_array = 255 - img_array\n",
        "\n",
        "# Normalisasi dan ubah bentuk\n",
        "img_array = img_array / 255.0\n",
        "img_array = img_array.reshape(1, 28, 28, 1)\n",
        "\n",
        "# Prediksi\n",
        "prediction = model.predict(img_array)\n",
        "predicted_label = np.argmax(prediction)\n",
        "\n",
        "plt.imshow(img_array.reshape(28, 28), cmap='gray')\n",
        "plt.title(f'Prediksi: {predicted_label}')\n",
        "plt.axis('off')\n",
        "plt.show()\n"
      ],
      "metadata": {
        "colab": {
          "base_uri": "https://localhost:8080/",
          "height": 446
        },
        "id": "EFBjwcgfllPO",
        "outputId": "ff3c4260-9cf0-42cd-845e-bc1ce070ac7f"
      },
      "execution_count": null,
      "outputs": [
        {
          "output_type": "stream",
          "name": "stdout",
          "text": [
            "\u001b[1m1/1\u001b[0m \u001b[32m━━━━━━━━━━━━━━━━━━━━\u001b[0m\u001b[37m\u001b[0m \u001b[1m0s\u001b[0m 51ms/step\n"
          ]
        },
        {
          "output_type": "display_data",
          "data": {
            "text/plain": [
              "<Figure size 640x480 with 1 Axes>"
            ],
            "image/png": "[encoded data removed]"
          },
          "metadata": {}
        }
      ]
    },
    {
      "cell_type": "code",
      "source": [
        "# Membaca gambar (pastikan 28x28 piksel dan grayscale)\n",
        "image_path = 'Angka_7_bl.jpg'  # Ganti dengan nama file gambar kamu\n",
        "img = Image.open(image_path).convert('L')  # Convert ke grayscale\n",
        "img = img.resize((28, 28))  # Resize ke 28x28\n",
        "img_array = np.array(img)\n",
        "\n",
        "# Invers warna jika background putih (optional, tergantung gambar)\n",
        "img_array = 255 - img_array\n",
        "\n",
        "# Normalisasi dan ubah bentuk\n",
        "img_array = img_array / 255.0\n",
        "img_array = img_array.reshape(1, 28, 28, 1)\n",
        "\n",
        "# Prediksi\n",
        "prediction = model.predict(img_array)\n",
        "predicted_label = np.argmax(prediction)\n",
        "\n",
        "plt.imshow(img_array.reshape(28, 28), cmap='gray')\n",
        "plt.title(f'Prediksi: {predicted_label}')\n",
        "plt.axis('off')\n",
        "plt.show()\n"
      ],
      "metadata": {
        "colab": {
          "base_uri": "https://localhost:8080/",
          "height": 446
        },
        "id": "gLDFADJHlyKy",
        "outputId": "c9575d80-9b08-4091-f938-1ce28c9f6e1f"
      },
      "execution_count": null,
      "outputs": [
        {
          "output_type": "stream",
          "name": "stdout",
          "text": [
            "\u001b[1m1/1\u001b[0m \u001b[32m━━━━━━━━━━━━━━━━━━━━\u001b[0m\u001b[37m\u001b[0m \u001b[1m0s\u001b[0m 53ms/step\n"
          ]
        },
        {
          "output_type": "display_data",
          "data": {
            "text/plain": [
              "<Figure size 640x480 with 1 Axes>"
            ],
            "image/png": "[encoded data removed]"
          },
          "metadata": {}
        }
      ]
    },
    {
      "cell_type": "code",
      "source": [
        "# Membaca gambar (pastikan 28x28 piksel dan grayscale)\n",
        "image_path = 'Angka_7_wh.jpg'  # Ganti dengan nama file gambar kamu\n",
        "img = Image.open(image_path).convert('L')  # Convert ke grayscale\n",
        "img = img.resize((28, 28))  # Resize ke 28x28\n",
        "img_array = np.array(img)\n",
        "\n",
        "# Invers warna jika background putih (optional, tergantung gambar)\n",
        "img_array = 255 - img_array\n",
        "\n",
        "# Normalisasi dan ubah bentuk\n",
        "img_array = img_array / 255.0\n",
        "img_array = img_array.reshape(1, 28, 28, 1)\n",
        "\n",
        "# Prediksi\n",
        "prediction = model.predict(img_array)\n",
        "predicted_label = np.argmax(prediction)\n",
        "\n",
        "plt.imshow(img_array.reshape(28, 28), cmap='gray')\n",
        "plt.title(f'Prediksi: {predicted_label}')\n",
        "plt.axis('off')\n",
        "plt.show()\n"
      ],
      "metadata": {
        "colab": {
          "base_uri": "https://localhost:8080/",
          "height": 446
        },
        "id": "dP4QoFpMl3ky",
        "outputId": "d79fd113-4a45-4521-a93a-329afec06c63"
      },
      "execution_count": null,
      "outputs": [
        {
          "output_type": "stream",
          "name": "stdout",
          "text": [
            "\u001b[1m1/1\u001b[0m \u001b[32m━━━━━━━━━━━━━━━━━━━━\u001b[0m\u001b[37m\u001b[0m \u001b[1m0s\u001b[0m 52ms/step\n"
          ]
        },
        {
          "output_type": "display_data",
          "data": {
            "text/plain": [
              "<Figure size 640x480 with 1 Axes>"
            ],
            "image/png": "[encoded data removed]"
          },
          "metadata": {}
        }
      ]
    },
    {
      "cell_type": "code",
      "source": [
        "# Membaca gambar (pastikan 28x28 piksel dan grayscale)\n",
        "image_path = 'Angka_7.2_wh.jpg'  # Ganti dengan nama file gambar kamu\n",
        "img = Image.open(image_path).convert('L')  # Convert ke grayscale\n",
        "img = img.resize((28, 28))  # Resize ke 28x28\n",
        "img_array = np.array(img)\n",
        "\n",
        "# Invers warna jika background putih (optional, tergantung gambar)\n",
        "img_array = 255 - img_array\n",
        "\n",
        "# Normalisasi dan ubah bentuk\n",
        "img_array = img_array / 255.0\n",
        "img_array = img_array.reshape(1, 28, 28, 1)\n",
        "\n",
        "# Prediksi\n",
        "prediction = model.predict(img_array)\n",
        "predicted_label = np.argmax(prediction)\n",
        "\n",
        "plt.imshow(img_array.reshape(28, 28), cmap='gray')\n",
        "plt.title(f'Prediksi: {predicted_label}')\n",
        "plt.axis('off')\n",
        "plt.show()\n"
      ],
      "metadata": {
        "colab": {
          "base_uri": "https://localhost:8080/",
          "height": 446
        },
        "id": "nY4O-2c_mS_-",
        "outputId": "709a6bc1-f8ee-4337-c6c4-5f0bdf3c1531"
      },
      "execution_count": null,
      "outputs": [
        {
          "output_type": "stream",
          "name": "stdout",
          "text": [
            "\u001b[1m1/1\u001b[0m \u001b[32m━━━━━━━━━━━━━━━━━━━━\u001b[0m\u001b[37m\u001b[0m \u001b[1m0s\u001b[0m 173ms/step\n"
          ]
        },
        {
          "output_type": "display_data",
          "data": {
            "text/plain": [
              "<Figure size 640x480 with 1 Axes>"
            ],
            "image/png": "[encoded data removed]"
          },
          "metadata": {}
        }
      ]
    },
    {
      "cell_type": "code",
      "source": [
        "# Membaca gambar (pastikan 28x28 piksel dan grayscale)\n",
        "image_path = 'Angka_8_bl.jpg'  # Ganti dengan nama file gambar kamu\n",
        "img = Image.open(image_path).convert('L')  # Convert ke grayscale\n",
        "img = img.resize((28, 28))  # Resize ke 28x28\n",
        "img_array = np.array(img)\n",
        "\n",
        "# Invers warna jika background putih (optional, tergantung gambar)\n",
        "img_array = 255 - img_array\n",
        "\n",
        "# Normalisasi dan ubah bentuk\n",
        "img_array = img_array / 255.0\n",
        "img_array = img_array.reshape(1, 28, 28, 1)\n",
        "\n",
        "# Prediksi\n",
        "prediction = model.predict(img_array)\n",
        "predicted_label = np.argmax(prediction)\n",
        "\n",
        "plt.imshow(img_array.reshape(28, 28), cmap='gray')\n",
        "plt.title(f'Prediksi: {predicted_label}')\n",
        "plt.axis('off')\n",
        "plt.show()\n"
      ],
      "metadata": {
        "colab": {
          "base_uri": "https://localhost:8080/",
          "height": 446
        },
        "id": "lJsveKYhmZZ8",
        "outputId": "4f964724-f7b5-48fe-fb97-1c61d53de560"
      },
      "execution_count": null,
      "outputs": [
        {
          "output_type": "stream",
          "name": "stdout",
          "text": [
            "\u001b[1m1/1\u001b[0m \u001b[32m━━━━━━━━━━━━━━━━━━━━\u001b[0m\u001b[37m\u001b[0m \u001b[1m0s\u001b[0m 77ms/step\n"
          ]
        },
        {
          "output_type": "display_data",
          "data": {
            "text/plain": [
              "<Figure size 640x480 with 1 Axes>"
            ],
            "image/png": "[encoded data removed]"
          },
          "metadata": {}
        }
      ]
    },
    {
      "cell_type": "code",
      "source": [
        "# Membaca gambar (pastikan 28x28 piksel dan grayscale)\n",
        "image_path = 'Angka_8_wh.jpg'  # Ganti dengan nama file gambar kamu\n",
        "img = Image.open(image_path).convert('L')  # Convert ke grayscale\n",
        "img = img.resize((28, 28))  # Resize ke 28x28\n",
        "img_array = np.array(img)\n",
        "\n",
        "# Invers warna jika background putih (optional, tergantung gambar)\n",
        "img_array = 255 - img_array\n",
        "\n",
        "# Normalisasi dan ubah bentuk\n",
        "img_array = img_array / 255.0\n",
        "img_array = img_array.reshape(1, 28, 28, 1)\n",
        "\n",
        "# Prediksi\n",
        "prediction = model.predict(img_array)\n",
        "predicted_label = np.argmax(prediction)\n",
        "\n",
        "plt.imshow(img_array.reshape(28, 28), cmap='gray')\n",
        "plt.title(f'Prediksi: {predicted_label}')\n",
        "plt.axis('off')\n",
        "plt.show()\n"
      ],
      "metadata": {
        "colab": {
          "base_uri": "https://localhost:8080/",
          "height": 446
        },
        "id": "1OBIWJXEm-Iw",
        "outputId": "cc1d6cc6-d150-4c5c-a5a7-f50926b03b45"
      },
      "execution_count": null,
      "outputs": [
        {
          "output_type": "stream",
          "name": "stdout",
          "text": [
            "\u001b[1m1/1\u001b[0m \u001b[32m━━━━━━━━━━━━━━━━━━━━\u001b[0m\u001b[37m\u001b[0m \u001b[1m0s\u001b[0m 75ms/step\n"
          ]
        },
        {
          "output_type": "display_data",
          "data": {
            "text/plain": [
              "<Figure size 640x480 with 1 Axes>"
            ],
            "image/png": "[encoded data removed]"
          },
          "metadata": {}
        }
      ]
    },
    {
      "cell_type": "code",
      "source": [
        "# Membaca gambar (pastikan 28x28 piksel dan grayscale)\n",
        "image_path = 'Angka_9_bl.jpg'  # Ganti dengan nama file gambar kamu\n",
        "img = Image.open(image_path).convert('L')  # Convert ke grayscale\n",
        "img = img.resize((28, 28))  # Resize ke 28x28\n",
        "img_array = np.array(img)\n",
        "\n",
        "# Invers warna jika background putih (optional, tergantung gambar)\n",
        "img_array = 255 - img_array\n",
        "\n",
        "# Normalisasi dan ubah bentuk\n",
        "img_array = img_array / 255.0\n",
        "img_array = img_array.reshape(1, 28, 28, 1)\n",
        "\n",
        "# Prediksi\n",
        "prediction = model.predict(img_array)\n",
        "predicted_label = np.argmax(prediction)\n",
        "\n",
        "plt.imshow(img_array.reshape(28, 28), cmap='gray')\n",
        "plt.title(f'Prediksi: {predicted_label}')\n",
        "plt.axis('off')\n",
        "plt.show()\n"
      ],
      "metadata": {
        "colab": {
          "base_uri": "https://localhost:8080/",
          "height": 446
        },
        "id": "DODKEUxTnCCB",
        "outputId": "2d0c9fe9-cde7-4067-df79-7532f1396b94"
      },
      "execution_count": null,
      "outputs": [
        {
          "output_type": "stream",
          "name": "stdout",
          "text": [
            "\u001b[1m1/1\u001b[0m \u001b[32m━━━━━━━━━━━━━━━━━━━━\u001b[0m\u001b[37m\u001b[0m \u001b[1m0s\u001b[0m 78ms/step\n"
          ]
        },
        {
          "output_type": "display_data",
          "data": {
            "text/plain": [
              "<Figure size 640x480 with 1 Axes>"
            ],
            "image/png": "[encoded data removed]"
          },
          "metadata": {}
        }
      ]
    },
    {
      "cell_type": "code",
      "source": [
        "# Membaca gambar (pastikan 28x28 piksel dan grayscale)\n",
        "image_path = 'Angka_9_wh.jpg'  # Ganti dengan nama file gambar kamu\n",
        "img = Image.open(image_path).convert('L')  # Convert ke grayscale\n",
        "img = img.resize((28, 28))  # Resize ke 28x28\n",
        "img_array = np.array(img)\n",
        "\n",
        "# Invers warna jika background putih (optional, tergantung gambar)\n",
        "img_array = 255 - img_array\n",
        "\n",
        "# Normalisasi dan ubah bentuk\n",
        "img_array = img_array / 255.0\n",
        "img_array = img_array.reshape(1, 28, 28, 1)\n",
        "\n",
        "# Prediksi\n",
        "prediction = model.predict(img_array)\n",
        "predicted_label = np.argmax(prediction)\n",
        "\n",
        "plt.imshow(img_array.reshape(28, 28), cmap='gray')\n",
        "plt.title(f'Prediksi: {predicted_label}')\n",
        "plt.axis('off')\n",
        "plt.show()\n"
      ],
      "metadata": {
        "colab": {
          "base_uri": "https://localhost:8080/",
          "height": 446
        },
        "id": "Mjhf0HXPnHEt",
        "outputId": "4c0de812-d4f7-4417-b594-4d30940f2b04"
      },
      "execution_count": null,
      "outputs": [
        {
          "output_type": "stream",
          "name": "stdout",
          "text": [
            "\u001b[1m1/1\u001b[0m \u001b[32m━━━━━━━━━━━━━━━━━━━━\u001b[0m\u001b[37m\u001b[0m \u001b[1m0s\u001b[0m 82ms/step\n"
          ]
        },
        {
          "output_type": "display_data",
          "data": {
            "text/plain": [
              "<Figure size 640x480 with 1 Axes>"
            ],
            "image/png": "[encoded data removed]"
          },
          "metadata": {}
        }
      ]
    },
    {
      "cell_type": "code",
      "source": [
        "# Membaca gambar (pastikan 28x28 piksel dan grayscale)\n",
        "image_path = 'Angka_9.2_wh.jpg'  # Ganti dengan nama file gambar kamu\n",
        "img = Image.open(image_path).convert('L')  # Convert ke grayscale\n",
        "img = img.resize((28, 28))  # Resize ke 28x28\n",
        "img_array = np.array(img)\n",
        "\n",
        "# Invers warna jika background putih (optional, tergantung gambar)\n",
        "img_array = 255 - img_array\n",
        "\n",
        "# Normalisasi dan ubah bentuk\n",
        "img_array = img_array / 255.0\n",
        "img_array = img_array.reshape(1, 28, 28, 1)\n",
        "\n",
        "# Prediksi\n",
        "prediction = model.predict(img_array)\n",
        "predicted_label = np.argmax(prediction)\n",
        "\n",
        "plt.imshow(img_array.reshape(28, 28), cmap='gray')\n",
        "plt.title(f'Prediksi: {predicted_label}')\n",
        "plt.axis('off')\n",
        "plt.show()\n"
      ],
      "metadata": {
        "colab": {
          "base_uri": "https://localhost:8080/",
          "height": 446
        },
        "id": "b3I224gbnoY0",
        "outputId": "8549268f-a672-415f-cfde-3cad897058ba"
      },
      "execution_count": null,
      "outputs": [
        {
          "output_type": "stream",
          "name": "stdout",
          "text": [
            "\u001b[1m1/1\u001b[0m \u001b[32m━━━━━━━━━━━━━━━━━━━━\u001b[0m\u001b[37m\u001b[0m \u001b[1m0s\u001b[0m 75ms/step\n"
          ]
        },
        {
          "output_type": "display_data",
          "data": {
            "text/plain": [
              "<Figure size 640x480 with 1 Axes>"
            ],
            "image/png": "[encoded data removed]"
          },
          "metadata": {}
        }
      ]
    },
    {
      "cell_type": "code",
      "source": [
        "# Membaca gambar (pastikan 28x28 piksel dan grayscale)\n",
        "image_path = 'Angka_10_bl.jpg'  # Ganti dengan nama file gambar kamu\n",
        "img = Image.open(image_path).convert('L')  # Convert ke grayscale\n",
        "img = img.resize((28, 28))  # Resize ke 28x28\n",
        "img_array = np.array(img)\n",
        "\n",
        "# Invers warna jika background putih (optional, tergantung gambar)\n",
        "img_array = 255 - img_array\n",
        "\n",
        "# Normalisasi dan ubah bentuk\n",
        "img_array = img_array / 255.0\n",
        "img_array = img_array.reshape(1, 28, 28, 1)\n",
        "\n",
        "# Prediksi\n",
        "prediction = model.predict(img_array)\n",
        "predicted_label = np.argmax(prediction)\n",
        "\n",
        "plt.imshow(img_array.reshape(28, 28), cmap='gray')\n",
        "plt.title(f'Prediksi: {predicted_label}')\n",
        "plt.axis('off')\n",
        "plt.show()\n"
      ],
      "metadata": {
        "colab": {
          "base_uri": "https://localhost:8080/",
          "height": 446
        },
        "id": "W8g7uTaTnrmr",
        "outputId": "cb5cb402-b82d-403e-b168-9279fc893b92"
      },
      "execution_count": null,
      "outputs": [
        {
          "output_type": "stream",
          "name": "stdout",
          "text": [
            "\u001b[1m1/1\u001b[0m \u001b[32m━━━━━━━━━━━━━━━━━━━━\u001b[0m\u001b[37m\u001b[0m \u001b[1m0s\u001b[0m 73ms/step\n"
          ]
        },
        {
          "output_type": "display_data",
          "data": {
            "text/plain": [
              "<Figure size 640x480 with 1 Axes>"
            ],
            "image/png": "[encoded data removed]"
          },
          "metadata": {}
        }
      ]
    },
    {
      "cell_type": "code",
      "source": [
        "# Menyimpan ke Google Drive\n",
        "from google.colab import drive\n",
        "drive.mount('/content/drive')\n",
        "\n",
        "model.save('/content/drive/MyDrive/model_digit_recognizer.h5')\n"
      ],
      "metadata": {
        "colab": {
          "base_uri": "https://localhost:8080/"
        },
        "id": "4W5U-wvFoRpj",
        "outputId": "41b40d8b-01b8-4ffc-d120-aca60cc9f1f2"
      },
      "execution_count": null,
      "outputs": [
        {
          "output_type": "stream",
          "name": "stderr",
          "text": [
            "WARNING:absl:You are saving your model as an HDF5 file via `model.save()` or `keras.saving.save_model(model)`. This file format is considered legacy. We recommend using instead the native Keras format, e.g. `model.save('my_model.keras')` or `keras.saving.save_model(model, 'my_model.keras')`. \n"
          ]
        },
        {
          "output_type": "stream",
          "name": "stdout",
          "text": [
            "Mounted at /content/drive\n"
          ]
        }
      ]
    },
    {
      "cell_type": "code",
      "source": [
        "from tensorflow.keras.models import load_model\n",
        "model = load_model('/content/drive/MyDrive/model_digit_recognizer.h5')\n"
      ],
      "metadata": {
        "colab": {
          "base_uri": "https://localhost:8080/"
        },
        "id": "3r7DjwXaobFn",
        "outputId": "b7fa5d53-5cb4-4028-8c38-13d784208426"
      },
      "execution_count": null,
      "outputs": [
        {
          "output_type": "stream",
          "name": "stderr",
          "text": [
            "WARNING:absl:Compiled the loaded model, but the compiled metrics have yet to be built. `model.compile_metrics` will be empty until you train or evaluate the model.\n"
          ]
        }
      ]
    },
    {
      "cell_type": "markdown",
      "source": [
        "#NEXT\n"
      ],
      "metadata": {
        "id": "S36MttBWo1ce"
      }
    },
    {
      "cell_type": "code",
      "source": [
        "# Mount Google Drive dulu\n",
        "from google.colab import drive\n",
        "drive.mount('/content/drive')\n",
        "\n",
        "# Load model dari Google Drive\n",
        "from tensorflow.keras.models import load_model\n",
        "model = load_model('/content/drive/MyDrive/model_digit_recognizer.h5')\n"
      ],
      "metadata": {
        "id": "CmgmXE3Qo4BE"
      },
      "execution_count": null,
      "outputs": []
    }
  ]
}