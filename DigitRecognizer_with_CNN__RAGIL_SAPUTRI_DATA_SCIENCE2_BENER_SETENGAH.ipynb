{
  "metadata": {
    "kernelspec": {
      "language": "python",
      "display_name": "Python 3",
      "name": "python3"
    },
    "language_info": {
      "name": "python",
      "version": "3.10.12",
      "mimetype": "text/x-python",
      "codemirror_mode": {
        "name": "ipython",
        "version": 3
      },
      "pygments_lexer": "ipython3",
      "nbconvert_exporter": "python",
      "file_extension": ".py"
    },
    "kaggle": {
      "accelerator": "none",
      "dataSources": [
        {
          "sourceId": 3004,
          "databundleVersionId": 861823,
          "sourceType": "competition"
        },
        {
          "sourceId": 3107,
          "sourceType": "modelInstanceVersion",
          "modelInstanceId": 2320,
          "modelId": 271
        }
      ],
      "dockerImageVersionId": 30587,
      "isInternetEnabled": false,
      "language": "python",
      "sourceType": "notebook",
      "isGpuEnabled": false
    },
    "colab": {
      "provenance": [],
      "include_colab_link": true
    }
  },
  "nbformat_minor": 0,
  "nbformat": 4,
  "cells": [
    {
      "cell_type": "markdown",
      "metadata": {
        "id": "view-in-github",
        "colab_type": "text"
      },
      "source": [
        "<a href=\"https://colab.research.google.com/github/RAGILSAPUTRI/AI_TUGAS/blob/main/DigitRecognizer_with_CNN__RAGIL_SAPUTRI_DATA_SCIENCE2_BENER_SETENGAH.ipynb\" target=\"_parent\"><img src=\"https://colab.research.google.com/assets/colab-badge.svg\" alt=\"Open In Colab\"/></a>"
      ]
    },
    {
      "cell_type": "code",
      "source": [
        "import numpy as np # linear algebra\n",
        "import pandas as pd # data processing, CSV file I/O (e.g. pd.read_csv)\n",
        "import matplotlib.pyplot as plt\n",
        "\n",
        "import tensorflow as tf\n",
        "from tensorflow import keras\n",
        "from tensorflow.keras import layers,models\n",
        "from tensorflow.keras.callbacks import EarlyStopping\n",
        "from tensorflow.keras.applications import ResNet50\n",
        "from tensorflow.keras.layers import Input, GlobalAveragePooling2D\n",
        "from tensorflow.keras.utils import to_categorical\n",
        "from keras.callbacks import ReduceLROnPlateau\n"
      ],
      "metadata": {
        "trusted": true,
        "id": "uMLMlMEJQJ5h"
      },
      "outputs": [],
      "execution_count": null
    },
    {
      "cell_type": "code",
      "source": [
        "df_train = pd.read_csv('train.csv')\n",
        "df_test = pd.read_csv('test.csv')"
      ],
      "metadata": {
        "execution": {
          "iopub.status.busy": "2023-12-03T16:15:02.701493Z",
          "iopub.execute_input": "2023-12-03T16:15:02.703613Z",
          "iopub.status.idle": "2023-12-03T16:15:09.749296Z",
          "shell.execute_reply.started": "2023-12-03T16:15:02.703565Z",
          "shell.execute_reply": "2023-12-03T16:15:09.748275Z"
        },
        "trusted": true,
        "id": "fp3tSnxbQJ5i"
      },
      "outputs": [],
      "execution_count": null
    },
    {
      "cell_type": "code",
      "source": [
        "df_train.head(10)"
      ],
      "metadata": {
        "execution": {
          "iopub.status.busy": "2023-12-03T16:15:09.750545Z",
          "iopub.execute_input": "2023-12-03T16:15:09.750914Z",
          "iopub.status.idle": "2023-12-03T16:15:09.785915Z",
          "shell.execute_reply.started": "2023-12-03T16:15:09.75088Z",
          "shell.execute_reply": "2023-12-03T16:15:09.784798Z"
        },
        "trusted": true,
        "id": "h3SZajQ8QJ5i",
        "outputId": "9350106d-227f-40bb-ab57-93bb5ff50c7a",
        "colab": {
          "base_uri": "https://localhost:8080/",
          "height": 412
        }
      },
      "outputs": [
        {
          "output_type": "execute_result",
          "data": {
            "text/plain": [
              "   label  pixel0  pixel1  pixel2  pixel3  pixel4  pixel5  pixel6  pixel7  \\\n",
              "0      1       0       0       0       0       0       0       0       0   \n",
              "1      0       0       0       0       0       0       0       0       0   \n",
              "2      1       0       0       0       0       0       0       0       0   \n",
              "3      4       0       0       0       0       0       0       0       0   \n",
              "4      0       0       0       0       0       0       0       0       0   \n",
              "5      0       0       0       0       0       0       0       0       0   \n",
              "6      7       0       0       0       0       0       0       0       0   \n",
              "7      3       0       0       0       0       0       0       0       0   \n",
              "8      5       0       0       0       0       0       0       0       0   \n",
              "9      3       0       0       0       0       0       0       0       0   \n",
              "\n",
              "   pixel8  ...  pixel774  pixel775  pixel776  pixel777  pixel778  pixel779  \\\n",
              "0       0  ...         0         0         0         0         0         0   \n",
              "1       0  ...         0         0         0         0         0         0   \n",
              "2       0  ...         0         0         0         0         0         0   \n",
              "3       0  ...         0         0         0         0         0         0   \n",
              "4       0  ...         0         0         0         0         0         0   \n",
              "5       0  ...         0         0         0         0         0         0   \n",
              "6       0  ...         0         0         0         0         0         0   \n",
              "7       0  ...         0         0         0         0         0         0   \n",
              "8       0  ...         0         0         0         0         0         0   \n",
              "9       0  ...         0         0         0         0         0         0   \n",
              "\n",
              "   pixel780  pixel781  pixel782  pixel783  \n",
              "0         0         0         0         0  \n",
              "1         0         0         0         0  \n",
              "2         0         0         0         0  \n",
              "3         0         0         0         0  \n",
              "4         0         0         0         0  \n",
              "5         0         0         0         0  \n",
              "6         0         0         0         0  \n",
              "7         0         0         0         0  \n",
              "8         0         0         0         0  \n",
              "9         0         0         0         0  \n",
              "\n",
              "[10 rows x 785 columns]"
            ],
            "text/html": [
              "\n",
              "  <div id=\"df-ca9f9909-5a4c-439f-9d45-551d640db0ac\" class=\"colab-df-container\">\n",
              "    <div>\n",
              "<style scoped>\n",
              "    .dataframe tbody tr th:only-of-type {\n",
              "        vertical-align: middle;\n",
              "    }\n",
              "\n",
              "    .dataframe tbody tr th {\n",
              "        vertical-align: top;\n",
              "    }\n",
              "\n",
              "    .dataframe thead th {\n",
              "        text-align: right;\n",
              "    }\n",
              "</style>\n",
              "<table border=\"1\" class=\"dataframe\">\n",
              "  <thead>\n",
              "    <tr style=\"text-align: right;\">\n",
              "      <th></th>\n",
              "      <th>label</th>\n",
              "      <th>pixel0</th>\n",
              "      <th>pixel1</th>\n",
              "      <th>pixel2</th>\n",
              "      <th>pixel3</th>\n",
              "      <th>pixel4</th>\n",
              "      <th>pixel5</th>\n",
              "      <th>pixel6</th>\n",
              "      <th>pixel7</th>\n",
              "      <th>pixel8</th>\n",
              "      <th>...</th>\n",
              "      <th>pixel774</th>\n",
              "      <th>pixel775</th>\n",
              "      <th>pixel776</th>\n",
              "      <th>pixel777</th>\n",
              "      <th>pixel778</th>\n",
              "      <th>pixel779</th>\n",
              "      <th>pixel780</th>\n",
              "      <th>pixel781</th>\n",
              "      <th>pixel782</th>\n",
              "      <th>pixel783</th>\n",
              "    </tr>\n",
              "  </thead>\n",
              "  <tbody>\n",
              "    <tr>\n",
              "      <th>0</th>\n",
              "      <td>1</td>\n",
              "      <td>0</td>\n",
              "      <td>0</td>\n",
              "      <td>0</td>\n",
              "      <td>0</td>\n",
              "      <td>0</td>\n",
              "      <td>0</td>\n",
              "      <td>0</td>\n",
              "      <td>0</td>\n",
              "      <td>0</td>\n",
              "      <td>...</td>\n",
              "      <td>0</td>\n",
              "      <td>0</td>\n",
              "      <td>0</td>\n",
              "      <td>0</td>\n",
              "      <td>0</td>\n",
              "      <td>0</td>\n",
              "      <td>0</td>\n",
              "      <td>0</td>\n",
              "      <td>0</td>\n",
              "      <td>0</td>\n",
              "    </tr>\n",
              "    <tr>\n",
              "      <th>1</th>\n",
              "      <td>0</td>\n",
              "      <td>0</td>\n",
              "      <td>0</td>\n",
              "      <td>0</td>\n",
              "      <td>0</td>\n",
              "      <td>0</td>\n",
              "      <td>0</td>\n",
              "      <td>0</td>\n",
              "      <td>0</td>\n",
              "      <td>0</td>\n",
              "      <td>...</td>\n",
              "      <td>0</td>\n",
              "      <td>0</td>\n",
              "      <td>0</td>\n",
              "      <td>0</td>\n",
              "      <td>0</td>\n",
              "      <td>0</td>\n",
              "      <td>0</td>\n",
              "      <td>0</td>\n",
              "      <td>0</td>\n",
              "      <td>0</td>\n",
              "    </tr>\n",
              "    <tr>\n",
              "      <th>2</th>\n",
              "      <td>1</td>\n",
              "      <td>0</td>\n",
              "      <td>0</td>\n",
              "      <td>0</td>\n",
              "      <td>0</td>\n",
              "      <td>0</td>\n",
              "      <td>0</td>\n",
              "      <td>0</td>\n",
              "      <td>0</td>\n",
              "      <td>0</td>\n",
              "      <td>...</td>\n",
              "      <td>0</td>\n",
              "      <td>0</td>\n",
              "      <td>0</td>\n",
              "      <td>0</td>\n",
              "      <td>0</td>\n",
              "      <td>0</td>\n",
              "      <td>0</td>\n",
              "      <td>0</td>\n",
              "      <td>0</td>\n",
              "      <td>0</td>\n",
              "    </tr>\n",
              "    <tr>\n",
              "      <th>3</th>\n",
              "      <td>4</td>\n",
              "      <td>0</td>\n",
              "      <td>0</td>\n",
              "      <td>0</td>\n",
              "      <td>0</td>\n",
              "      <td>0</td>\n",
              "      <td>0</td>\n",
              "      <td>0</td>\n",
              "      <td>0</td>\n",
              "      <td>0</td>\n",
              "      <td>...</td>\n",
              "      <td>0</td>\n",
              "      <td>0</td>\n",
              "      <td>0</td>\n",
              "      <td>0</td>\n",
              "      <td>0</td>\n",
              "      <td>0</td>\n",
              "      <td>0</td>\n",
              "      <td>0</td>\n",
              "      <td>0</td>\n",
              "      <td>0</td>\n",
              "    </tr>\n",
              "    <tr>\n",
              "      <th>4</th>\n",
              "      <td>0</td>\n",
              "      <td>0</td>\n",
              "      <td>0</td>\n",
              "      <td>0</td>\n",
              "      <td>0</td>\n",
              "      <td>0</td>\n",
              "      <td>0</td>\n",
              "      <td>0</td>\n",
              "      <td>0</td>\n",
              "      <td>0</td>\n",
              "      <td>...</td>\n",
              "      <td>0</td>\n",
              "      <td>0</td>\n",
              "      <td>0</td>\n",
              "      <td>0</td>\n",
              "      <td>0</td>\n",
              "      <td>0</td>\n",
              "      <td>0</td>\n",
              "      <td>0</td>\n",
              "      <td>0</td>\n",
              "      <td>0</td>\n",
              "    </tr>\n",
              "    <tr>\n",
              "      <th>5</th>\n",
              "      <td>0</td>\n",
              "      <td>0</td>\n",
              "      <td>0</td>\n",
              "      <td>0</td>\n",
              "      <td>0</td>\n",
              "      <td>0</td>\n",
              "      <td>0</td>\n",
              "      <td>0</td>\n",
              "      <td>0</td>\n",
              "      <td>0</td>\n",
              "      <td>...</td>\n",
              "      <td>0</td>\n",
              "      <td>0</td>\n",
              "      <td>0</td>\n",
              "      <td>0</td>\n",
              "      <td>0</td>\n",
              "      <td>0</td>\n",
              "      <td>0</td>\n",
              "      <td>0</td>\n",
              "      <td>0</td>\n",
              "      <td>0</td>\n",
              "    </tr>\n",
              "    <tr>\n",
              "      <th>6</th>\n",
              "      <td>7</td>\n",
              "      <td>0</td>\n",
              "      <td>0</td>\n",
              "      <td>0</td>\n",
              "      <td>0</td>\n",
              "      <td>0</td>\n",
              "      <td>0</td>\n",
              "      <td>0</td>\n",
              "      <td>0</td>\n",
              "      <td>0</td>\n",
              "      <td>...</td>\n",
              "      <td>0</td>\n",
              "      <td>0</td>\n",
              "      <td>0</td>\n",
              "      <td>0</td>\n",
              "      <td>0</td>\n",
              "      <td>0</td>\n",
              "      <td>0</td>\n",
              "      <td>0</td>\n",
              "      <td>0</td>\n",
              "      <td>0</td>\n",
              "    </tr>\n",
              "    <tr>\n",
              "      <th>7</th>\n",
              "      <td>3</td>\n",
              "      <td>0</td>\n",
              "      <td>0</td>\n",
              "      <td>0</td>\n",
              "      <td>0</td>\n",
              "      <td>0</td>\n",
              "      <td>0</td>\n",
              "      <td>0</td>\n",
              "      <td>0</td>\n",
              "      <td>0</td>\n",
              "      <td>...</td>\n",
              "      <td>0</td>\n",
              "      <td>0</td>\n",
              "      <td>0</td>\n",
              "      <td>0</td>\n",
              "      <td>0</td>\n",
              "      <td>0</td>\n",
              "      <td>0</td>\n",
              "      <td>0</td>\n",
              "      <td>0</td>\n",
              "      <td>0</td>\n",
              "    </tr>\n",
              "    <tr>\n",
              "      <th>8</th>\n",
              "      <td>5</td>\n",
              "      <td>0</td>\n",
              "      <td>0</td>\n",
              "      <td>0</td>\n",
              "      <td>0</td>\n",
              "      <td>0</td>\n",
              "      <td>0</td>\n",
              "      <td>0</td>\n",
              "      <td>0</td>\n",
              "      <td>0</td>\n",
              "      <td>...</td>\n",
              "      <td>0</td>\n",
              "      <td>0</td>\n",
              "      <td>0</td>\n",
              "      <td>0</td>\n",
              "      <td>0</td>\n",
              "      <td>0</td>\n",
              "      <td>0</td>\n",
              "      <td>0</td>\n",
              "      <td>0</td>\n",
              "      <td>0</td>\n",
              "    </tr>\n",
              "    <tr>\n",
              "      <th>9</th>\n",
              "      <td>3</td>\n",
              "      <td>0</td>\n",
              "      <td>0</td>\n",
              "      <td>0</td>\n",
              "      <td>0</td>\n",
              "      <td>0</td>\n",
              "      <td>0</td>\n",
              "      <td>0</td>\n",
              "      <td>0</td>\n",
              "      <td>0</td>\n",
              "      <td>...</td>\n",
              "      <td>0</td>\n",
              "      <td>0</td>\n",
              "      <td>0</td>\n",
              "      <td>0</td>\n",
              "      <td>0</td>\n",
              "      <td>0</td>\n",
              "      <td>0</td>\n",
              "      <td>0</td>\n",
              "      <td>0</td>\n",
              "      <td>0</td>\n",
              "    </tr>\n",
              "  </tbody>\n",
              "</table>\n",
              "<p>10 rows × 785 columns</p>\n",
              "</div>\n",
              "    <div class=\"colab-df-buttons\">\n",
              "\n",
              "  <div class=\"colab-df-container\">\n",
              "    <button class=\"colab-df-convert\" onclick=\"convertToInteractive('df-ca9f9909-5a4c-439f-9d45-551d640db0ac')\"\n",
              "            title=\"Convert this dataframe to an interactive table.\"\n",
              "            style=\"display:none;\">\n",
              "\n",
              "  <svg xmlns=\"http://www.w3.org/2000/svg\" height=\"24px\" viewBox=\"0 -960 960 960\">\n",
              "    <path d=\"M120-120v-720h720v720H120Zm60-500h600v-160H180v160Zm220 220h160v-160H400v160Zm0 220h160v-160H400v160ZM180-400h160v-160H180v160Zm440 0h160v-160H620v160ZM180-180h160v-160H180v160Zm440 0h160v-160H620v160Z\"/>\n",
              "  </svg>\n",
              "    </button>\n",
              "\n",
              "  <style>\n",
              "    .colab-df-container {\n",
              "      display:flex;\n",
              "      gap: 12px;\n",
              "    }\n",
              "\n",
              "    .colab-df-convert {\n",
              "      background-color: #E8F0FE;\n",
              "      border: none;\n",
              "      border-radius: 50%;\n",
              "      cursor: pointer;\n",
              "      display: none;\n",
              "      fill: #1967D2;\n",
              "      height: 32px;\n",
              "      padding: 0 0 0 0;\n",
              "      width: 32px;\n",
              "    }\n",
              "\n",
              "    .colab-df-convert:hover {\n",
              "      background-color: #E2EBFA;\n",
              "      box-shadow: 0px 1px 2px rgba(60, 64, 67, 0.3), 0px 1px 3px 1px rgba(60, 64, 67, 0.15);\n",
              "      fill: #174EA6;\n",
              "    }\n",
              "\n",
              "    .colab-df-buttons div {\n",
              "      margin-bottom: 4px;\n",
              "    }\n",
              "\n",
              "    [theme=dark] .colab-df-convert {\n",
              "      background-color: #3B4455;\n",
              "      fill: #D2E3FC;\n",
              "    }\n",
              "\n",
              "    [theme=dark] .colab-df-convert:hover {\n",
              "      background-color: #434B5C;\n",
              "      box-shadow: 0px 1px 3px 1px rgba(0, 0, 0, 0.15);\n",
              "      filter: drop-shadow(0px 1px 2px rgba(0, 0, 0, 0.3));\n",
              "      fill: #FFFFFF;\n",
              "    }\n",
              "  </style>\n",
              "\n",
              "    <script>\n",
              "      const buttonEl =\n",
              "        document.querySelector('#df-ca9f9909-5a4c-439f-9d45-551d640db0ac button.colab-df-convert');\n",
              "      buttonEl.style.display =\n",
              "        google.colab.kernel.accessAllowed ? 'block' : 'none';\n",
              "\n",
              "      async function convertToInteractive(key) {\n",
              "        const element = document.querySelector('#df-ca9f9909-5a4c-439f-9d45-551d640db0ac');\n",
              "        const dataTable =\n",
              "          await google.colab.kernel.invokeFunction('convertToInteractive',\n",
              "                                                    [key], {});\n",
              "        if (!dataTable) return;\n",
              "\n",
              "        const docLinkHtml = 'Like what you see? Visit the ' +\n",
              "          '<a target=\"_blank\" href=https://colab.research.google.com/notebooks/data_table.ipynb>data table notebook</a>'\n",
              "          + ' to learn more about interactive tables.';\n",
              "        element.innerHTML = '';\n",
              "        dataTable['output_type'] = 'display_data';\n",
              "        await google.colab.output.renderOutput(dataTable, element);\n",
              "        const docLink = document.createElement('div');\n",
              "        docLink.innerHTML = docLinkHtml;\n",
              "        element.appendChild(docLink);\n",
              "      }\n",
              "    </script>\n",
              "  </div>\n",
              "\n",
              "\n",
              "    <div id=\"df-1803451f-7e7b-48a8-a140-01f5be44176e\">\n",
              "      <button class=\"colab-df-quickchart\" onclick=\"quickchart('df-1803451f-7e7b-48a8-a140-01f5be44176e')\"\n",
              "                title=\"Suggest charts\"\n",
              "                style=\"display:none;\">\n",
              "\n",
              "<svg xmlns=\"http://www.w3.org/2000/svg\" height=\"24px\"viewBox=\"0 0 24 24\"\n",
              "     width=\"24px\">\n",
              "    <g>\n",
              "        <path d=\"M19 3H5c-1.1 0-2 .9-2 2v14c0 1.1.9 2 2 2h14c1.1 0 2-.9 2-2V5c0-1.1-.9-2-2-2zM9 17H7v-7h2v7zm4 0h-2V7h2v10zm4 0h-2v-4h2v4z\"/>\n",
              "    </g>\n",
              "</svg>\n",
              "      </button>\n",
              "\n",
              "<style>\n",
              "  .colab-df-quickchart {\n",
              "      --bg-color: #E8F0FE;\n",
              "      --fill-color: #1967D2;\n",
              "      --hover-bg-color: #E2EBFA;\n",
              "      --hover-fill-color: #174EA6;\n",
              "      --disabled-fill-color: #AAA;\n",
              "      --disabled-bg-color: #DDD;\n",
              "  }\n",
              "\n",
              "  [theme=dark] .colab-df-quickchart {\n",
              "      --bg-color: #3B4455;\n",
              "      --fill-color: #D2E3FC;\n",
              "      --hover-bg-color: #434B5C;\n",
              "      --hover-fill-color: #FFFFFF;\n",
              "      --disabled-bg-color: #3B4455;\n",
              "      --disabled-fill-color: #666;\n",
              "  }\n",
              "\n",
              "  .colab-df-quickchart {\n",
              "    background-color: var(--bg-color);\n",
              "    border: none;\n",
              "    border-radius: 50%;\n",
              "    cursor: pointer;\n",
              "    display: none;\n",
              "    fill: var(--fill-color);\n",
              "    height: 32px;\n",
              "    padding: 0;\n",
              "    width: 32px;\n",
              "  }\n",
              "\n",
              "  .colab-df-quickchart:hover {\n",
              "    background-color: var(--hover-bg-color);\n",
              "    box-shadow: 0 1px 2px rgba(60, 64, 67, 0.3), 0 1px 3px 1px rgba(60, 64, 67, 0.15);\n",
              "    fill: var(--button-hover-fill-color);\n",
              "  }\n",
              "\n",
              "  .colab-df-quickchart-complete:disabled,\n",
              "  .colab-df-quickchart-complete:disabled:hover {\n",
              "    background-color: var(--disabled-bg-color);\n",
              "    fill: var(--disabled-fill-color);\n",
              "    box-shadow: none;\n",
              "  }\n",
              "\n",
              "  .colab-df-spinner {\n",
              "    border: 2px solid var(--fill-color);\n",
              "    border-color: transparent;\n",
              "    border-bottom-color: var(--fill-color);\n",
              "    animation:\n",
              "      spin 1s steps(1) infinite;\n",
              "  }\n",
              "\n",
              "  @keyframes spin {\n",
              "    0% {\n",
              "      border-color: transparent;\n",
              "      border-bottom-color: var(--fill-color);\n",
              "      border-left-color: var(--fill-color);\n",
              "    }\n",
              "    20% {\n",
              "      border-color: transparent;\n",
              "      border-left-color: var(--fill-color);\n",
              "      border-top-color: var(--fill-color);\n",
              "    }\n",
              "    30% {\n",
              "      border-color: transparent;\n",
              "      border-left-color: var(--fill-color);\n",
              "      border-top-color: var(--fill-color);\n",
              "      border-right-color: var(--fill-color);\n",
              "    }\n",
              "    40% {\n",
              "      border-color: transparent;\n",
              "      border-right-color: var(--fill-color);\n",
              "      border-top-color: var(--fill-color);\n",
              "    }\n",
              "    60% {\n",
              "      border-color: transparent;\n",
              "      border-right-color: var(--fill-color);\n",
              "    }\n",
              "    80% {\n",
              "      border-color: transparent;\n",
              "      border-right-color: var(--fill-color);\n",
              "      border-bottom-color: var(--fill-color);\n",
              "    }\n",
              "    90% {\n",
              "      border-color: transparent;\n",
              "      border-bottom-color: var(--fill-color);\n",
              "    }\n",
              "  }\n",
              "</style>\n",
              "\n",
              "      <script>\n",
              "        async function quickchart(key) {\n",
              "          const quickchartButtonEl =\n",
              "            document.querySelector('#' + key + ' button');\n",
              "          quickchartButtonEl.disabled = true;  // To prevent multiple clicks.\n",
              "          quickchartButtonEl.classList.add('colab-df-spinner');\n",
              "          try {\n",
              "            const charts = await google.colab.kernel.invokeFunction(\n",
              "                'suggestCharts', [key], {});\n",
              "          } catch (error) {\n",
              "            console.error('Error during call to suggestCharts:', error);\n",
              "          }\n",
              "          quickchartButtonEl.classList.remove('colab-df-spinner');\n",
              "          quickchartButtonEl.classList.add('colab-df-quickchart-complete');\n",
              "        }\n",
              "        (() => {\n",
              "          let quickchartButtonEl =\n",
              "            document.querySelector('#df-1803451f-7e7b-48a8-a140-01f5be44176e button');\n",
              "          quickchartButtonEl.style.display =\n",
              "            google.colab.kernel.accessAllowed ? 'block' : 'none';\n",
              "        })();\n",
              "      </script>\n",
              "    </div>\n",
              "\n",
              "    </div>\n",
              "  </div>\n"
            ],
            "application/vnd.google.colaboratory.intrinsic+json": {
              "type": "dataframe",
              "variable_name": "df_train"
            }
          },
          "metadata": {},
          "execution_count": 3
        }
      ],
      "execution_count": null
    },
    {
      "cell_type": "code",
      "source": [
        "df_train.isnull().sum()"
      ],
      "metadata": {
        "execution": {
          "iopub.status.busy": "2023-12-03T16:15:13.842391Z",
          "iopub.execute_input": "2023-12-03T16:15:13.842802Z",
          "iopub.status.idle": "2023-12-03T16:15:13.880617Z",
          "shell.execute_reply.started": "2023-12-03T16:15:13.842771Z",
          "shell.execute_reply": "2023-12-03T16:15:13.879454Z"
        },
        "trusted": true,
        "id": "JHUGTK6fQJ5j",
        "outputId": "e013d1d6-efcb-4ae6-f759-43d5b598502d",
        "colab": {
          "base_uri": "https://localhost:8080/",
          "height": 458
        }
      },
      "outputs": [
        {
          "output_type": "execute_result",
          "data": {
            "text/plain": [
              "label       0\n",
              "pixel0      0\n",
              "pixel1      0\n",
              "pixel2      0\n",
              "pixel3      0\n",
              "           ..\n",
              "pixel779    0\n",
              "pixel780    0\n",
              "pixel781    0\n",
              "pixel782    0\n",
              "pixel783    0\n",
              "Length: 785, dtype: int64"
            ],
            "text/html": [
              "<div>\n",
              "<style scoped>\n",
              "    .dataframe tbody tr th:only-of-type {\n",
              "        vertical-align: middle;\n",
              "    }\n",
              "\n",
              "    .dataframe tbody tr th {\n",
              "        vertical-align: top;\n",
              "    }\n",
              "\n",
              "    .dataframe thead th {\n",
              "        text-align: right;\n",
              "    }\n",
              "</style>\n",
              "<table border=\"1\" class=\"dataframe\">\n",
              "  <thead>\n",
              "    <tr style=\"text-align: right;\">\n",
              "      <th></th>\n",
              "      <th>0</th>\n",
              "    </tr>\n",
              "  </thead>\n",
              "  <tbody>\n",
              "    <tr>\n",
              "      <th>label</th>\n",
              "      <td>0</td>\n",
              "    </tr>\n",
              "    <tr>\n",
              "      <th>pixel0</th>\n",
              "      <td>0</td>\n",
              "    </tr>\n",
              "    <tr>\n",
              "      <th>pixel1</th>\n",
              "      <td>0</td>\n",
              "    </tr>\n",
              "    <tr>\n",
              "      <th>pixel2</th>\n",
              "      <td>0</td>\n",
              "    </tr>\n",
              "    <tr>\n",
              "      <th>pixel3</th>\n",
              "      <td>0</td>\n",
              "    </tr>\n",
              "    <tr>\n",
              "      <th>...</th>\n",
              "      <td>...</td>\n",
              "    </tr>\n",
              "    <tr>\n",
              "      <th>pixel779</th>\n",
              "      <td>0</td>\n",
              "    </tr>\n",
              "    <tr>\n",
              "      <th>pixel780</th>\n",
              "      <td>0</td>\n",
              "    </tr>\n",
              "    <tr>\n",
              "      <th>pixel781</th>\n",
              "      <td>0</td>\n",
              "    </tr>\n",
              "    <tr>\n",
              "      <th>pixel782</th>\n",
              "      <td>0</td>\n",
              "    </tr>\n",
              "    <tr>\n",
              "      <th>pixel783</th>\n",
              "      <td>0</td>\n",
              "    </tr>\n",
              "  </tbody>\n",
              "</table>\n",
              "<p>785 rows × 1 columns</p>\n",
              "</div><br><label><b>dtype:</b> int64</label>"
            ]
          },
          "metadata": {},
          "execution_count": 4
        }
      ],
      "execution_count": null
    },
    {
      "cell_type": "markdown",
      "source": [
        "#Transformasi Data (Data Transformation)\n",
        "1. Normalisasi & Reshape"
      ],
      "metadata": {
        "id": "Wr80jNsQJiLC"
      }
    },
    {
      "cell_type": "code",
      "source": [
        "y_train  = df_train['label'].values # np array of all the labels (42000, )\n",
        "X_train = df_train.drop(columns=['label']).values.reshape(-1,28,28,1)/255.0 # drop the labels and reshape (num_rows, height , width , channel)\n",
        "X_test = df_test.values.reshape(-1, 28, 28, 1) / 255.0 # /255.0 --> ormalizing these pixel values to the range [0, 1]"
      ],
      "metadata": {
        "execution": {
          "iopub.status.busy": "2023-12-03T16:15:17.774663Z",
          "iopub.execute_input": "2023-12-03T16:15:17.775111Z",
          "iopub.status.idle": "2023-12-03T16:15:18.131911Z",
          "shell.execute_reply.started": "2023-12-03T16:15:17.775075Z",
          "shell.execute_reply": "2023-12-03T16:15:18.13063Z"
        },
        "trusted": true,
        "id": "WNtI3HhTQJ5j"
      },
      "outputs": [],
      "execution_count": null
    },
    {
      "cell_type": "markdown",
      "source": [
        "#Encoding"
      ],
      "metadata": {
        "id": "s8ry-2KYKUVH"
      }
    },
    {
      "cell_type": "code",
      "source": [
        "y_train_encoded = to_categorical(y_train, num_classes=10)"
      ],
      "metadata": {
        "execution": {
          "iopub.status.busy": "2023-12-03T16:15:20.990819Z",
          "iopub.execute_input": "2023-12-03T16:15:20.991256Z",
          "iopub.status.idle": "2023-12-03T16:15:20.996685Z",
          "shell.execute_reply.started": "2023-12-03T16:15:20.991224Z",
          "shell.execute_reply": "2023-12-03T16:15:20.995472Z"
        },
        "trusted": true,
        "id": "s19ggqC_QJ5j"
      },
      "outputs": [],
      "execution_count": null
    },
    {
      "cell_type": "markdown",
      "source": [
        "# <p style=\"background-color:#F8F1E8; font-family:newtimeroman;color:#602F44; font-size:150%; text-align:center; border-radius: 15px 50px;\"> Data Visualisasi\n",
        " 📊</p>\n",
        "\n"
      ],
      "metadata": {
        "id": "aKLfxEw5QJ5k"
      }
    },
    {
      "cell_type": "code",
      "source": [
        "fig , axes  = plt.subplots(2, 5, figsize=(12,5))\n",
        "axes   = axes.flatten()\n",
        "idx = np.random.randint(0, 42000, size=10)\n",
        "for i in range(10):\n",
        "    axes[i].imshow(X_train[idx[i], :].reshape(28,28), cmap='gray')\n",
        "    axes[i].axis('off') # hide the axes ticks\n",
        "    axes[i].set_title(str(int(y_train[idx[i]])), color='black', fontsize=25)\n",
        "plt.show()"
      ],
      "metadata": {
        "execution": {
          "iopub.status.busy": "2023-12-03T16:15:27.77372Z",
          "iopub.execute_input": "2023-12-03T16:15:27.774138Z",
          "iopub.status.idle": "2023-12-03T16:15:28.741596Z",
          "shell.execute_reply.started": "2023-12-03T16:15:27.774107Z",
          "shell.execute_reply": "2023-12-03T16:15:28.740278Z"
        },
        "trusted": true,
        "id": "SwvH5BgjQJ5k",
        "outputId": "9efcec3c-4c6e-4e7d-cac9-2d88c6599802",
        "colab": {
          "base_uri": "https://localhost:8080/",
          "height": 442
        }
      },
      "outputs": [
        {
          "output_type": "display_data",
          "data": {
            "text/plain": [
              "<Figure size 1200x500 with 10 Axes>"
            ],
            "image/png": "[encoded data removed]"
          },
          "metadata": {}
        }
      ],
      "execution_count": null
    },
    {
      "cell_type": "markdown",
      "source": [
        "# <p style=\"background-color:#F8F1E8; font-family:newtimeroman;color:#602F44; font-size:150%; text-align:center; border-radius: 15px 50px;\"> Model ⚖️</p>\n"
      ],
      "metadata": {
        "id": "WdbR5wtcQJ5k"
      }
    },
    {
      "cell_type": "markdown",
      "source": [
        "#Arsitektur Model"
      ],
      "metadata": {
        "id": "fSEdrrQNFjId"
      }
    },
    {
      "cell_type": "code",
      "source": [
        "model = models.Sequential([\n",
        "\n",
        "    layers.Conv2D(filters=64, kernel_size=3, padding='same', activation='relu', input_shape=(28,28,1)),\n",
        "    layers.Conv2D(filters=64, kernel_size=3, padding='same',activation='relu'),\n",
        "    layers.Conv2D(filters=128, kernel_size=3, padding='same',activation='relu'),\n",
        "    layers.MaxPool2D(pool_size=2),\n",
        "\n",
        "    layers.Conv2D(filters=128, kernel_size=3, padding='same',activation='relu'),\n",
        "    layers.Conv2D(filters=192, kernel_size=3, padding='same',activation='relu'),\n",
        "    layers.MaxPool2D(pool_size=2),\n",
        "\n",
        "    layers.Conv2D(filters=192, kernel_size=5, padding='same',activation='relu'),\n",
        "    layers.MaxPool2D(pool_size=2, padding='same'),\n",
        "\n",
        "    layers.Flatten(),\n",
        "\n",
        "    layers.Dense(units=256, activation='relu'),\n",
        "    layers.Dense(units=10, activation='softmax'),\n",
        "])\n"
      ],
      "metadata": {
        "execution": {
          "iopub.status.busy": "2023-12-03T16:15:32.705429Z",
          "iopub.execute_input": "2023-12-03T16:15:32.706691Z",
          "iopub.status.idle": "2023-12-03T16:15:33.062362Z",
          "shell.execute_reply.started": "2023-12-03T16:15:32.706637Z",
          "shell.execute_reply": "2023-12-03T16:15:33.060457Z"
        },
        "trusted": true,
        "id": "MucOE5PQQJ5l",
        "outputId": "aca9a7ba-8f69-4407-a923-1c07fdddc857",
        "colab": {
          "base_uri": "https://localhost:8080/"
        }
      },
      "outputs": [
        {
          "output_type": "stream",
          "name": "stderr",
          "text": [
            "/usr/local/lib/python3.11/dist-packages/keras/src/layers/convolutional/base_conv.py:107: UserWarning: Do not pass an `input_shape`/`input_dim` argument to a layer. When using Sequential models, prefer using an `Input(shape)` object as the first layer in the model instead.\n",
            "  super().__init__(activity_regularizer=activity_regularizer, **kwargs)\n"
          ]
        }
      ],
      "execution_count": null
    },
    {
      "cell_type": "code",
      "source": [
        "model.summary()"
      ],
      "metadata": {
        "execution": {
          "iopub.status.busy": "2023-12-03T16:15:36.792987Z",
          "iopub.execute_input": "2023-12-03T16:15:36.7934Z",
          "iopub.status.idle": "2023-12-03T16:15:36.834255Z",
          "shell.execute_reply.started": "2023-12-03T16:15:36.793369Z",
          "shell.execute_reply": "2023-12-03T16:15:36.833143Z"
        },
        "trusted": true,
        "id": "gEGHbQysQJ5l",
        "outputId": "dfd235c6-ae99-4787-aa93-7c901f29bc48",
        "colab": {
          "base_uri": "https://localhost:8080/",
          "height": 529
        }
      },
      "outputs": [
        {
          "output_type": "display_data",
          "data": {
            "text/plain": [
              "\u001b[1mModel: \"sequential\"\u001b[0m\n"
            ],
            "text/html": [
              "<pre style=\"white-space:pre;overflow-x:auto;line-height:normal;font-family:Menlo,'DejaVu Sans Mono',consolas,'Courier New',monospace\"><span style=\"font-weight: bold\">Model: \"sequential\"</span>\n",
              "</pre>\n"
            ]
          },
          "metadata": {}
        },
        {
          "output_type": "display_data",
          "data": {
            "text/plain": [
              "┏━━━━━━━━━━━━━━━━━━━━━━━━━━━━━━━━━┳━━━━━━━━━━━━━━━━━━━━━━━━┳━━━━━━━━━━━━━━━┓\n",
              "┃\u001b[1m \u001b[0m\u001b[1mLayer (type)                   \u001b[0m\u001b[1m \u001b[0m┃\u001b[1m \u001b[0m\u001b[1mOutput Shape          \u001b[0m\u001b[1m \u001b[0m┃\u001b[1m \u001b[0m\u001b[1m      Param #\u001b[0m\u001b[1m \u001b[0m┃\n",
              "┡━━━━━━━━━━━━━━━━━━━━━━━━━━━━━━━━━╇━━━━━━━━━━━━━━━━━━━━━━━━╇━━━━━━━━━━━━━━━┩\n",
              "│ conv2d (\u001b[38;5;33mConv2D\u001b[0m)                 │ (\u001b[38;5;45mNone\u001b[0m, \u001b[38;5;34m28\u001b[0m, \u001b[38;5;34m28\u001b[0m, \u001b[38;5;34m64\u001b[0m)     │           \u001b[38;5;34m640\u001b[0m │\n",
              "├─────────────────────────────────┼────────────────────────┼───────────────┤\n",
              "│ conv2d_1 (\u001b[38;5;33mConv2D\u001b[0m)               │ (\u001b[38;5;45mNone\u001b[0m, \u001b[38;5;34m28\u001b[0m, \u001b[38;5;34m28\u001b[0m, \u001b[38;5;34m64\u001b[0m)     │        \u001b[38;5;34m36,928\u001b[0m │\n",
              "├─────────────────────────────────┼────────────────────────┼───────────────┤\n",
              "│ conv2d_2 (\u001b[38;5;33mConv2D\u001b[0m)               │ (\u001b[38;5;45mNone\u001b[0m, \u001b[38;5;34m28\u001b[0m, \u001b[38;5;34m28\u001b[0m, \u001b[38;5;34m128\u001b[0m)    │        \u001b[38;5;34m73,856\u001b[0m │\n",
              "├─────────────────────────────────┼────────────────────────┼───────────────┤\n",
              "│ max_pooling2d (\u001b[38;5;33mMaxPooling2D\u001b[0m)    │ (\u001b[38;5;45mNone\u001b[0m, \u001b[38;5;34m14\u001b[0m, \u001b[38;5;34m14\u001b[0m, \u001b[38;5;34m128\u001b[0m)    │             \u001b[38;5;34m0\u001b[0m │\n",
              "├─────────────────────────────────┼────────────────────────┼───────────────┤\n",
              "│ conv2d_3 (\u001b[38;5;33mConv2D\u001b[0m)               │ (\u001b[38;5;45mNone\u001b[0m, \u001b[38;5;34m14\u001b[0m, \u001b[38;5;34m14\u001b[0m, \u001b[38;5;34m128\u001b[0m)    │       \u001b[38;5;34m147,584\u001b[0m │\n",
              "├─────────────────────────────────┼────────────────────────┼───────────────┤\n",
              "│ conv2d_4 (\u001b[38;5;33mConv2D\u001b[0m)               │ (\u001b[38;5;45mNone\u001b[0m, \u001b[38;5;34m14\u001b[0m, \u001b[38;5;34m14\u001b[0m, \u001b[38;5;34m192\u001b[0m)    │       \u001b[38;5;34m221,376\u001b[0m │\n",
              "├─────────────────────────────────┼────────────────────────┼───────────────┤\n",
              "│ max_pooling2d_1 (\u001b[38;5;33mMaxPooling2D\u001b[0m)  │ (\u001b[38;5;45mNone\u001b[0m, \u001b[38;5;34m7\u001b[0m, \u001b[38;5;34m7\u001b[0m, \u001b[38;5;34m192\u001b[0m)      │             \u001b[38;5;34m0\u001b[0m │\n",
              "├─────────────────────────────────┼────────────────────────┼───────────────┤\n",
              "│ conv2d_5 (\u001b[38;5;33mConv2D\u001b[0m)               │ (\u001b[38;5;45mNone\u001b[0m, \u001b[38;5;34m7\u001b[0m, \u001b[38;5;34m7\u001b[0m, \u001b[38;5;34m192\u001b[0m)      │       \u001b[38;5;34m921,792\u001b[0m │\n",
              "├─────────────────────────────────┼────────────────────────┼───────────────┤\n",
              "│ max_pooling2d_2 (\u001b[38;5;33mMaxPooling2D\u001b[0m)  │ (\u001b[38;5;45mNone\u001b[0m, \u001b[38;5;34m4\u001b[0m, \u001b[38;5;34m4\u001b[0m, \u001b[38;5;34m192\u001b[0m)      │             \u001b[38;5;34m0\u001b[0m │\n",
              "├─────────────────────────────────┼────────────────────────┼───────────────┤\n",
              "│ flatten (\u001b[38;5;33mFlatten\u001b[0m)               │ (\u001b[38;5;45mNone\u001b[0m, \u001b[38;5;34m3072\u001b[0m)           │             \u001b[38;5;34m0\u001b[0m │\n",
              "├─────────────────────────────────┼────────────────────────┼───────────────┤\n",
              "│ dense (\u001b[38;5;33mDense\u001b[0m)                   │ (\u001b[38;5;45mNone\u001b[0m, \u001b[38;5;34m256\u001b[0m)            │       \u001b[38;5;34m786,688\u001b[0m │\n",
              "├─────────────────────────────────┼────────────────────────┼───────────────┤\n",
              "│ dense_1 (\u001b[38;5;33mDense\u001b[0m)                 │ (\u001b[38;5;45mNone\u001b[0m, \u001b[38;5;34m10\u001b[0m)             │         \u001b[38;5;34m2,570\u001b[0m │\n",
              "└─────────────────────────────────┴────────────────────────┴───────────────┘\n"
            ],
            "text/html": [
              "<pre style=\"white-space:pre;overflow-x:auto;line-height:normal;font-family:Menlo,'DejaVu Sans Mono',consolas,'Courier New',monospace\">┏━━━━━━━━━━━━━━━━━━━━━━━━━━━━━━━━━┳━━━━━━━━━━━━━━━━━━━━━━━━┳━━━━━━━━━━━━━━━┓\n",
              "┃<span style=\"font-weight: bold\"> Layer (type)                    </span>┃<span style=\"font-weight: bold\"> Output Shape           </span>┃<span style=\"font-weight: bold\">       Param # </span>┃\n",
              "┡━━━━━━━━━━━━━━━━━━━━━━━━━━━━━━━━━╇━━━━━━━━━━━━━━━━━━━━━━━━╇━━━━━━━━━━━━━━━┩\n",
              "│ conv2d (<span style=\"color: #0087ff; text-decoration-color: #0087ff\">Conv2D</span>)                 │ (<span style=\"color: #00d7ff; text-decoration-color: #00d7ff\">None</span>, <span style=\"color: #00af00; text-decoration-color: #00af00\">28</span>, <span style=\"color: #00af00; text-decoration-color: #00af00\">28</span>, <span style=\"color: #00af00; text-decoration-color: #00af00\">64</span>)     │           <span style=\"color: #00af00; text-decoration-color: #00af00\">640</span> │\n",
              "├─────────────────────────────────┼────────────────────────┼───────────────┤\n",
              "│ conv2d_1 (<span style=\"color: #0087ff; text-decoration-color: #0087ff\">Conv2D</span>)               │ (<span style=\"color: #00d7ff; text-decoration-color: #00d7ff\">None</span>, <span style=\"color: #00af00; text-decoration-color: #00af00\">28</span>, <span style=\"color: #00af00; text-decoration-color: #00af00\">28</span>, <span style=\"color: #00af00; text-decoration-color: #00af00\">64</span>)     │        <span style=\"color: #00af00; text-decoration-color: #00af00\">36,928</span> │\n",
              "├─────────────────────────────────┼────────────────────────┼───────────────┤\n",
              "│ conv2d_2 (<span style=\"color: #0087ff; text-decoration-color: #0087ff\">Conv2D</span>)               │ (<span style=\"color: #00d7ff; text-decoration-color: #00d7ff\">None</span>, <span style=\"color: #00af00; text-decoration-color: #00af00\">28</span>, <span style=\"color: #00af00; text-decoration-color: #00af00\">28</span>, <span style=\"color: #00af00; text-decoration-color: #00af00\">128</span>)    │        <span style=\"color: #00af00; text-decoration-color: #00af00\">73,856</span> │\n",
              "├─────────────────────────────────┼────────────────────────┼───────────────┤\n",
              "│ max_pooling2d (<span style=\"color: #0087ff; text-decoration-color: #0087ff\">MaxPooling2D</span>)    │ (<span style=\"color: #00d7ff; text-decoration-color: #00d7ff\">None</span>, <span style=\"color: #00af00; text-decoration-color: #00af00\">14</span>, <span style=\"color: #00af00; text-decoration-color: #00af00\">14</span>, <span style=\"color: #00af00; text-decoration-color: #00af00\">128</span>)    │             <span style=\"color: #00af00; text-decoration-color: #00af00\">0</span> │\n",
              "├─────────────────────────────────┼────────────────────────┼───────────────┤\n",
              "│ conv2d_3 (<span style=\"color: #0087ff; text-decoration-color: #0087ff\">Conv2D</span>)               │ (<span style=\"color: #00d7ff; text-decoration-color: #00d7ff\">None</span>, <span style=\"color: #00af00; text-decoration-color: #00af00\">14</span>, <span style=\"color: #00af00; text-decoration-color: #00af00\">14</span>, <span style=\"color: #00af00; text-decoration-color: #00af00\">128</span>)    │       <span style=\"color: #00af00; text-decoration-color: #00af00\">147,584</span> │\n",
              "├─────────────────────────────────┼────────────────────────┼───────────────┤\n",
              "│ conv2d_4 (<span style=\"color: #0087ff; text-decoration-color: #0087ff\">Conv2D</span>)               │ (<span style=\"color: #00d7ff; text-decoration-color: #00d7ff\">None</span>, <span style=\"color: #00af00; text-decoration-color: #00af00\">14</span>, <span style=\"color: #00af00; text-decoration-color: #00af00\">14</span>, <span style=\"color: #00af00; text-decoration-color: #00af00\">192</span>)    │       <span style=\"color: #00af00; text-decoration-color: #00af00\">221,376</span> │\n",
              "├─────────────────────────────────┼────────────────────────┼───────────────┤\n",
              "│ max_pooling2d_1 (<span style=\"color: #0087ff; text-decoration-color: #0087ff\">MaxPooling2D</span>)  │ (<span style=\"color: #00d7ff; text-decoration-color: #00d7ff\">None</span>, <span style=\"color: #00af00; text-decoration-color: #00af00\">7</span>, <span style=\"color: #00af00; text-decoration-color: #00af00\">7</span>, <span style=\"color: #00af00; text-decoration-color: #00af00\">192</span>)      │             <span style=\"color: #00af00; text-decoration-color: #00af00\">0</span> │\n",
              "├─────────────────────────────────┼────────────────────────┼───────────────┤\n",
              "│ conv2d_5 (<span style=\"color: #0087ff; text-decoration-color: #0087ff\">Conv2D</span>)               │ (<span style=\"color: #00d7ff; text-decoration-color: #00d7ff\">None</span>, <span style=\"color: #00af00; text-decoration-color: #00af00\">7</span>, <span style=\"color: #00af00; text-decoration-color: #00af00\">7</span>, <span style=\"color: #00af00; text-decoration-color: #00af00\">192</span>)      │       <span style=\"color: #00af00; text-decoration-color: #00af00\">921,792</span> │\n",
              "├─────────────────────────────────┼────────────────────────┼───────────────┤\n",
              "│ max_pooling2d_2 (<span style=\"color: #0087ff; text-decoration-color: #0087ff\">MaxPooling2D</span>)  │ (<span style=\"color: #00d7ff; text-decoration-color: #00d7ff\">None</span>, <span style=\"color: #00af00; text-decoration-color: #00af00\">4</span>, <span style=\"color: #00af00; text-decoration-color: #00af00\">4</span>, <span style=\"color: #00af00; text-decoration-color: #00af00\">192</span>)      │             <span style=\"color: #00af00; text-decoration-color: #00af00\">0</span> │\n",
              "├─────────────────────────────────┼────────────────────────┼───────────────┤\n",
              "│ flatten (<span style=\"color: #0087ff; text-decoration-color: #0087ff\">Flatten</span>)               │ (<span style=\"color: #00d7ff; text-decoration-color: #00d7ff\">None</span>, <span style=\"color: #00af00; text-decoration-color: #00af00\">3072</span>)           │             <span style=\"color: #00af00; text-decoration-color: #00af00\">0</span> │\n",
              "├─────────────────────────────────┼────────────────────────┼───────────────┤\n",
              "│ dense (<span style=\"color: #0087ff; text-decoration-color: #0087ff\">Dense</span>)                   │ (<span style=\"color: #00d7ff; text-decoration-color: #00d7ff\">None</span>, <span style=\"color: #00af00; text-decoration-color: #00af00\">256</span>)            │       <span style=\"color: #00af00; text-decoration-color: #00af00\">786,688</span> │\n",
              "├─────────────────────────────────┼────────────────────────┼───────────────┤\n",
              "│ dense_1 (<span style=\"color: #0087ff; text-decoration-color: #0087ff\">Dense</span>)                 │ (<span style=\"color: #00d7ff; text-decoration-color: #00d7ff\">None</span>, <span style=\"color: #00af00; text-decoration-color: #00af00\">10</span>)             │         <span style=\"color: #00af00; text-decoration-color: #00af00\">2,570</span> │\n",
              "└─────────────────────────────────┴────────────────────────┴───────────────┘\n",
              "</pre>\n"
            ]
          },
          "metadata": {}
        },
        {
          "output_type": "display_data",
          "data": {
            "text/plain": [
              "\u001b[1m Total params: \u001b[0m\u001b[38;5;34m2,191,434\u001b[0m (8.36 MB)\n"
            ],
            "text/html": [
              "<pre style=\"white-space:pre;overflow-x:auto;line-height:normal;font-family:Menlo,'DejaVu Sans Mono',consolas,'Courier New',monospace\"><span style=\"font-weight: bold\"> Total params: </span><span style=\"color: #00af00; text-decoration-color: #00af00\">2,191,434</span> (8.36 MB)\n",
              "</pre>\n"
            ]
          },
          "metadata": {}
        },
        {
          "output_type": "display_data",
          "data": {
            "text/plain": [
              "\u001b[1m Trainable params: \u001b[0m\u001b[38;5;34m2,191,434\u001b[0m (8.36 MB)\n"
            ],
            "text/html": [
              "<pre style=\"white-space:pre;overflow-x:auto;line-height:normal;font-family:Menlo,'DejaVu Sans Mono',consolas,'Courier New',monospace\"><span style=\"font-weight: bold\"> Trainable params: </span><span style=\"color: #00af00; text-decoration-color: #00af00\">2,191,434</span> (8.36 MB)\n",
              "</pre>\n"
            ]
          },
          "metadata": {}
        },
        {
          "output_type": "display_data",
          "data": {
            "text/plain": [
              "\u001b[1m Non-trainable params: \u001b[0m\u001b[38;5;34m0\u001b[0m (0.00 B)\n"
            ],
            "text/html": [
              "<pre style=\"white-space:pre;overflow-x:auto;line-height:normal;font-family:Menlo,'DejaVu Sans Mono',consolas,'Courier New',monospace\"><span style=\"font-weight: bold\"> Non-trainable params: </span><span style=\"color: #00af00; text-decoration-color: #00af00\">0</span> (0.00 B)\n",
              "</pre>\n"
            ]
          },
          "metadata": {}
        }
      ],
      "execution_count": null
    },
    {
      "cell_type": "markdown",
      "source": [
        "#SPLIT DATA & Teknik Pelatihan dan Validasi & Metrik Evaluasi\n"
      ],
      "metadata": {
        "id": "pyfGmfbRKzdW"
      }
    },
    {
      "cell_type": "code",
      "source": [
        "model.compile(loss='categorical_crossentropy', optimizer='adam', metrics=['accuracy'])\n",
        "\n",
        "reduce_lr = ReduceLROnPlateau(monitor='loss', factor=0.3, verbose=1,\n",
        "                              patience=2, min_lr=0.00000001)\n",
        "\n",
        "history = model.fit(\n",
        "    X_train, y_train_encoded,\n",
        "    epochs=25,\n",
        "    validation_split=0.1,\n",
        "    callbacks=[reduce_lr],\n",
        ")"
      ],
      "metadata": {
        "execution": {
          "iopub.status.busy": "2023-12-03T16:15:41.255662Z",
          "iopub.execute_input": "2023-12-03T16:15:41.256091Z",
          "iopub.status.idle": "2023-12-03T20:03:05.427198Z",
          "shell.execute_reply.started": "2023-12-03T16:15:41.256059Z",
          "shell.execute_reply": "2023-12-03T20:03:05.425297Z"
        },
        "trusted": true,
        "id": "Lpg517SqQJ5l",
        "outputId": "d2e162da-ebb2-4409-f258-849f22ce9459",
        "colab": {
          "base_uri": "https://localhost:8080/"
        }
      },
      "outputs": [
        {
          "output_type": "stream",
          "name": "stdout",
          "text": [
            "Epoch 1/25\n",
            "\u001b[1m1182/1182\u001b[0m \u001b[32m━━━━━━━━━━━━━━━━━━━━\u001b[0m\u001b[37m\u001b[0m \u001b[1m1099s\u001b[0m 926ms/step - accuracy: 0.8832 - loss: 0.3539 - val_accuracy: 0.9864 - val_loss: 0.0480 - learning_rate: 0.0010\n",
            "Epoch 2/25\n",
            "\u001b[1m1182/1182\u001b[0m \u001b[32m━━━━━━━━━━━━━━━━━━━━\u001b[0m\u001b[37m\u001b[0m \u001b[1m1096s\u001b[0m 921ms/step - accuracy: 0.9866 - loss: 0.0434 - val_accuracy: 0.9831 - val_loss: 0.0537 - learning_rate: 0.0010\n",
            "Epoch 3/25\n",
            "\u001b[1m1182/1182\u001b[0m \u001b[32m━━━━━━━━━━━━━━━━━━━━\u001b[0m\u001b[37m\u001b[0m \u001b[1m1111s\u001b[0m 928ms/step - accuracy: 0.9899 - loss: 0.0339 - val_accuracy: 0.9900 - val_loss: 0.0312 - learning_rate: 0.0010\n",
            "Epoch 4/25\n",
            "\u001b[1m1182/1182\u001b[0m \u001b[32m━━━━━━━━━━━━━━━━━━━━\u001b[0m\u001b[37m\u001b[0m \u001b[1m1095s\u001b[0m 926ms/step - accuracy: 0.9939 - loss: 0.0212 - val_accuracy: 0.9874 - val_loss: 0.0486 - learning_rate: 0.0010\n",
            "Epoch 5/25\n",
            "\u001b[1m1182/1182\u001b[0m \u001b[32m━━━━━━━━━━━━━━━━━━━━\u001b[0m\u001b[37m\u001b[0m \u001b[1m1096s\u001b[0m 921ms/step - accuracy: 0.9942 - loss: 0.0200 - val_accuracy: 0.9898 - val_loss: 0.0353 - learning_rate: 0.0010\n",
            "Epoch 6/25\n",
            "\u001b[1m1182/1182\u001b[0m \u001b[32m━━━━━━━━━━━━━━━━━━━━\u001b[0m\u001b[37m\u001b[0m \u001b[1m1095s\u001b[0m 915ms/step - accuracy: 0.9947 - loss: 0.0176 - val_accuracy: 0.9936 - val_loss: 0.0362 - learning_rate: 0.0010\n",
            "Epoch 7/25\n",
            "\u001b[1m1182/1182\u001b[0m \u001b[32m━━━━━━━━━━━━━━━━━━━━\u001b[0m\u001b[37m\u001b[0m \u001b[1m1083s\u001b[0m 916ms/step - accuracy: 0.9939 - loss: 0.0184 - val_accuracy: 0.9914 - val_loss: 0.0316 - learning_rate: 0.0010\n",
            "Epoch 8/25\n",
            "\u001b[1m1182/1182\u001b[0m \u001b[32m━━━━━━━━━━━━━━━━━━━━\u001b[0m\u001b[37m\u001b[0m \u001b[1m1108s\u001b[0m 921ms/step - accuracy: 0.9965 - loss: 0.0126 - val_accuracy: 0.9900 - val_loss: 0.0359 - learning_rate: 0.0010\n",
            "Epoch 9/25\n",
            "\u001b[1m1182/1182\u001b[0m \u001b[32m━━━━━━━━━━━━━━━━━━━━\u001b[0m\u001b[37m\u001b[0m \u001b[1m1091s\u001b[0m 922ms/step - accuracy: 0.9968 - loss: 0.0104 - val_accuracy: 0.9926 - val_loss: 0.0227 - learning_rate: 0.0010\n",
            "Epoch 10/25\n",
            "\u001b[1m1182/1182\u001b[0m \u001b[32m━━━━━━━━━━━━━━━━━━━━\u001b[0m\u001b[37m\u001b[0m \u001b[1m1104s\u001b[0m 924ms/step - accuracy: 0.9981 - loss: 0.0071 - val_accuracy: 0.9900 - val_loss: 0.0502 - learning_rate: 0.0010\n",
            "Epoch 11/25\n",
            "\u001b[1m1182/1182\u001b[0m \u001b[32m━━━━━━━━━━━━━━━━━━━━\u001b[0m\u001b[37m\u001b[0m \u001b[1m1099s\u001b[0m 922ms/step - accuracy: 0.9966 - loss: 0.0130 - val_accuracy: 0.9926 - val_loss: 0.0368 - learning_rate: 0.0010\n",
            "Epoch 12/25\n",
            "\u001b[1m1182/1182\u001b[0m \u001b[32m━━━━━━━━━━━━━━━━━━━━\u001b[0m\u001b[37m\u001b[0m \u001b[1m1090s\u001b[0m 922ms/step - accuracy: 0.9980 - loss: 0.0073 - val_accuracy: 0.9924 - val_loss: 0.0400 - learning_rate: 0.0010\n",
            "Epoch 13/25\n",
            "\u001b[1m1182/1182\u001b[0m \u001b[32m━━━━━━━━━━━━━━━━━━━━\u001b[0m\u001b[37m\u001b[0m \u001b[1m1093s\u001b[0m 925ms/step - accuracy: 0.9973 - loss: 0.0092 - val_accuracy: 0.9905 - val_loss: 0.0401 - learning_rate: 0.0010\n",
            "Epoch 14/25\n",
            "\u001b[1m1182/1182\u001b[0m \u001b[32m━━━━━━━━━━━━━━━━━━━━\u001b[0m\u001b[37m\u001b[0m \u001b[1m0s\u001b[0m 888ms/step - accuracy: 0.9979 - loss: 0.0069\n",
            "Epoch 14: ReduceLROnPlateau reducing learning rate to 0.0003000000142492354.\n",
            "\u001b[1m1182/1182\u001b[0m \u001b[32m━━━━━━━━━━━━━━━━━━━━\u001b[0m\u001b[37m\u001b[0m \u001b[1m1091s\u001b[0m 923ms/step - accuracy: 0.9979 - loss: 0.0069 - val_accuracy: 0.9898 - val_loss: 0.0554 - learning_rate: 0.0010\n",
            "Epoch 15/25\n",
            "\u001b[1m1182/1182\u001b[0m \u001b[32m━━━━━━━━━━━━━━━━━━━━\u001b[0m\u001b[37m\u001b[0m \u001b[1m1102s\u001b[0m 922ms/step - accuracy: 0.9991 - loss: 0.0028 - val_accuracy: 0.9933 - val_loss: 0.0436 - learning_rate: 3.0000e-04\n",
            "Epoch 16/25\n",
            "\u001b[1m1182/1182\u001b[0m \u001b[32m━━━━━━━━━━━━━━━━━━━━\u001b[0m\u001b[37m\u001b[0m \u001b[1m1094s\u001b[0m 916ms/step - accuracy: 1.0000 - loss: 6.9139e-05 - val_accuracy: 0.9936 - val_loss: 0.0422 - learning_rate: 3.0000e-04\n",
            "Epoch 17/25\n",
            "\u001b[1m1182/1182\u001b[0m \u001b[32m━━━━━━━━━━━━━━━━━━━━\u001b[0m\u001b[37m\u001b[0m \u001b[1m1076s\u001b[0m 910ms/step - accuracy: 1.0000 - loss: 1.1475e-05 - val_accuracy: 0.9933 - val_loss: 0.0434 - learning_rate: 3.0000e-04\n",
            "Epoch 18/25\n",
            "\u001b[1m1182/1182\u001b[0m \u001b[32m━━━━━━━━━━━━━━━━━━━━\u001b[0m\u001b[37m\u001b[0m \u001b[1m0s\u001b[0m 896ms/step - accuracy: 1.0000 - loss: 4.8251e-06\n",
            "Epoch 18: ReduceLROnPlateau reducing learning rate to 9.000000427477062e-05.\n",
            "\u001b[1m1182/1182\u001b[0m \u001b[32m━━━━━━━━━━━━━━━━━━━━\u001b[0m\u001b[37m\u001b[0m \u001b[1m1100s\u001b[0m 931ms/step - accuracy: 1.0000 - loss: 4.8253e-06 - val_accuracy: 0.9936 - val_loss: 0.0447 - learning_rate: 3.0000e-04\n",
            "Epoch 19/25\n",
            "\u001b[1m1182/1182\u001b[0m \u001b[32m━━━━━━━━━━━━━━━━━━━━\u001b[0m\u001b[37m\u001b[0m \u001b[1m1102s\u001b[0m 931ms/step - accuracy: 1.0000 - loss: 2.7678e-06 - val_accuracy: 0.9936 - val_loss: 0.0452 - learning_rate: 9.0000e-05\n",
            "Epoch 20/25\n",
            "\u001b[1m1182/1182\u001b[0m \u001b[32m━━━━━━━━━━━━━━━━━━━━\u001b[0m\u001b[37m\u001b[0m \u001b[1m0s\u001b[0m 901ms/step - accuracy: 1.0000 - loss: 2.4072e-06\n",
            "Epoch 20: ReduceLROnPlateau reducing learning rate to 2.700000040931627e-05.\n",
            "\u001b[1m1182/1182\u001b[0m \u001b[32m━━━━━━━━━━━━━━━━━━━━\u001b[0m\u001b[37m\u001b[0m \u001b[1m1109s\u001b[0m 936ms/step - accuracy: 1.0000 - loss: 2.4071e-06 - val_accuracy: 0.9936 - val_loss: 0.0459 - learning_rate: 9.0000e-05\n",
            "Epoch 21/25\n",
            "\u001b[1m1182/1182\u001b[0m \u001b[32m━━━━━━━━━━━━━━━━━━━━\u001b[0m\u001b[37m\u001b[0m \u001b[1m1165s\u001b[0m 939ms/step - accuracy: 1.0000 - loss: 1.8105e-06 - val_accuracy: 0.9936 - val_loss: 0.0462 - learning_rate: 2.7000e-05\n",
            "Epoch 22/25\n",
            "\u001b[1m1182/1182\u001b[0m \u001b[32m━━━━━━━━━━━━━━━━━━━━\u001b[0m\u001b[37m\u001b[0m \u001b[1m0s\u001b[0m 900ms/step - accuracy: 1.0000 - loss: 1.5126e-06\n",
            "Epoch 22: ReduceLROnPlateau reducing learning rate to 8.100000013655517e-06.\n",
            "\u001b[1m1182/1182\u001b[0m \u001b[32m━━━━━━━━━━━━━━━━━━━━\u001b[0m\u001b[37m\u001b[0m \u001b[1m1157s\u001b[0m 935ms/step - accuracy: 1.0000 - loss: 1.5126e-06 - val_accuracy: 0.9936 - val_loss: 0.0467 - learning_rate: 2.7000e-05\n",
            "Epoch 23/25\n",
            "\u001b[1m1182/1182\u001b[0m \u001b[32m━━━━━━━━━━━━━━━━━━━━\u001b[0m\u001b[37m\u001b[0m \u001b[1m1112s\u001b[0m 941ms/step - accuracy: 1.0000 - loss: 9.9416e-07 - val_accuracy: 0.9936 - val_loss: 0.0469 - learning_rate: 8.1000e-06\n",
            "Epoch 24/25\n",
            "\u001b[1m1182/1182\u001b[0m \u001b[32m━━━━━━━━━━━━━━━━━━━━\u001b[0m\u001b[37m\u001b[0m \u001b[1m0s\u001b[0m 908ms/step - accuracy: 1.0000 - loss: 1.1263e-06\n",
            "Epoch 24: ReduceLROnPlateau reducing learning rate to 2.429999949526973e-06.\n",
            "\u001b[1m1182/1182\u001b[0m \u001b[32m━━━━━━━━━━━━━━━━━━━━\u001b[0m\u001b[37m\u001b[0m \u001b[1m1164s\u001b[0m 943ms/step - accuracy: 1.0000 - loss: 1.1263e-06 - val_accuracy: 0.9936 - val_loss: 0.0473 - learning_rate: 8.1000e-06\n",
            "Epoch 25/25\n",
            "\u001b[1m1182/1182\u001b[0m \u001b[32m━━━━━━━━━━━━━━━━━━━━\u001b[0m\u001b[37m\u001b[0m \u001b[1m1085s\u001b[0m 878ms/step - accuracy: 1.0000 - loss: 8.3187e-07 - val_accuracy: 0.9938 - val_loss: 0.0475 - learning_rate: 2.4300e-06\n"
          ]
        }
      ],
      "execution_count": null
    },
    {
      "cell_type": "markdown",
      "source": [
        "#FUNGSI LOSS"
      ],
      "metadata": {
        "id": "Seye68g3OD-e"
      }
    },
    {
      "cell_type": "code",
      "source": [
        "history_frame = pd.DataFrame(history.history)\n",
        "history_frame.loc[: , ['loss', 'val_loss']].plot()\n",
        "history_frame.loc[: , ['accuracy', 'val_accuracy']].plot()"
      ],
      "metadata": {
        "execution": {
          "iopub.status.busy": "2023-12-03T20:03:05.430106Z",
          "iopub.execute_input": "2023-12-03T20:03:05.430535Z",
          "iopub.status.idle": "2023-12-03T20:03:06.134157Z",
          "shell.execute_reply.started": "2023-12-03T20:03:05.430501Z",
          "shell.execute_reply": "2023-12-03T20:03:06.133119Z"
        },
        "trusted": true,
        "id": "qSv-D7UAQJ5l",
        "outputId": "5844b9b0-0dbf-49bc-a2ab-38f0a3df31af",
        "colab": {
          "base_uri": "https://localhost:8080/",
          "height": 861
        }
      },
      "outputs": [
        {
          "output_type": "execute_result",
          "data": {
            "text/plain": [
              "<Axes: >"
            ]
          },
          "metadata": {},
          "execution_count": 23
        },
        {
          "output_type": "display_data",
          "data": {
            "text/plain": [
              "<Figure size 640x480 with 1 Axes>"
            ],
            "image/png": "[encoded data removed]"
          },
          "metadata": {}
        },
        {
          "output_type": "display_data",
          "data": {
            "text/plain": [
              "<Figure size 640x480 with 1 Axes>"
            ],
            "image/png": "[encoded data removed]"
          },
          "metadata": {}
        }
      ],
      "execution_count": null
    },
    {
      "cell_type": "code",
      "source": [
        "# Make predictions for competition submission\n",
        "predictions = model.predict(X_test)\n"
      ],
      "metadata": {
        "execution": {
          "iopub.status.busy": "2023-12-03T20:03:06.135862Z",
          "iopub.execute_input": "2023-12-03T20:03:06.137037Z",
          "iopub.status.idle": "2023-12-03T20:05:28.58813Z",
          "shell.execute_reply.started": "2023-12-03T20:03:06.136991Z",
          "shell.execute_reply": "2023-12-03T20:05:28.586912Z"
        },
        "trusted": true,
        "id": "YYUvaFhZQJ5m",
        "outputId": "7f703be5-c4df-4148-ff7b-d701052f95bb",
        "colab": {
          "base_uri": "https://localhost:8080/"
        }
      },
      "outputs": [
        {
          "output_type": "stream",
          "name": "stdout",
          "text": [
            "\u001b[1m875/875\u001b[0m \u001b[32m━━━━━━━━━━━━━━━━━━━━\u001b[0m\u001b[37m\u001b[0m \u001b[1m204s\u001b[0m 233ms/step\n"
          ]
        }
      ],
      "execution_count": null
    },
    {
      "cell_type": "code",
      "source": [
        "predictions"
      ],
      "metadata": {
        "execution": {
          "iopub.status.busy": "2023-12-03T20:05:28.590685Z",
          "iopub.execute_input": "2023-12-03T20:05:28.591079Z",
          "iopub.status.idle": "2023-12-03T20:05:28.600877Z",
          "shell.execute_reply.started": "2023-12-03T20:05:28.591047Z",
          "shell.execute_reply": "2023-12-03T20:05:28.599758Z"
        },
        "trusted": true,
        "id": "mg5qGrMMQJ5m",
        "outputId": "6365ca0c-9d43-4b63-a35c-005763c64c8f",
        "colab": {
          "base_uri": "https://localhost:8080/"
        }
      },
      "outputs": [
        {
          "output_type": "execute_result",
          "data": {
            "text/plain": [
              "array([[4.5742237e-34, 1.6145765e-37, 9.9999994e-01, ..., 2.5103585e-37,\n",
              "        5.9207365e-31, 0.0000000e+00],\n",
              "       [9.9999994e-01, 2.4664655e-30, 1.8446916e-30, ..., 2.0460988e-22,\n",
              "        8.4162638e-28, 1.3464765e-26],\n",
              "       [3.9866549e-17, 2.2809105e-20, 8.1452294e-20, ..., 9.5682869e-13,\n",
              "        1.0450128e-15, 9.9999994e-01],\n",
              "       ...,\n",
              "       [0.0000000e+00, 4.8009875e-36, 0.0000000e+00, ..., 0.0000000e+00,\n",
              "        2.7700442e-38, 0.0000000e+00],\n",
              "       [3.4086627e-19, 9.3939940e-22, 3.7629496e-22, ..., 1.3333244e-12,\n",
              "        3.2909232e-18, 9.9999994e-01],\n",
              "       [0.0000000e+00, 0.0000000e+00, 9.9999994e-01, ..., 0.0000000e+00,\n",
              "        0.0000000e+00, 0.0000000e+00]], dtype=float32)"
            ]
          },
          "metadata": {},
          "execution_count": 25
        }
      ],
      "execution_count": null
    },
    {
      "cell_type": "code",
      "source": [
        "# Convert the model's probability outputs to digit predictions\n",
        "predicted_labels = np.argmax(predictions, axis=1)\n",
        "\n",
        "# Create a DataFrame for the submission\n",
        "submission = pd.DataFrame({\n",
        "    \"ImageId\": range(1, len(predicted_labels) + 1),  # ImageId starts from 1\n",
        "    \"Label\": predicted_labels\n",
        "})\n",
        "\n",
        "# Save the DataFrame to a CSV file\n",
        "submission.to_csv('submission.csv', index=False)"
      ],
      "metadata": {
        "execution": {
          "iopub.status.busy": "2023-12-03T20:15:32.070228Z",
          "iopub.execute_input": "2023-12-03T20:15:32.071283Z",
          "iopub.status.idle": "2023-12-03T20:15:32.153392Z",
          "shell.execute_reply.started": "2023-12-03T20:15:32.071237Z",
          "shell.execute_reply": "2023-12-03T20:15:32.152019Z"
        },
        "trusted": true,
        "id": "SQeAV7raQJ5m"
      },
      "outputs": [],
      "execution_count": null
    },
    {
      "cell_type": "code",
      "source": [
        "# Menyimpan model dalam format .h5\n",
        "model.save('model_digit_recognizer.h5')\n",
        "print(\"Model berhasil disimpan.\")\n"
      ],
      "metadata": {
        "id": "iq2ecse-v88s",
        "outputId": "e8ad60e3-95d4-43c9-988d-191423a477ad",
        "colab": {
          "base_uri": "https://localhost:8080/"
        }
      },
      "execution_count": null,
      "outputs": [
        {
          "output_type": "stream",
          "name": "stderr",
          "text": [
            "WARNING:absl:You are saving your model as an HDF5 file via `model.save()` or `keras.saving.save_model(model)`. This file format is considered legacy. We recommend using instead the native Keras format, e.g. `model.save('my_model.keras')` or `keras.saving.save_model(model, 'my_model.keras')`. \n"
          ]
        },
        {
          "output_type": "stream",
          "name": "stdout",
          "text": [
            "Model berhasil disimpan.\n"
          ]
        }
      ]
    },
    {
      "cell_type": "code",
      "source": [
        "from tensorflow.keras.models import load_model\n",
        "import numpy as np\n",
        "import matplotlib.pyplot as plt\n",
        "from PIL import Image\n",
        "\n",
        "# Memuat model yang sudah disimpan\n",
        "model = load_model('model_digit_recognizer.h5')\n",
        "print(\"Model berhasil dimuat.\")\n"
      ],
      "metadata": {
        "id": "pqG7gWxHv_Ze",
        "outputId": "6955117d-fcf9-49bd-9479-78b47f4f8ef3",
        "colab": {
          "base_uri": "https://localhost:8080/"
        }
      },
      "execution_count": null,
      "outputs": [
        {
          "output_type": "stream",
          "name": "stderr",
          "text": [
            "WARNING:absl:Compiled the loaded model, but the compiled metrics have yet to be built. `model.compile_metrics` will be empty until you train or evaluate the model.\n"
          ]
        },
        {
          "output_type": "stream",
          "name": "stdout",
          "text": [
            "Model berhasil dimuat.\n"
          ]
        }
      ]
    },
    {
      "cell_type": "code",
      "source": [
        "# Membaca gambar (pastikan 28x28 piksel dan grayscale)\n",
        "image_path = 'angka_3.png'  # Ganti dengan nama file gambar kamu\n",
        "img = Image.open(image_path).convert('L')  # Convert ke grayscale\n",
        "img = img.resize((28, 28))  # Resize ke 28x28\n",
        "img_array = np.array(img)\n",
        "\n",
        "# Invers warna jika background putih (optional, tergantung gambar)\n",
        "img_array = 255 - img_array\n",
        "\n",
        "# Normalisasi dan ubah bentuk\n",
        "img_array = img_array / 255.0\n",
        "img_array = img_array.reshape(1, 28, 28, 1)\n",
        "\n",
        "# Prediksi\n",
        "prediction = model.predict(img_array)\n",
        "predicted_label = np.argmax(prediction)\n",
        "\n",
        "plt.imshow(img_array.reshape(28, 28), cmap='gray')\n",
        "plt.title(f'Prediksi: {predicted_label}')\n",
        "plt.axis('off')\n",
        "plt.show()\n"
      ],
      "metadata": {
        "id": "_iyOfG4_wCdD",
        "outputId": "95c9f6ea-898f-49c0-a1a1-1ba50885a5e9",
        "colab": {
          "base_uri": "https://localhost:8080/",
          "height": 446
        }
      },
      "execution_count": null,
      "outputs": [
        {
          "output_type": "stream",
          "name": "stdout",
          "text": [
            "\u001b[1m1/1\u001b[0m \u001b[32m━━━━━━━━━━━━━━━━━━━━\u001b[0m\u001b[37m\u001b[0m \u001b[1m0s\u001b[0m 200ms/step\n"
          ]
        },
        {
          "output_type": "display_data",
          "data": {
            "text/plain": [
              "<Figure size 640x480 with 1 Axes>"
            ],
            "image/png": "[encoded data removed]"
          },
          "metadata": {}
        }
      ]
    },
    {
      "cell_type": "code",
      "source": [
        "# Membaca gambar (pastikan 28x28 piksel dan grayscale)\n",
        "image_path = 'angka_3.2.png'  # Ganti dengan nama file gambar kamu\n",
        "img = Image.open(image_path).convert('L')  # Convert ke grayscale\n",
        "img = img.resize((28, 28))  # Resize ke 28x28\n",
        "img_array = np.array(img)\n",
        "\n",
        "# Invers warna jika background putih (optional, tergantung gambar)\n",
        "img_array = 255 - img_array\n",
        "\n",
        "# Normalisasi dan ubah bentuk\n",
        "img_array = img_array / 255.0\n",
        "img_array = img_array.reshape(1, 28, 28, 1)\n",
        "\n",
        "# Prediksi\n",
        "prediction = model.predict(img_array)\n",
        "predicted_label = np.argmax(prediction)\n",
        "\n",
        "plt.imshow(img_array.reshape(28, 28), cmap='gray')\n",
        "plt.title(f'Prediksi: {predicted_label}')\n",
        "plt.axis('off')\n",
        "plt.show()\n"
      ],
      "metadata": {
        "id": "6NCHIsyDw38R",
        "outputId": "4c662dfe-25a8-4c73-a1f5-bac84dcd5d8f",
        "colab": {
          "base_uri": "https://localhost:8080/",
          "height": 446
        }
      },
      "execution_count": null,
      "outputs": [
        {
          "output_type": "stream",
          "name": "stdout",
          "text": [
            "\u001b[1m1/1\u001b[0m \u001b[32m━━━━━━━━━━━━━━━━━━━━\u001b[0m\u001b[37m\u001b[0m \u001b[1m0s\u001b[0m 45ms/step\n"
          ]
        },
        {
          "output_type": "display_data",
          "data": {
            "text/plain": [
              "<Figure size 640x480 with 1 Axes>"
            ],
            "image/png": "[encoded data removed]"
          },
          "metadata": {}
        }
      ]
    },
    {
      "cell_type": "code",
      "source": [
        "# Membaca gambar (pastikan 28x28 piksel dan grayscale)\n",
        "image_path = 'angka_1.png'  # Ganti dengan nama file gambar kamu\n",
        "img = Image.open(image_path).convert('L')  # Convert ke grayscale\n",
        "img = img.resize((28, 28))  # Resize ke 28x28\n",
        "img_array = np.array(img)\n",
        "\n",
        "# Invers warna jika background putih (optional, tergantung gambar)\n",
        "img_array = 255 - img_array\n",
        "\n",
        "# Normalisasi dan ubah bentuk\n",
        "img_array = img_array / 255.0\n",
        "img_array = img_array.reshape(1, 28, 28, 1)\n",
        "\n",
        "# Prediksi\n",
        "prediction = model.predict(img_array)\n",
        "predicted_label = np.argmax(prediction)\n",
        "\n",
        "plt.imshow(img_array.reshape(28, 28), cmap='gray')\n",
        "plt.title(f'Prediksi: {predicted_label}')\n",
        "plt.axis('off')\n",
        "plt.show()\n"
      ],
      "metadata": {
        "id": "D_BCUoz1xBBG",
        "outputId": "6744acfb-a728-4a64-c290-1ce1c44facf9",
        "colab": {
          "base_uri": "https://localhost:8080/",
          "height": 446
        }
      },
      "execution_count": null,
      "outputs": [
        {
          "output_type": "stream",
          "name": "stdout",
          "text": [
            "\u001b[1m1/1\u001b[0m \u001b[32m━━━━━━━━━━━━━━━━━━━━\u001b[0m\u001b[37m\u001b[0m \u001b[1m0s\u001b[0m 52ms/step\n"
          ]
        },
        {
          "output_type": "display_data",
          "data": {
            "text/plain": [
              "<Figure size 640x480 with 1 Axes>"
            ],
            "image/png": "[encoded data removed]"
          },
          "metadata": {}
        }
      ]
    },
    {
      "cell_type": "code",
      "source": [
        "# Membaca gambar (pastikan 28x28 piksel dan grayscale)\n",
        "image_path = 'Angka_1.jpg'  # Ganti dengan nama file gambar kamu\n",
        "img = Image.open(image_path).convert('L')  # Convert ke grayscale\n",
        "img = img.resize((28, 28))  # Resize ke 28x28\n",
        "img_array = np.array(img)\n",
        "\n",
        "# Invers warna jika background putih (optional, tergantung gambar)\n",
        "img_array = 255 - img_array\n",
        "\n",
        "# Normalisasi dan ubah bentuk\n",
        "img_array = img_array / 255.0\n",
        "img_array = img_array.reshape(1, 28, 28, 1)\n",
        "\n",
        "# Prediksi\n",
        "prediction = model.predict(img_array)\n",
        "predicted_label = np.argmax(prediction)\n",
        "\n",
        "plt.imshow(img_array.reshape(28, 28), cmap='gray')\n",
        "plt.title(f'Prediksi: {predicted_label}')\n",
        "plt.axis('off')\n",
        "plt.show()\n"
      ],
      "metadata": {
        "id": "ePv_e-kBxtTi",
        "outputId": "e28d594c-d55f-4cb8-ecec-59906c6242af",
        "colab": {
          "base_uri": "https://localhost:8080/",
          "height": 446
        }
      },
      "execution_count": null,
      "outputs": [
        {
          "output_type": "stream",
          "name": "stdout",
          "text": [
            "\u001b[1m1/1\u001b[0m \u001b[32m━━━━━━━━━━━━━━━━━━━━\u001b[0m\u001b[37m\u001b[0m \u001b[1m0s\u001b[0m 67ms/step\n"
          ]
        },
        {
          "output_type": "display_data",
          "data": {
            "text/plain": [
              "<Figure size 640x480 with 1 Axes>"
            ],
            "image/png": "[encoded data removed]"
          },
          "metadata": {}
        }
      ]
    },
    {
      "cell_type": "code",
      "source": [
        "# Membaca gambar (pastikan 28x28 piksel dan grayscale)\n",
        "image_path = 'Angka_6.jpg'  # Ganti dengan nama file gambar kamu\n",
        "img = Image.open(image_path).convert('L')  # Convert ke grayscale\n",
        "img = img.resize((28, 28))  # Resize ke 28x28\n",
        "img_array = np.array(img)\n",
        "\n",
        "# Invers warna jika background putih (optional, tergantung gambar)\n",
        "img_array = 255 - img_array\n",
        "\n",
        "# Normalisasi dan ubah bentuk\n",
        "img_array = img_array / 255.0\n",
        "img_array = img_array.reshape(1, 28, 28, 1)\n",
        "\n",
        "# Prediksi\n",
        "prediction = model.predict(img_array)\n",
        "predicted_label = np.argmax(prediction)\n",
        "\n",
        "plt.imshow(img_array.reshape(28, 28), cmap='gray')\n",
        "plt.title(f'Prediksi: {predicted_label}')\n",
        "plt.axis('off')\n",
        "plt.show()\n"
      ],
      "metadata": {
        "id": "X38zY1UlyFKX",
        "outputId": "ff28b973-8074-41ae-b597-07e25b244cad",
        "colab": {
          "base_uri": "https://localhost:8080/",
          "height": 446
        }
      },
      "execution_count": null,
      "outputs": [
        {
          "output_type": "stream",
          "name": "stdout",
          "text": [
            "\u001b[1m1/1\u001b[0m \u001b[32m━━━━━━━━━━━━━━━━━━━━\u001b[0m\u001b[37m\u001b[0m \u001b[1m0s\u001b[0m 83ms/step\n"
          ]
        },
        {
          "output_type": "display_data",
          "data": {
            "text/plain": [
              "<Figure size 640x480 with 1 Axes>"
            ],
            "image/png": "[encoded data removed]"
          },
          "metadata": {}
        }
      ]
    },
    {
      "cell_type": "code",
      "source": [
        "# Membaca gambar (pastikan 28x28 piksel dan grayscale)\n",
        "image_path = 'Angka_2.jpg'  # Ganti dengan nama file gambar kamu\n",
        "img = Image.open(image_path).convert('L')  # Convert ke grayscale\n",
        "img = img.resize((28, 28))  # Resize ke 28x28\n",
        "img_array = np.array(img)\n",
        "\n",
        "# Invers warna jika background putih (optional, tergantung gambar)\n",
        "img_array = 255 - img_array\n",
        "\n",
        "# Normalisasi dan ubah bentuk\n",
        "img_array = img_array / 255.0\n",
        "img_array = img_array.reshape(1, 28, 28, 1)\n",
        "\n",
        "# Prediksi\n",
        "prediction = model.predict(img_array)\n",
        "predicted_label = np.argmax(prediction)\n",
        "\n",
        "plt.imshow(img_array.reshape(28, 28), cmap='gray')\n",
        "plt.title(f'Prediksi: {predicted_label}')\n",
        "plt.axis('off')\n",
        "plt.show()\n"
      ],
      "metadata": {
        "id": "nJWbvDJGyfO9",
        "outputId": "047ef72a-fc8a-407a-d11b-51db502a2522",
        "colab": {
          "base_uri": "https://localhost:8080/",
          "height": 446
        }
      },
      "execution_count": null,
      "outputs": [
        {
          "output_type": "stream",
          "name": "stdout",
          "text": [
            "\u001b[1m1/1\u001b[0m \u001b[32m━━━━━━━━━━━━━━━━━━━━\u001b[0m\u001b[37m\u001b[0m \u001b[1m0s\u001b[0m 44ms/step\n"
          ]
        },
        {
          "output_type": "display_data",
          "data": {
            "text/plain": [
              "<Figure size 640x480 with 1 Axes>"
            ],
            "image/png": "[encoded data removed]"
          },
          "metadata": {}
        }
      ]
    },
    {
      "cell_type": "code",
      "source": [
        "# Membaca gambar (pastikan 28x28 piksel dan grayscale)\n",
        "image_path = 'Angka_1_bl.jpg'  # Ganti dengan nama file gambar kamu\n",
        "img = Image.open(image_path).convert('L')  # Convert ke grayscale\n",
        "img = img.resize((28, 28))  # Resize ke 28x28\n",
        "img_array = np.array(img)\n",
        "\n",
        "# Invers warna jika background putih (optional, tergantung gambar)\n",
        "img_array = 255 - img_array\n",
        "\n",
        "# Normalisasi dan ubah bentuk\n",
        "img_array = img_array / 255.0\n",
        "img_array = img_array.reshape(1, 28, 28, 1)\n",
        "\n",
        "# Prediksi\n",
        "prediction = model.predict(img_array)\n",
        "predicted_label = np.argmax(prediction)\n",
        "\n",
        "plt.imshow(img_array.reshape(28, 28), cmap='gray')\n",
        "plt.title(f'Prediksi: {predicted_label}')\n",
        "plt.axis('off')\n",
        "plt.show()\n"
      ],
      "metadata": {
        "id": "-yQJFrXDyk17",
        "outputId": "db6ca3c9-abb4-427d-d29a-eaab2bdd7d6a",
        "colab": {
          "base_uri": "https://localhost:8080/",
          "height": 446
        }
      },
      "execution_count": null,
      "outputs": [
        {
          "output_type": "stream",
          "name": "stdout",
          "text": [
            "\u001b[1m1/1\u001b[0m \u001b[32m━━━━━━━━━━━━━━━━━━━━\u001b[0m\u001b[37m\u001b[0m \u001b[1m0s\u001b[0m 42ms/step\n"
          ]
        },
        {
          "output_type": "display_data",
          "data": {
            "text/plain": [
              "<Figure size 640x480 with 1 Axes>"
            ],
            "image/png": "[encoded data removed]"
          },
          "metadata": {}
        }
      ]
    },
    {
      "cell_type": "code",
      "source": [
        "# Membaca gambar (pastikan 28x28 piksel dan grayscale)\n",
        "image_path = 'Angka_4_bl.jpg'  # Ganti dengan nama file gambar kamu\n",
        "img = Image.open(image_path).convert('L')  # Convert ke grayscale\n",
        "img = img.resize((28, 28))  # Resize ke 28x28\n",
        "img_array = np.array(img)\n",
        "\n",
        "# Invers warna jika background putih (optional, tergantung gambar)\n",
        "img_array = 255 - img_array\n",
        "\n",
        "# Normalisasi dan ubah bentuk\n",
        "img_array = img_array / 255.0\n",
        "img_array = img_array.reshape(1, 28, 28, 1)\n",
        "\n",
        "# Prediksi\n",
        "prediction = model.predict(img_array)\n",
        "predicted_label = np.argmax(prediction)\n",
        "\n",
        "plt.imshow(img_array.reshape(28, 28), cmap='gray')\n",
        "plt.title(f'Prediksi: {predicted_label}')\n",
        "plt.axis('off')\n",
        "plt.show()\n"
      ],
      "metadata": {
        "id": "ZpxKPaW2y51m",
        "outputId": "f4ec3b9a-813c-4bdc-fc24-1b229fd3cb77",
        "colab": {
          "base_uri": "https://localhost:8080/",
          "height": 446
        }
      },
      "execution_count": null,
      "outputs": [
        {
          "output_type": "stream",
          "name": "stdout",
          "text": [
            "\u001b[1m1/1\u001b[0m \u001b[32m━━━━━━━━━━━━━━━━━━━━\u001b[0m\u001b[37m\u001b[0m \u001b[1m0s\u001b[0m 45ms/step\n"
          ]
        },
        {
          "output_type": "display_data",
          "data": {
            "text/plain": [
              "<Figure size 640x480 with 1 Axes>"
            ],
            "image/png": "[encoded data removed]"
          },
          "metadata": {}
        }
      ]
    },
    {
      "cell_type": "code",
      "source": [
        "# Membaca gambar (pastikan 28x28 piksel dan grayscale)\n",
        "image_path = 'Angka_5_bl.jpg'  # Ganti dengan nama file gambar kamu\n",
        "img = Image.open(image_path).convert('L')  # Convert ke grayscale\n",
        "img = img.resize((28, 28))  # Resize ke 28x28\n",
        "img_array = np.array(img)\n",
        "\n",
        "# Invers warna jika background putih (optional, tergantung gambar)\n",
        "img_array = 255 - img_array\n",
        "\n",
        "# Normalisasi dan ubah bentuk\n",
        "img_array = img_array / 255.0\n",
        "img_array = img_array.reshape(1, 28, 28, 1)\n",
        "\n",
        "# Prediksi\n",
        "prediction = model.predict(img_array)\n",
        "predicted_label = np.argmax(prediction)\n",
        "\n",
        "plt.imshow(img_array.reshape(28, 28), cmap='gray')\n",
        "plt.title(f'Prediksi: {predicted_label}')\n",
        "plt.axis('off')\n",
        "plt.show()\n"
      ],
      "metadata": {
        "id": "SfDfqV-yztob",
        "outputId": "9f9bdb00-4fb2-4233-ed46-9530bf6f604f",
        "colab": {
          "base_uri": "https://localhost:8080/",
          "height": 446
        }
      },
      "execution_count": null,
      "outputs": [
        {
          "output_type": "stream",
          "name": "stdout",
          "text": [
            "\u001b[1m1/1\u001b[0m \u001b[32m━━━━━━━━━━━━━━━━━━━━\u001b[0m\u001b[37m\u001b[0m \u001b[1m0s\u001b[0m 41ms/step\n"
          ]
        },
        {
          "output_type": "display_data",
          "data": {
            "text/plain": [
              "<Figure size 640x480 with 1 Axes>"
            ],
            "image/png": "[encoded data removed]"
          },
          "metadata": {}
        }
      ]
    },
    {
      "cell_type": "code",
      "source": [
        "# Membaca gambar (pastikan 28x28 piksel dan grayscale)\n",
        "image_path = 'Angka_7_bl.jpg'  # Ganti dengan nama file gambar kamu\n",
        "img = Image.open(image_path).convert('L')  # Convert ke grayscale\n",
        "img = img.resize((28, 28))  # Resize ke 28x28\n",
        "img_array = np.array(img)\n",
        "\n",
        "# Invers warna jika background putih (optional, tergantung gambar)\n",
        "img_array = 255 - img_array\n",
        "\n",
        "# Normalisasi dan ubah bentuk\n",
        "img_array = img_array / 255.0\n",
        "img_array = img_array.reshape(1, 28, 28, 1)\n",
        "\n",
        "# Prediksi\n",
        "prediction = model.predict(img_array)\n",
        "predicted_label = np.argmax(prediction)\n",
        "\n",
        "plt.imshow(img_array.reshape(28, 28), cmap='gray')\n",
        "plt.title(f'Prediksi: {predicted_label}')\n",
        "plt.axis('off')\n",
        "plt.show()\n"
      ],
      "metadata": {
        "id": "bRpRsP2V0Cnw",
        "outputId": "684ade1e-b195-463d-eb62-610c96a2afea",
        "colab": {
          "base_uri": "https://localhost:8080/",
          "height": 446
        }
      },
      "execution_count": null,
      "outputs": [
        {
          "output_type": "stream",
          "name": "stdout",
          "text": [
            "\u001b[1m1/1\u001b[0m \u001b[32m━━━━━━━━━━━━━━━━━━━━\u001b[0m\u001b[37m\u001b[0m \u001b[1m0s\u001b[0m 39ms/step\n"
          ]
        },
        {
          "output_type": "display_data",
          "data": {
            "text/plain": [
              "<Figure size 640x480 with 1 Axes>"
            ],
            "image/png": "[encoded data removed]"
          },
          "metadata": {}
        }
      ]
    },
    {
      "cell_type": "code",
      "source": [
        "# Membaca gambar (pastikan 28x28 piksel dan grayscale)\n",
        "image_path = 'Angka_9_bl.jpg'  # Ganti dengan nama file gambar kamu\n",
        "img = Image.open(image_path).convert('L')  # Convert ke grayscale\n",
        "img = img.resize((28, 28))  # Resize ke 28x28\n",
        "img_array = np.array(img)\n",
        "\n",
        "# Invers warna jika background putih (optional, tergantung gambar)\n",
        "img_array = 255 - img_array\n",
        "\n",
        "# Normalisasi dan ubah bentuk\n",
        "img_array = img_array / 255.0\n",
        "img_array = img_array.reshape(1, 28, 28, 1)\n",
        "\n",
        "# Prediksi\n",
        "prediction = model.predict(img_array)\n",
        "predicted_label = np.argmax(prediction)\n",
        "\n",
        "plt.imshow(img_array.reshape(28, 28), cmap='gray')\n",
        "plt.title(f'Prediksi: {predicted_label}')\n",
        "plt.axis('off')\n",
        "plt.show()\n"
      ],
      "metadata": {
        "id": "9XqACPfn0H_R",
        "outputId": "ddcb9db5-426c-4a81-c662-726440d764af",
        "colab": {
          "base_uri": "https://localhost:8080/",
          "height": 446
        }
      },
      "execution_count": null,
      "outputs": [
        {
          "output_type": "stream",
          "name": "stdout",
          "text": [
            "\u001b[1m1/1\u001b[0m \u001b[32m━━━━━━━━━━━━━━━━━━━━\u001b[0m\u001b[37m\u001b[0m \u001b[1m0s\u001b[0m 46ms/step\n"
          ]
        },
        {
          "output_type": "display_data",
          "data": {
            "text/plain": [
              "<Figure size 640x480 with 1 Axes>"
            ],
            "image/png": "[encoded data removed]"
          },
          "metadata": {}
        }
      ]
    },
    {
      "cell_type": "code",
      "source": [
        "# Membaca gambar (pastikan 28x28 piksel dan grayscale)\n",
        "image_path = 'Angka_8_bl.jpg'  # Ganti dengan nama file gambar kamu\n",
        "img = Image.open(image_path).convert('L')  # Convert ke grayscale\n",
        "img = img.resize((28, 28))  # Resize ke 28x28\n",
        "img_array = np.array(img)\n",
        "\n",
        "# Invers warna jika background putih (optional, tergantung gambar)\n",
        "img_array = 255 - img_array\n",
        "\n",
        "# Normalisasi dan ubah bentuk\n",
        "img_array = img_array / 255.0\n",
        "img_array = img_array.reshape(1, 28, 28, 1)\n",
        "\n",
        "# Prediksi\n",
        "prediction = model.predict(img_array)\n",
        "predicted_label = np.argmax(prediction)\n",
        "\n",
        "plt.imshow(img_array.reshape(28, 28), cmap='gray')\n",
        "plt.title(f'Prediksi: {predicted_label}')\n",
        "plt.axis('off')\n",
        "plt.show()\n"
      ],
      "metadata": {
        "id": "kXsHLDPp0dd3",
        "outputId": "78f4e424-de24-48a4-f3d8-9eacd4da9376",
        "colab": {
          "base_uri": "https://localhost:8080/",
          "height": 446
        }
      },
      "execution_count": null,
      "outputs": [
        {
          "output_type": "stream",
          "name": "stdout",
          "text": [
            "\u001b[1m1/1\u001b[0m \u001b[32m━━━━━━━━━━━━━━━━━━━━\u001b[0m\u001b[37m\u001b[0m \u001b[1m0s\u001b[0m 67ms/step\n"
          ]
        },
        {
          "output_type": "display_data",
          "data": {
            "text/plain": [
              "<Figure size 640x480 with 1 Axes>"
            ],
            "image/png": "[encoded data removed]"
          },
          "metadata": {}
        }
      ]
    },
    {
      "cell_type": "code",
      "source": [
        "# Membaca gambar (pastikan 28x28 piksel dan grayscale)\n",
        "image_path = 'Angka_10_bl.jpg'  # Ganti dengan nama file gambar kamu\n",
        "img = Image.open(image_path).convert('L')  # Convert ke grayscale\n",
        "img = img.resize((28, 28))  # Resize ke 28x28\n",
        "img_array = np.array(img)\n",
        "\n",
        "# Invers warna jika background putih (optional, tergantung gambar)\n",
        "img_array = 255 - img_array\n",
        "\n",
        "# Normalisasi dan ubah bentuk\n",
        "img_array = img_array / 255.0\n",
        "img_array = img_array.reshape(1, 28, 28, 1)\n",
        "\n",
        "# Prediksi\n",
        "prediction = model.predict(img_array)\n",
        "predicted_label = np.argmax(prediction)\n",
        "\n",
        "plt.imshow(img_array.reshape(28, 28), cmap='gray')\n",
        "plt.title(f'Prediksi: {predicted_label}')\n",
        "plt.axis('off')\n",
        "plt.show()\n"
      ],
      "metadata": {
        "id": "GOxfGqcy0rYv",
        "outputId": "bb55f041-1587-457b-f95b-0418c4e74df8",
        "colab": {
          "base_uri": "https://localhost:8080/",
          "height": 446
        }
      },
      "execution_count": null,
      "outputs": [
        {
          "output_type": "stream",
          "name": "stdout",
          "text": [
            "\u001b[1m1/1\u001b[0m \u001b[32m━━━━━━━━━━━━━━━━━━━━\u001b[0m\u001b[37m\u001b[0m \u001b[1m0s\u001b[0m 42ms/step\n"
          ]
        },
        {
          "output_type": "display_data",
          "data": {
            "text/plain": [
              "<Figure size 640x480 with 1 Axes>"
            ],
            "image/png": "[encoded data removed]"
          },
          "metadata": {}
        }
      ]
    },
    {
      "cell_type": "code",
      "source": [
        "# Membaca gambar (pastikan 28x28 piksel dan grayscale)\n",
        "image_path = 'Angka_3_bl.jpg'  # Ganti dengan nama file gambar kamu\n",
        "img = Image.open(image_path).convert('L')  # Convert ke grayscale\n",
        "img = img.resize((28, 28))  # Resize ke 28x28\n",
        "img_array = np.array(img)\n",
        "\n",
        "# Invers warna jika background putih (optional, tergantung gambar)\n",
        "img_array = 255 - img_array\n",
        "\n",
        "# Normalisasi dan ubah bentuk\n",
        "img_array = img_array / 255.0\n",
        "img_array = img_array.reshape(1, 28, 28, 1)\n",
        "\n",
        "# Prediksi\n",
        "prediction = model.predict(img_array)\n",
        "predicted_label = np.argmax(prediction)\n",
        "\n",
        "plt.imshow(img_array.reshape(28, 28), cmap='gray')\n",
        "plt.title(f'Prediksi: {predicted_label}')\n",
        "plt.axis('off')\n",
        "plt.show()\n"
      ],
      "metadata": {
        "id": "gS7MxZls07Y1",
        "outputId": "cc2019f1-07eb-48c3-8a67-5915a7b5d3b8",
        "colab": {
          "base_uri": "https://localhost:8080/",
          "height": 446
        }
      },
      "execution_count": null,
      "outputs": [
        {
          "output_type": "stream",
          "name": "stdout",
          "text": [
            "\u001b[1m1/1\u001b[0m \u001b[32m━━━━━━━━━━━━━━━━━━━━\u001b[0m\u001b[37m\u001b[0m \u001b[1m0s\u001b[0m 48ms/step\n"
          ]
        },
        {
          "output_type": "display_data",
          "data": {
            "text/plain": [
              "<Figure size 640x480 with 1 Axes>"
            ],
            "image/png": "[encoded data removed]"
          },
          "metadata": {}
        }
      ]
    }
  ]
}